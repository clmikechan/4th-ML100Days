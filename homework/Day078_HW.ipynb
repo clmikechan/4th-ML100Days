{
 "cells": [
  {
   "cell_type": "markdown",
   "metadata": {},
   "source": [
    "## Work\n",
    "1. 請嘗試將 preproc_x 替換成以每筆資料的 min/max 進行標準化至 -1 ~ 1 間，再進行訓練\n",
    "2. 請嘗試將 mlp 疊更深 (e.g 5~10 層)，進行訓練後觀察 learning curve 的走勢\n",
    "3. (optional) 請改用 GPU 進行訓練 (如果你有 GPU 的話)，比較使用 CPU 與 GPU 的訓練速度"
   ]
  },
  {
   "cell_type": "code",
   "execution_count": null,
   "metadata": {},
   "outputs": [],
   "source": [
    "## \n",
    "\"\"\"\n",
    "Your code here (optional)\n",
    "確認硬體資源\n",
    "\"\"\"\n",
    "!nvidia-smi.exe -l 1"
   ]
  },
  {
   "cell_type": "code",
   "execution_count": 1,
   "metadata": {},
   "outputs": [
    {
     "name": "stderr",
     "output_type": "stream",
     "text": [
      "Using TensorFlow backend.\n"
     ]
    }
   ],
   "source": [
    "import os\n",
    "import keras\n",
    "\n",
    "# 請嘗試設定 GPU：os.environ\n",
    "os.environ[\"CUDA_VISIBLE_DEVICES\"] = '0'"
   ]
  },
  {
   "cell_type": "code",
   "execution_count": 2,
   "metadata": {},
   "outputs": [],
   "source": [
    "train, test = keras.datasets.cifar10.load_data()"
   ]
  },
  {
   "cell_type": "code",
   "execution_count": 3,
   "metadata": {},
   "outputs": [],
   "source": [
    "## 資料前處理\n",
    "\"\"\"\n",
    "Your code here\n",
    "\"\"\"\n",
    "import numpy as np\n",
    "def preproc_x(x, flatten=True):\n",
    "    for i in range(x.shape[0]):\n",
    "        x[i,:] = (2 * x[i,:] - (np.max(x[i,:]) + np.min(x[i,:]))) / ((np.max(x[i,:]) - np.min(x[i,:])))\n",
    "        if flatten:\n",
    "            x = x.reshape((len(x), -1))\n",
    "        return x\n",
    "\n",
    "def preproc_y(y, num_classes=10):\n",
    "    if y.shape[-1] == 1:\n",
    "        y = keras.utils.to_categorical(y, num_classes)\n",
    "    return y    "
   ]
  },
  {
   "cell_type": "code",
   "execution_count": 4,
   "metadata": {},
   "outputs": [
    {
     "name": "stderr",
     "output_type": "stream",
     "text": [
      "C:\\ProgramData\\Anaconda3\\lib\\site-packages\\ipykernel_launcher.py:8: RuntimeWarning: overflow encountered in ubyte_scalars\n",
      "  \n"
     ]
    }
   ],
   "source": [
    "x_train, y_train = train\n",
    "x_test, y_test = test\n",
    "\n",
    "# Preproc the inputs\n",
    "x_train = preproc_x(x_train)\n",
    "x_test = preproc_x(x_test)\n",
    "\n",
    "# Preprc the outputs\n",
    "y_train = preproc_y(y_train)\n",
    "y_test = preproc_y(y_test)"
   ]
  },
  {
   "cell_type": "code",
   "execution_count": 5,
   "metadata": {},
   "outputs": [
    {
     "name": "stdout",
     "output_type": "stream",
     "text": [
      "Model: \"model_1\"\n",
      "_________________________________________________________________\n",
      "Layer (type)                 Output Shape              Param #   \n",
      "=================================================================\n",
      "input_1 (InputLayer)         (None, 3072)              0         \n",
      "_________________________________________________________________\n",
      "hidden_layer1 (Dense)        (None, 2048)              6293504   \n",
      "_________________________________________________________________\n",
      "hidden_layer2 (Dense)        (None, 1024)              2098176   \n",
      "_________________________________________________________________\n",
      "hidden_layer3 (Dense)        (None, 512)               524800    \n",
      "_________________________________________________________________\n",
      "hidden_layer4 (Dense)        (None, 256)               131328    \n",
      "_________________________________________________________________\n",
      "hidden_layer5 (Dense)        (None, 128)               32896     \n",
      "_________________________________________________________________\n",
      "output (Dense)               (None, 10)                1290      \n",
      "=================================================================\n",
      "Total params: 9,081,994\n",
      "Trainable params: 9,081,994\n",
      "Non-trainable params: 0\n",
      "_________________________________________________________________\n"
     ]
    }
   ],
   "source": [
    "\"\"\"Code Here\n",
    "建立你的神經網路\n",
    "\"\"\"\n",
    "def build_mlp(input_shape, output_units=10, num_neurons=[2048, 1024, 512, 256, 128]):\n",
    "    input_layer = keras.layers.Input(input_shape)\n",
    "    \n",
    "    for i, n_units in enumerate(num_neurons):\n",
    "        if i == 0:\n",
    "            x = keras.layers.Dense(units=n_units, activation=\"relu\", name=\"hidden_layer\"+str(i+1))(input_layer)\n",
    "        else:\n",
    "            x = keras.layers.Dense(units=n_units, activation=\"relu\", name=\"hidden_layer\"+str(i+1))(x)\n",
    "    \n",
    "    out = keras.layers.Dense(units=output_units, activation=\"softmax\", name=\"output\")(x)\n",
    "    \n",
    "    model = keras.models.Model(inputs=[input_layer], outputs=[out])\n",
    "    return model\n",
    "model = build_mlp(input_shape=x_train.shape[1:])\n",
    "model.summary()"
   ]
  },
  {
   "cell_type": "code",
   "execution_count": 6,
   "metadata": {},
   "outputs": [],
   "source": [
    "## 超參數設定\n",
    "LEARNING_RATE = 0.001\n",
    "EPOCHS = 100\n",
    "BATCH_SIZE = 256"
   ]
  },
  {
   "cell_type": "code",
   "execution_count": 7,
   "metadata": {},
   "outputs": [],
   "source": [
    "optimizer = keras.optimizers.Adam(lr=LEARNING_RATE)\n",
    "model.compile(loss=\"categorical_crossentropy\", metrics=[\"acc\"], optimizer=optimizer)"
   ]
  },
  {
   "cell_type": "code",
   "execution_count": 8,
   "metadata": {},
   "outputs": [
    {
     "name": "stdout",
     "output_type": "stream",
     "text": [
      "Train on 50000 samples, validate on 10000 samples\n",
      "Epoch 1/100\n",
      "50000/50000 [==============================] - 10s 196us/step - loss: 61.0093 - acc: 0.2208 - val_loss: 2.0026 - val_acc: 0.2803\n",
      "Epoch 2/100\n",
      "50000/50000 [==============================] - 9s 189us/step - loss: 1.8929 - acc: 0.3243 - val_loss: 1.8541 - val_acc: 0.3417\n",
      "Epoch 3/100\n",
      "50000/50000 [==============================] - 10s 195us/step - loss: 1.8044 - acc: 0.3555 - val_loss: 1.7391 - val_acc: 0.3752\n",
      "Epoch 4/100\n",
      "50000/50000 [==============================] - 10s 201us/step - loss: 1.7281 - acc: 0.3852 - val_loss: 1.7104 - val_acc: 0.3934\n",
      "Epoch 5/100\n",
      "50000/50000 [==============================] - 10s 202us/step - loss: 1.6722 - acc: 0.4061 - val_loss: 1.6727 - val_acc: 0.4036\n",
      "Epoch 6/100\n",
      "50000/50000 [==============================] - 11s 212us/step - loss: 1.6270 - acc: 0.4230 - val_loss: 1.6312 - val_acc: 0.4210\n",
      "Epoch 7/100\n",
      "50000/50000 [==============================] - 10s 207us/step - loss: 1.5998 - acc: 0.4321 - val_loss: 1.6352 - val_acc: 0.4250\n",
      "Epoch 8/100\n",
      "50000/50000 [==============================] - 11s 229us/step - loss: 1.5613 - acc: 0.4468 - val_loss: 1.6576 - val_acc: 0.4094\n",
      "Epoch 9/100\n",
      "50000/50000 [==============================] - 13s 262us/step - loss: 1.5472 - acc: 0.4491 - val_loss: 1.6269 - val_acc: 0.4189\n",
      "Epoch 10/100\n",
      "50000/50000 [==============================] - 12s 238us/step - loss: 1.5218 - acc: 0.4613 - val_loss: 1.5630 - val_acc: 0.4482\n",
      "Epoch 11/100\n",
      "50000/50000 [==============================] - 13s 252us/step - loss: 1.4978 - acc: 0.4699 - val_loss: 1.6315 - val_acc: 0.4223\n",
      "Epoch 12/100\n",
      "50000/50000 [==============================] - 11s 227us/step - loss: 1.4827 - acc: 0.4738 - val_loss: 1.5600 - val_acc: 0.4517\n",
      "Epoch 13/100\n",
      "50000/50000 [==============================] - 15s 306us/step - loss: 1.4660 - acc: 0.4786 - val_loss: 1.5221 - val_acc: 0.4627\n",
      "Epoch 14/100\n",
      "50000/50000 [==============================] - 15s 296us/step - loss: 1.4577 - acc: 0.4846 - val_loss: 1.5210 - val_acc: 0.4670\n",
      "Epoch 15/100\n",
      "50000/50000 [==============================] - 13s 268us/step - loss: 1.4276 - acc: 0.4942 - val_loss: 1.4776 - val_acc: 0.4803\n",
      "Epoch 16/100\n",
      "50000/50000 [==============================] - 17s 334us/step - loss: 1.4172 - acc: 0.4991 - val_loss: 1.5884 - val_acc: 0.4406\n",
      "Epoch 17/100\n",
      "50000/50000 [==============================] - 17s 340us/step - loss: 1.4077 - acc: 0.5005 - val_loss: 1.4865 - val_acc: 0.4765\n",
      "Epoch 18/100\n",
      "50000/50000 [==============================] - 17s 342us/step - loss: 1.3928 - acc: 0.5045 - val_loss: 1.5307 - val_acc: 0.4610\n",
      "Epoch 19/100\n",
      "50000/50000 [==============================] - 16s 327us/step - loss: 1.4043 - acc: 0.4999 - val_loss: 1.4826 - val_acc: 0.4738\n",
      "Epoch 20/100\n",
      "50000/50000 [==============================] - 18s 361us/step - loss: 1.3826 - acc: 0.5096 - val_loss: 1.5670 - val_acc: 0.4520\n",
      "Epoch 21/100\n",
      "50000/50000 [==============================] - 18s 364us/step - loss: 1.3627 - acc: 0.5156 - val_loss: 1.4643 - val_acc: 0.4755\n",
      "Epoch 22/100\n",
      "50000/50000 [==============================] - 23s 466us/step - loss: 1.3638 - acc: 0.5145 - val_loss: 1.4896 - val_acc: 0.4755\n",
      "Epoch 23/100\n",
      "50000/50000 [==============================] - 26s 520us/step - loss: 1.3306 - acc: 0.5259 - val_loss: 1.5069 - val_acc: 0.4673\n",
      "Epoch 24/100\n",
      "50000/50000 [==============================] - 18s 364us/step - loss: 1.3364 - acc: 0.5229 - val_loss: 1.4889 - val_acc: 0.4693\n",
      "Epoch 25/100\n",
      "50000/50000 [==============================] - 18s 364us/step - loss: 1.3143 - acc: 0.5331 - val_loss: 1.4635 - val_acc: 0.4895\n",
      "Epoch 26/100\n",
      "50000/50000 [==============================] - 24s 490us/step - loss: 1.3140 - acc: 0.5307 - val_loss: 1.5009 - val_acc: 0.4781\n",
      "Epoch 27/100\n",
      "50000/50000 [==============================] - 22s 443us/step - loss: 1.3062 - acc: 0.5346 - val_loss: 1.4641 - val_acc: 0.4831\n",
      "Epoch 28/100\n",
      "50000/50000 [==============================] - 27s 545us/step - loss: 1.2888 - acc: 0.5426 - val_loss: 1.5011 - val_acc: 0.4754\n",
      "Epoch 29/100\n",
      "50000/50000 [==============================] - 19s 388us/step - loss: 1.2833 - acc: 0.5432 - val_loss: 1.4646 - val_acc: 0.4853\n",
      "Epoch 30/100\n",
      "50000/50000 [==============================] - 25s 495us/step - loss: 1.2639 - acc: 0.5489 - val_loss: 1.4517 - val_acc: 0.4953\n",
      "Epoch 31/100\n",
      "50000/50000 [==============================] - 18s 363us/step - loss: 1.2531 - acc: 0.5532 - val_loss: 1.4746 - val_acc: 0.4909\n",
      "Epoch 32/100\n",
      "50000/50000 [==============================] - 29s 573us/step - loss: 1.2570 - acc: 0.5533 - val_loss: 1.5214 - val_acc: 0.4798\n",
      "Epoch 33/100\n",
      "50000/50000 [==============================] - 30s 596us/step - loss: 1.2397 - acc: 0.5592 - val_loss: 1.6030 - val_acc: 0.4553\n",
      "Epoch 34/100\n",
      "50000/50000 [==============================] - 26s 525us/step - loss: 1.2345 - acc: 0.5611 - val_loss: 1.5000 - val_acc: 0.4908 2s - loss: 1.233\n",
      "Epoch 35/100\n",
      "50000/50000 [==============================] - 18s 365us/step - loss: 1.2174 - acc: 0.5642 - val_loss: 1.5220 - val_acc: 0.4747\n",
      "Epoch 36/100\n",
      "50000/50000 [==============================] - 24s 489us/step - loss: 1.2085 - acc: 0.5691 - val_loss: 1.4678 - val_acc: 0.4911\n",
      "Epoch 37/100\n",
      "50000/50000 [==============================] - 28s 566us/step - loss: 1.1972 - acc: 0.5753 - val_loss: 1.5004 - val_acc: 0.4829\n",
      "Epoch 38/100\n",
      "50000/50000 [==============================] - 31s 615us/step - loss: 1.2019 - acc: 0.5689 - val_loss: 1.4513 - val_acc: 0.4988\n",
      "Epoch 39/100\n",
      "50000/50000 [==============================] - 29s 575us/step - loss: 1.1893 - acc: 0.5772 - val_loss: 1.5107 - val_acc: 0.4818\n",
      "Epoch 40/100\n",
      "50000/50000 [==============================] - 22s 433us/step - loss: 1.1743 - acc: 0.5825 - val_loss: 1.4519 - val_acc: 0.5087\n",
      "Epoch 41/100\n",
      "50000/50000 [==============================] - 18s 363us/step - loss: 1.1636 - acc: 0.5839 - val_loss: 1.5117 - val_acc: 0.4840\n",
      "Epoch 42/100\n",
      "50000/50000 [==============================] - 27s 546us/step - loss: 1.1570 - acc: 0.5893 - val_loss: 1.4971 - val_acc: 0.4999\n",
      "Epoch 43/100\n",
      "50000/50000 [==============================] - 22s 447us/step - loss: 1.1286 - acc: 0.5981 - val_loss: 1.4998 - val_acc: 0.4970\n",
      "Epoch 44/100\n",
      "50000/50000 [==============================] - 23s 453us/step - loss: 1.1475 - acc: 0.5895 - val_loss: 1.5204 - val_acc: 0.4965\n",
      "Epoch 45/100\n",
      "50000/50000 [==============================] - 18s 364us/step - loss: 1.1214 - acc: 0.6004 - val_loss: 1.4759 - val_acc: 0.5127\n",
      "Epoch 46/100\n",
      "50000/50000 [==============================] - 19s 374us/step - loss: 1.1032 - acc: 0.6074 - val_loss: 1.5257 - val_acc: 0.4913\n",
      "Epoch 47/100\n",
      "50000/50000 [==============================] - 21s 412us/step - loss: 1.0945 - acc: 0.6093 - val_loss: 1.5785 - val_acc: 0.4928\n",
      "Epoch 48/100\n",
      "50000/50000 [==============================] - 18s 363us/step - loss: 1.0802 - acc: 0.6167 - val_loss: 1.5590 - val_acc: 0.4963\n",
      "Epoch 49/100\n",
      "50000/50000 [==============================] - 23s 466us/step - loss: 1.0676 - acc: 0.6172 - val_loss: 1.5837 - val_acc: 0.4888\n",
      "Epoch 50/100\n",
      "50000/50000 [==============================] - 31s 627us/step - loss: 1.0530 - acc: 0.6221 - val_loss: 1.5621 - val_acc: 0.4979\n",
      "Epoch 51/100\n",
      "50000/50000 [==============================] - 23s 451us/step - loss: 1.0655 - acc: 0.6203 - val_loss: 1.5326 - val_acc: 0.4966\n",
      "Epoch 52/100\n",
      "50000/50000 [==============================] - 24s 475us/step - loss: 1.0537 - acc: 0.6273 - val_loss: 1.5158 - val_acc: 0.4931\n",
      "Epoch 53/100\n",
      "50000/50000 [==============================] - 22s 443us/step - loss: 1.0266 - acc: 0.6344 - val_loss: 1.6591 - val_acc: 0.4913\n",
      "Epoch 54/100\n",
      "50000/50000 [==============================] - 25s 509us/step - loss: 1.0161 - acc: 0.6394 - val_loss: 1.5622 - val_acc: 0.4955\n",
      "Epoch 55/100\n",
      "50000/50000 [==============================] - 18s 364us/step - loss: 0.9989 - acc: 0.6438 - val_loss: 1.5819 - val_acc: 0.4926\n",
      "Epoch 56/100\n",
      "50000/50000 [==============================] - 31s 627us/step - loss: 0.9796 - acc: 0.6532 - val_loss: 1.5617 - val_acc: 0.5063\n",
      "Epoch 57/100\n",
      "50000/50000 [==============================] - 28s 568us/step - loss: 0.9764 - acc: 0.6529 - val_loss: 1.6272 - val_acc: 0.5010\n",
      "Epoch 58/100\n",
      "50000/50000 [==============================] - 25s 492us/step - loss: 0.9535 - acc: 0.6610 - val_loss: 1.5869 - val_acc: 0.5083\n"
     ]
    },
    {
     "name": "stdout",
     "output_type": "stream",
     "text": [
      "Epoch 59/100\n",
      "50000/50000 [==============================] - 22s 433us/step - loss: 0.9288 - acc: 0.6687 - val_loss: 1.6136 - val_acc: 0.4979\n",
      "Epoch 60/100\n",
      "50000/50000 [==============================] - 31s 628us/step - loss: 0.9330 - acc: 0.6694 - val_loss: 1.6761 - val_acc: 0.4969\n",
      "Epoch 61/100\n",
      "50000/50000 [==============================] - 30s 604us/step - loss: 0.9091 - acc: 0.6782 - val_loss: 1.7202 - val_acc: 0.4895\n",
      "Epoch 62/100\n",
      "50000/50000 [==============================] - 20s 406us/step - loss: 0.9065 - acc: 0.6777 - val_loss: 1.6985 - val_acc: 0.4989\n",
      "Epoch 63/100\n",
      "50000/50000 [==============================] - 31s 617us/step - loss: 0.9158 - acc: 0.6756 - val_loss: 1.6336 - val_acc: 0.5077\n",
      "Epoch 64/100\n",
      "50000/50000 [==============================] - 31s 627us/step - loss: 0.8860 - acc: 0.6852 - val_loss: 1.6995 - val_acc: 0.5051\n",
      "Epoch 65/100\n",
      "50000/50000 [==============================] - 28s 566us/step - loss: 0.8633 - acc: 0.6928 - val_loss: 1.7552 - val_acc: 0.5028\n",
      "Epoch 66/100\n",
      "50000/50000 [==============================] - 22s 444us/step - loss: 0.8290 - acc: 0.7051 - val_loss: 1.6896 - val_acc: 0.5145\n",
      "Epoch 67/100\n",
      "50000/50000 [==============================] - 18s 363us/step - loss: 0.8211 - acc: 0.7084 - val_loss: 1.7040 - val_acc: 0.4903\n",
      "Epoch 68/100\n",
      "50000/50000 [==============================] - 27s 540us/step - loss: 0.8041 - acc: 0.7136 - val_loss: 1.8248 - val_acc: 0.5018\n",
      "Epoch 69/100\n",
      "50000/50000 [==============================] - 22s 440us/step - loss: 0.8202 - acc: 0.7077 - val_loss: 1.7940 - val_acc: 0.4937\n",
      "Epoch 70/100\n",
      "50000/50000 [==============================] - 18s 368us/step - loss: 0.7833 - acc: 0.7227 - val_loss: 1.8169 - val_acc: 0.5053\n",
      "Epoch 71/100\n",
      "50000/50000 [==============================] - 18s 356us/step - loss: 0.7608 - acc: 0.7290 - val_loss: 1.8469 - val_acc: 0.5070\n",
      "Epoch 72/100\n",
      "50000/50000 [==============================] - 18s 362us/step - loss: 0.7788 - acc: 0.7234 - val_loss: 1.9206 - val_acc: 0.4996\n",
      "Epoch 73/100\n",
      "50000/50000 [==============================] - 18s 360us/step - loss: 0.7462 - acc: 0.7382 - val_loss: 1.9388 - val_acc: 0.4941\n",
      "Epoch 74/100\n",
      "50000/50000 [==============================] - 18s 361us/step - loss: 0.7529 - acc: 0.7324 - val_loss: 1.8718 - val_acc: 0.5138\n",
      "Epoch 75/100\n",
      "50000/50000 [==============================] - 18s 362us/step - loss: 0.7269 - acc: 0.7430 - val_loss: 1.8962 - val_acc: 0.5048\n",
      "Epoch 76/100\n",
      "50000/50000 [==============================] - 25s 498us/step - loss: 0.7014 - acc: 0.7508 - val_loss: 1.9621 - val_acc: 0.5068\n",
      "Epoch 77/100\n",
      "50000/50000 [==============================] - 19s 390us/step - loss: 0.6866 - acc: 0.7577 - val_loss: 2.0402 - val_acc: 0.5080\n",
      "Epoch 78/100\n",
      "50000/50000 [==============================] - 20s 391us/step - loss: 0.6572 - acc: 0.7675 - val_loss: 2.0586 - val_acc: 0.5024\n",
      "Epoch 79/100\n",
      "50000/50000 [==============================] - 22s 430us/step - loss: 0.6659 - acc: 0.7662 - val_loss: 2.0509 - val_acc: 0.4985\n",
      "Epoch 80/100\n",
      "50000/50000 [==============================] - 18s 362us/step - loss: 0.6482 - acc: 0.7690 - val_loss: 2.0186 - val_acc: 0.5060\n",
      "Epoch 81/100\n",
      "50000/50000 [==============================] - 19s 371us/step - loss: 0.6445 - acc: 0.7731 - val_loss: 2.0723 - val_acc: 0.5128\n",
      "Epoch 82/100\n",
      "50000/50000 [==============================] - 18s 364us/step - loss: 0.6188 - acc: 0.7808 - val_loss: 2.2915 - val_acc: 0.5036\n",
      "Epoch 83/100\n",
      "50000/50000 [==============================] - 28s 551us/step - loss: 0.6164 - acc: 0.7812 - val_loss: 2.1244 - val_acc: 0.4950\n",
      "Epoch 84/100\n",
      "50000/50000 [==============================] - 30s 603us/step - loss: 0.5919 - acc: 0.7931 - val_loss: 2.1664 - val_acc: 0.5202\n",
      "Epoch 85/100\n",
      "50000/50000 [==============================] - 29s 570us/step - loss: 0.5803 - acc: 0.7955 - val_loss: 2.2375 - val_acc: 0.4985\n",
      "Epoch 86/100\n",
      "50000/50000 [==============================] - 25s 501us/step - loss: 0.5845 - acc: 0.7937 - val_loss: 2.2467 - val_acc: 0.5006\n",
      "Epoch 87/100\n",
      "50000/50000 [==============================] - 23s 470us/step - loss: 0.5655 - acc: 0.8005 - val_loss: 2.2142 - val_acc: 0.5047\n",
      "Epoch 88/100\n",
      "50000/50000 [==============================] - 27s 532us/step - loss: 0.5607 - acc: 0.8028 - val_loss: 2.2462 - val_acc: 0.5082\n",
      "Epoch 89/100\n",
      "50000/50000 [==============================] - 18s 364us/step - loss: 0.5198 - acc: 0.8166 - val_loss: 2.3716 - val_acc: 0.4996\n",
      "Epoch 90/100\n",
      "50000/50000 [==============================] - 30s 602us/step - loss: 0.5406 - acc: 0.8112 - val_loss: 2.3718 - val_acc: 0.4957\n",
      "Epoch 91/100\n",
      "50000/50000 [==============================] - 28s 563us/step - loss: 0.5192 - acc: 0.8176 - val_loss: 2.3449 - val_acc: 0.5022\n",
      "Epoch 92/100\n",
      "50000/50000 [==============================] - 21s 423us/step - loss: 0.5052 - acc: 0.8219 - val_loss: 2.4007 - val_acc: 0.5089\n",
      "Epoch 93/100\n",
      "50000/50000 [==============================] - 31s 627us/step - loss: 0.4912 - acc: 0.8275 - val_loss: 2.4855 - val_acc: 0.5064\n",
      "Epoch 94/100\n",
      "50000/50000 [==============================] - 25s 504us/step - loss: 0.5152 - acc: 0.8202 - val_loss: 2.3431 - val_acc: 0.5117\n",
      "Epoch 95/100\n",
      "50000/50000 [==============================] - 31s 627us/step - loss: 0.4627 - acc: 0.8390 - val_loss: 2.3959 - val_acc: 0.5090\n",
      "Epoch 96/100\n",
      "50000/50000 [==============================] - 27s 548us/step - loss: 0.4670 - acc: 0.8358 - val_loss: 2.3923 - val_acc: 0.5141\n",
      "Epoch 97/100\n",
      "50000/50000 [==============================] - 22s 437us/step - loss: 0.4565 - acc: 0.8417 - val_loss: 2.5104 - val_acc: 0.5019\n",
      "Epoch 98/100\n",
      "50000/50000 [==============================] - 28s 554us/step - loss: 0.4439 - acc: 0.8455 - val_loss: 2.5906 - val_acc: 0.4912\n",
      "Epoch 99/100\n",
      "50000/50000 [==============================] - 31s 628us/step - loss: 0.4489 - acc: 0.8444 - val_loss: 2.5540 - val_acc: 0.4993\n",
      "Epoch 100/100\n",
      "50000/50000 [==============================] - 31s 628us/step - loss: 0.4110 - acc: 0.8553 - val_loss: 2.7205 - val_acc: 0.5008\n"
     ]
    },
    {
     "data": {
      "text/plain": [
       "<keras.callbacks.callbacks.History at 0x1a5dca7f508>"
      ]
     },
     "execution_count": 8,
     "metadata": {},
     "output_type": "execute_result"
    }
   ],
   "source": [
    "model.fit(x_train, y_train, \n",
    "          epochs=EPOCHS, \n",
    "          batch_size=BATCH_SIZE, \n",
    "          validation_data=(x_test, y_test), \n",
    "          shuffle=True)"
   ]
  },
  {
   "cell_type": "code",
   "execution_count": 10,
   "metadata": {},
   "outputs": [
    {
     "data": {
      "image/png": "[encoded data removed]",
      "text/plain": [
       "<Figure size 432x288 with 1 Axes>"
      ]
     },
     "metadata": {
      "needs_background": "light"
     },
     "output_type": "display_data"
    },
    {
     "data": {
      "image/png": "[encoded data removed]",
      "text/plain": [
       "<Figure size 432x288 with 1 Axes>"
      ]
     },
     "metadata": {
      "needs_background": "light"
     },
     "output_type": "display_data"
    }
   ],
   "source": [
    "import matplotlib.pyplot as plt\n",
    "\n",
    "\n",
    "train_loss = model.history.history[\"loss\"]\n",
    "valid_loss = model.history.history[\"val_loss\"]\n",
    "\n",
    "train_acc = model.history.history[\"acc\"]\n",
    "valid_acc = model.history.history[\"val_acc\"]\n",
    "\n",
    "plt.plot(range(len(train_loss)), train_loss, label=\"train loss\")\n",
    "plt.plot(range(len(valid_loss)), valid_loss, label=\"valid loss\")\n",
    "plt.legend()\n",
    "plt.title(\"Loss\")\n",
    "plt.show()\n",
    "\n",
    "plt.plot(range(len(train_acc)), train_acc, label=\"train accuracy\")\n",
    "plt.plot(range(len(valid_acc)), valid_acc, label=\"valid accuracy\")\n",
    "plt.legend()\n",
    "plt.title(\"Accuracy\")\n",
    "plt.show()"
   ]
  },
  {
   "cell_type": "code",
   "execution_count": null,
   "metadata": {},
   "outputs": [],
   "source": []
  }
 ],
 "metadata": {
  "kernelspec": {
   "display_name": "Python 3",
   "language": "python",
   "name": "python3"
  },
  "language_info": {
   "codemirror_mode": {
    "name": "ipython",
    "version": 3
   },
   "file_extension": ".py",
   "mimetype": "text/x-python",
   "name": "python",
   "nbconvert_exporter": "python",
   "pygments_lexer": "ipython3",
   "version": "3.7.4"
  }
 },
 "nbformat": 4,
 "nbformat_minor": 2
}
