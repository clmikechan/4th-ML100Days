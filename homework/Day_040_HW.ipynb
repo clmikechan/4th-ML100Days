{
 "cells": [
  {
   "cell_type": "markdown",
   "metadata": {},
   "source": [
    "## [作業重點]\n",
    "使用 Sklearn 中的 Lasso, Ridge 模型，來訓練各種資料集，務必了解送進去模型訓練的**資料型態**為何，也請了解模型中各項參數的意義。\n",
    "\n",
    "機器學習的模型非常多種，但要訓練的資料多半有固定的格式，確保你了解訓練資料的格式為何，這樣在應用新模型時，就能夠最快的上手開始訓練！"
   ]
  },
  {
   "cell_type": "markdown",
   "metadata": {},
   "source": [
    "## 練習時間\n",
    "試著使用 sklearn datasets 的其他資料集 (boston, ...)，來訓練自己的線性迴歸模型，並加上適當的正則化來觀察訓練情形。"
   ]
  },
  {
   "cell_type": "code",
   "execution_count": 1,
   "metadata": {},
   "outputs": [],
   "source": [
    "import numpy as np\n",
    "import matplotlib.pyplot as plt\n",
    "from sklearn import datasets, linear_model\n",
    "from sklearn.model_selection import train_test_split\n",
    "from sklearn.metrics import mean_squared_error, r2_score"
   ]
  },
  {
   "cell_type": "code",
   "execution_count": 2,
   "metadata": {},
   "outputs": [],
   "source": [
    "# 讀取 Boston 資料集\n",
    "boston = datasets.load_boston()\n",
    "\n",
    "# 切分訓練集/測試集\n",
    "x_train, x_test, y_train, y_test = train_test_split(boston.data, boston.target, test_size=0.1, random_state=4)\n",
    "\n",
    "# 建立一個線性回歸模型\n",
    "regr = linear_model.LinearRegression()\n",
    "\n",
    "# 將訓練資料丟進去模型訓練\n",
    "regr.fit(x_train, y_train)\n",
    "\n",
    "# 將測試資料丟進模型得到預測結果\n",
    "y_pred = regr.predict(x_test)"
   ]
  },
  {
   "cell_type": "code",
   "execution_count": 3,
   "metadata": {},
   "outputs": [
    {
     "data": {
      "text/plain": [
       "array([11.46030778, 26.80269335, 17.43478925, 17.5563101 , 37.39156424,\n",
       "       25.07675556, 31.05825852, 20.30845531, 19.66757374, 22.82655375,\n",
       "       28.47083056, 28.53331605, 18.72883256, 33.11375161, 21.34282974,\n",
       "       15.20554693, 21.57309275, 10.92841589, 11.69603405, 13.54311508,\n",
       "        5.07126801, 17.40464043, 20.69379268, 22.72981238, 16.4634139 ,\n",
       "       20.42666271, 17.53377349, 14.22644356, 21.56292745, 17.33136115,\n",
       "       14.28888479, 23.92829804, 34.31523522, 22.03799035, 17.47895779,\n",
       "       20.20386005, 30.70896335, 35.21599528, 24.07063567, 24.51445184,\n",
       "       36.77425366, 33.15265201, 19.67545976, 31.93505104, 33.55222906,\n",
       "       25.59147737, 40.59239607, 17.99555017, 19.92780188, 23.65319423,\n",
       "       33.48950986])"
      ]
     },
     "execution_count": 3,
     "metadata": {},
     "output_type": "execute_result"
    }
   ],
   "source": [
    "y_pred"
   ]
  },
  {
   "cell_type": "code",
   "execution_count": 4,
   "metadata": {},
   "outputs": [
    {
     "name": "stdout",
     "output_type": "stream",
     "text": [
      "[-1.25856659e-01  4.84257396e-02  1.84085281e-02  3.08509569e+00\n",
      " -1.73277018e+01  3.61674713e+00  2.19181853e-03 -1.49361132e+00\n",
      "  3.19979200e-01 -1.27294649e-02 -9.27469086e-01  9.50912468e-03\n",
      " -5.33592471e-01]\n"
     ]
    }
   ],
   "source": [
    "print(regr.coef_)"
   ]
  },
  {
   "cell_type": "code",
   "execution_count": 5,
   "metadata": {},
   "outputs": [
    {
     "name": "stdout",
     "output_type": "stream",
     "text": [
      "Mean squared error: 17.04\n"
     ]
    }
   ],
   "source": [
    "# 預測值與實際值的差距，使用 MSE\n",
    "print(\"Mean squared error: %.2f\"\n",
    "      % mean_squared_error(y_test, y_pred))"
   ]
  },
  {
   "cell_type": "code",
   "execution_count": 6,
   "metadata": {},
   "outputs": [],
   "source": [
    "# 建立一個線性回歸模型\n",
    "lasso = linear_model.Lasso(alpha=1.0)\n",
    "\n",
    "# 將訓練資料丟進去模型訓練\n",
    "lasso.fit(x_train, y_train)\n",
    "\n",
    "# 將測試資料丟進模型得到預測結果\n",
    "y_pred2 = lasso.predict(x_test)"
   ]
  },
  {
   "cell_type": "code",
   "execution_count": 7,
   "metadata": {},
   "outputs": [
    {
     "data": {
      "text/plain": [
       "array([10.98845397, 26.26733735, 18.84027042, 14.03396535, 33.9161886 ,\n",
       "       24.21323798, 31.36554042, 18.9196332 , 15.69351869, 23.38789944,\n",
       "       29.09906859, 28.1805469 , 21.22869297, 30.95079178, 22.09159482,\n",
       "       14.50252492, 23.73770771,  8.12869234, 13.23494213, 16.37186703,\n",
       "        8.45343784, 22.13333462, 21.00862599, 21.97599589, 19.37901832,\n",
       "       20.3699175 , 14.80291144, 15.53809506, 20.14113844, 16.56301773,\n",
       "       12.81548494, 27.07977642, 32.05780762, 22.78035352, 18.77018175,\n",
       "       16.7032285 , 29.23804465, 31.21772803, 26.72122522, 24.94116917,\n",
       "       33.73331724, 32.4775655 , 20.13647962, 30.71577076, 28.2870268 ,\n",
       "       26.4729775 , 36.89948701, 17.97236918, 20.82882567, 23.50832122,\n",
       "       32.80209832])"
      ]
     },
     "execution_count": 7,
     "metadata": {},
     "output_type": "execute_result"
    }
   ],
   "source": [
    "y_pred2"
   ]
  },
  {
   "cell_type": "code",
   "execution_count": 8,
   "metadata": {},
   "outputs": [
    {
     "data": {
      "text/plain": [
       "array([-0.07256057,  0.04967103, -0.        ,  0.        , -0.        ,\n",
       "        0.80886056,  0.02328171, -0.68444051,  0.26862528, -0.01526566,\n",
       "       -0.71692899,  0.00828412, -0.77123108])"
      ]
     },
     "execution_count": 8,
     "metadata": {},
     "output_type": "execute_result"
    }
   ],
   "source": [
    "# 印出各特徵對應的係數，可以看到許多係數都變成 0，Lasso Regression 的確可以做特徵選取\n",
    "lasso.coef_"
   ]
  },
  {
   "cell_type": "code",
   "execution_count": 9,
   "metadata": {},
   "outputs": [
    {
     "name": "stdout",
     "output_type": "stream",
     "text": [
      "Mean squared error: 23.24\n"
     ]
    }
   ],
   "source": [
    "# 預測值與實際值的差距，使用 MSE\n",
    "print(\"Mean squared error: %.2f\"\n",
    "      % mean_squared_error(y_test, y_pred2))"
   ]
  },
  {
   "cell_type": "markdown",
   "metadata": {},
   "source": [
    "加入 $\\alpha = 1.0$ 之 Lasso 之後 MSE 反而變大"
   ]
  },
  {
   "cell_type": "code",
   "execution_count": 10,
   "metadata": {},
   "outputs": [
    {
     "name": "stdout",
     "output_type": "stream",
     "text": [
      "Mean squared error: 19.66\n"
     ]
    }
   ],
   "source": [
    "# 建立一個線性回歸模型\n",
    "lasso2 = linear_model.Lasso(alpha=0.5)\n",
    "\n",
    "# 將訓練資料丟進去模型訓練\n",
    "lasso2.fit(x_train, y_train)\n",
    "\n",
    "# 將測試資料丟進模型得到預測結果\n",
    "y_pred3 = lasso2.predict(x_test)\n",
    "\n",
    "print(\"Mean squared error: %.2f\"\n",
    "      % mean_squared_error(y_test, y_pred3))"
   ]
  },
  {
   "cell_type": "markdown",
   "metadata": {},
   "source": [
    "加入  $\\alpha = 0.5$ 之 Lasso 之後 MSE 仍然變大, 但是比 $\\alpha = 0.1$ 時小"
   ]
  },
  {
   "cell_type": "markdown",
   "metadata": {},
   "source": [
    "一次測試多種不同的 $\\alpha$ 值"
   ]
  },
  {
   "cell_type": "code",
   "execution_count": 11,
   "metadata": {},
   "outputs": [
    {
     "name": "stdout",
     "output_type": "stream",
     "text": [
      "Mean squared error for alpha =  0.1: 18.19\n",
      "Mean squared error for alpha =  0.2: 18.42\n",
      "Mean squared error for alpha =  0.3: 18.77\n",
      "Mean squared error for alpha =  0.4: 19.17\n",
      "Mean squared error for alpha =  0.5: 19.66\n",
      "Mean squared error for alpha =  0.6: 20.22\n",
      "Mean squared error for alpha =  0.7: 20.85\n",
      "Mean squared error for alpha =  0.8: 21.57\n",
      "Mean squared error for alpha =  0.9: 22.37\n",
      "Mean squared error for alpha =  1.0: 23.24\n",
      "Mean squared error for alpha =  1.1: 24.19\n",
      "Mean squared error for alpha =  1.2: 25.22\n",
      "Mean squared error for alpha =  1.3: 26.01\n",
      "Mean squared error for alpha =  1.4: 26.29\n",
      "Mean squared error for alpha =  1.5: 26.60\n",
      "Mean squared error for alpha =  1.6: 26.94\n",
      "Mean squared error for alpha =  1.7: 27.29\n",
      "Mean squared error for alpha =  1.8: 27.68\n",
      "Mean squared error for alpha =  1.9: 28.08\n",
      "Mean squared error for alpha =  2.0: 28.51\n"
     ]
    }
   ],
   "source": [
    "MSEs = []\n",
    "coefs = []\n",
    "for i in range(1, 21):\n",
    "    # 建立一個線性回歸模型\n",
    "    l = linear_model.Lasso(alpha=0.1 * i)\n",
    "    # 將訓練資料丟進去模型訓練\n",
    "    l.fit(x_train, y_train)\n",
    "    # 將測試資料丟進模型得到預測結果\n",
    "    y_pred4 = l.predict(x_test)\n",
    "    MSE = mean_squared_error(y_test, y_pred4)\n",
    "    MSEs.append(MSE)\n",
    "    coefs.append(l.coef_)\n",
    "    print(f\"Mean squared error for alpha =  {0.1 * i:.1f}: {MSE:.2f}\")"
   ]
  },
  {
   "cell_type": "code",
   "execution_count": 12,
   "metadata": {},
   "outputs": [
    {
     "name": "stdout",
     "output_type": "stream",
     "text": [
      "when alpha = 0.1, there is the minimal value of MSE, 18.19.\n"
     ]
    }
   ],
   "source": [
    "min_ = min(MSEs)\n",
    "min_index = MSEs.index(min_)\n",
    "print(f\"when alpha = {0.1 * (min_index + 1):.1f}, there is the minimal value of MSE, {min_:.2f}.\")"
   ]
  },
  {
   "cell_type": "markdown",
   "metadata": {},
   "source": [
    "可以看出以 0.1 為單位遞增, MSE 之最小值大約在 $\\alpha = 0.1$ 時(但是還是比沒使用 lasso 大)"
   ]
  },
  {
   "cell_type": "markdown",
   "metadata": {},
   "source": [
    "其對應的係數"
   ]
  },
  {
   "cell_type": "code",
   "execution_count": 13,
   "metadata": {},
   "outputs": [
    {
     "name": "stdout",
     "output_type": "stream",
     "text": [
      "[-0.11567831  0.05152311 -0.03346275  1.2230427  -0.          3.53216363\n",
      " -0.00922692 -1.19460642  0.28775344 -0.01473748 -0.75732817  0.01037228\n",
      " -0.58007751]\n"
     ]
    }
   ],
   "source": [
    "print(coefs[min_index])"
   ]
  },
  {
   "cell_type": "markdown",
   "metadata": {},
   "source": [
    "- 比較 (未使用lasso 之係數 - 使用 lasso 之係數) / (未使用lasso 之係數)\n",
    "\n",
    "接近 0: 經過 lasso 後該項係數幾乎沒改變\n",
    "\n",
    "接近 1: 經過 lasso 後該項係數幾乎被消除\n",
    "\n",
    "其他情形: 變成別的值"
   ]
  },
  {
   "cell_type": "code",
   "execution_count": 14,
   "metadata": {},
   "outputs": [
    {
     "name": "stdout",
     "output_type": "stream",
     "text": [
      "CRIM      : +0.08087\n",
      "ZN        : -0.06396\n",
      "INDUS     : +2.81779\n",
      "CHAS      : +0.60356\n",
      "NOX       : +1.00000\n",
      "RM        : +0.02339\n",
      "AGE       : +5.20971\n",
      "DIS       : +0.20019\n",
      "RAD       : +0.10071\n",
      "TAX       : -0.15775\n",
      "PTRATIO   : +0.18345\n",
      "B         : -0.09077\n",
      "LSTAT     : -0.08712\n"
     ]
    }
   ],
   "source": [
    "for fld, val in zip(boston.feature_names, (regr.coef_ - coefs[min_index])/regr.coef_):\n",
    "    print(f\"{fld:10}: {val:+.5f}\")"
   ]
  },
  {
   "cell_type": "markdown",
   "metadata": {},
   "source": [
    "- 改變最少的是 RM\n",
    "- 係數變 0 的有 NOX"
   ]
  },
  {
   "cell_type": "markdown",
   "metadata": {},
   "source": [
    "改用 Ridge"
   ]
  },
  {
   "cell_type": "code",
   "execution_count": 15,
   "metadata": {},
   "outputs": [
    {
     "name": "stdout",
     "output_type": "stream",
     "text": [
      "when alpha = 0.1, there is the minimal value of MSE, 17.07.\n"
     ]
    }
   ],
   "source": [
    "MSE2s = []\n",
    "coef2s = []\n",
    "for i in range(1, 21):\n",
    "    # 建立一個線性回歸模型\n",
    "    r = linear_model.Ridge(alpha=0.1 * i)\n",
    "    # 將訓練資料丟進去模型訓練\n",
    "    r.fit(x_train, y_train)\n",
    "    # 將測試資料丟進模型得到預測結果\n",
    "    y_pred5 = r.predict(x_test)\n",
    "    MSE = mean_squared_error(y_test, y_pred5)\n",
    "    MSE2s.append(MSE)\n",
    "    coef2s.append(r.coef_)\n",
    "    #print(f\"Mean squared error for alpha =  {0.1 * i:.1f}: {MSE:.2f}\")\n",
    "\n",
    "min2_ = min(MSE2s)\n",
    "min_index2 = MSE2s.index(min2_)\n",
    "print(f\"when alpha = {0.1 * (min_index + 1):.1f}, there is the minimal value of MSE, {min2_:.2f}.\")"
   ]
  },
  {
   "cell_type": "code",
   "execution_count": 16,
   "metadata": {},
   "outputs": [
    {
     "name": "stdout",
     "output_type": "stream",
     "text": [
      "[-0.11567831  0.05152311 -0.03346275  1.2230427  -0.          3.53216363\n",
      " -0.00922692 -1.19460642  0.28775344 -0.01473748 -0.75732817  0.01037228\n",
      " -0.58007751]\n"
     ]
    }
   ],
   "source": [
    "print(coefs[min_index])"
   ]
  },
  {
   "cell_type": "code",
   "execution_count": 17,
   "metadata": {},
   "outputs": [
    {
     "name": "stdout",
     "output_type": "stream",
     "text": [
      "CRIM      : +0.00438\n",
      "ZN        : -0.00353\n",
      "INDUS     : +0.26398\n",
      "CHAS      : +0.00825\n",
      "NOX       : +0.06763\n",
      "RM        : -0.00269\n",
      "AGE       : +0.49444\n",
      "DIS       : +0.01117\n",
      "RAD       : +0.00917\n",
      "TAX       : -0.00592\n",
      "PTRATIO   : +0.01321\n",
      "B         : -0.00608\n",
      "LSTAT     : -0.00277\n"
     ]
    }
   ],
   "source": [
    "for fld, val in zip(boston.feature_names, (regr.coef_ - coef2s[min_index])/regr.coef_):\n",
    "    print(f\"{fld:10}: {val:+.5f}\")"
   ]
  },
  {
   "cell_type": "markdown",
   "metadata": {},
   "source": [
    "沒有一項是變成 0\n",
    "係數改變最少的仍然是 RM"
   ]
  },
  {
   "cell_type": "markdown",
   "metadata": {},
   "source": [
    "RM 之係數"
   ]
  },
  {
   "cell_type": "code",
   "execution_count": 18,
   "metadata": {},
   "outputs": [
    {
     "data": {
      "text/plain": [
       "array([3.61674713])"
      ]
     },
     "execution_count": 18,
     "metadata": {},
     "output_type": "execute_result"
    }
   ],
   "source": [
    "regr.coef_[boston.feature_names == \"RM\"]"
   ]
  }
 ],
 "metadata": {
  "kernelspec": {
   "display_name": "Python 3",
   "language": "python",
   "name": "python3"
  },
  "language_info": {
   "codemirror_mode": {
    "name": "ipython",
    "version": 3
   },
   "file_extension": ".py",
   "mimetype": "text/x-python",
   "name": "python",
   "nbconvert_exporter": "python",
   "pygments_lexer": "ipython3",
   "version": "3.7.4"
  }
 },
 "nbformat": 4,
 "nbformat_minor": 2
}
