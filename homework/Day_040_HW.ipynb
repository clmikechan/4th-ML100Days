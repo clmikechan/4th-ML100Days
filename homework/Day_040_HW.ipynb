{
 "cells": [
  {
   "cell_type": "markdown",
   "metadata": {},
   "source": [
    "## [作業重點]\n",
    "使用 Sklearn 中的 Lasso, Ridge 模型，來訓練各種資料集，務必了解送進去模型訓練的**資料型態**為何，也請了解模型中各項參數的意義。\n",
    "\n",
    "機器學習的模型非常多種，但要訓練的資料多半有固定的格式，確保你了解訓練資料的格式為何，這樣在應用新模型時，就能夠最快的上手開始訓練！"
   ]
  },
  {
   "cell_type": "markdown",
   "metadata": {},
   "source": [
    "## 練習時間\n",
    "試著使用 sklearn datasets 的其他資料集 (boston, ...)，來訓練自己的線性迴歸模型，並加上適當的正則化來觀察訓練情形。"
   ]
  },
  {
   "cell_type": "code",
   "execution_count": 1,
   "metadata": {},
   "outputs": [],
   "source": [
    "import numpy as np\n",
    "import matplotlib.pyplot as plt\n",
    "from sklearn import datasets, linear_model\n",
    "from sklearn.model_selection import train_test_split\n",
    "from sklearn.metrics import mean_squared_error, r2_score"
   ]
  },
  {
   "cell_type": "code",
   "execution_count": 2,
   "metadata": {},
   "outputs": [],
   "source": [
    "# 讀取 Boston 資料集\n",
    "boston = datasets.load_boston()\n",
    "\n",
    "# 切分訓練集/測試集\n",
    "x_train, x_test, y_train, y_test = train_test_split(boston.data, boston.target, test_size=0.2, random_state=4)\n",
    "\n",
    "# 建立一個線性回歸模型\n",
    "regr = linear_model.LinearRegression()\n",
    "\n",
    "# 將訓練資料丟進去模型訓練\n",
    "regr.fit(x_train, y_train)\n",
    "\n",
    "# 將測試資料丟進模型得到預測結果\n",
    "y_pred = regr.predict(x_test)"
   ]
  },
  {
   "cell_type": "code",
   "execution_count": 3,
   "metadata": {},
   "outputs": [
    {
     "data": {
      "text/plain": [
       "array([12.07495986, 26.9894969 , 17.58803353, 18.15584511, 36.92091659,\n",
       "       25.43267386, 31.09256932, 19.72549907, 19.66103377, 22.96358632,\n",
       "       28.38841214, 28.48925986, 18.99690357, 32.41097504, 21.52350275,\n",
       "       15.25945122, 21.23364112, 11.6220597 , 11.37109662, 13.63515584,\n",
       "        5.62431971, 17.35323315, 20.80951594, 22.51311312, 16.39055556,\n",
       "       20.32352451, 17.88994185, 14.23445109, 21.1187098 , 17.50765806,\n",
       "       14.54295525, 23.63289896, 34.32419647, 22.23027161, 16.82396516,\n",
       "       20.16274383, 30.67665825, 35.61882904, 23.50372003, 24.66451121,\n",
       "       36.91269871, 32.33290254, 19.11785719, 32.19546605, 33.42795148,\n",
       "       25.52705821, 40.63477427, 18.21762788, 19.34587461, 23.80167377,\n",
       "       33.42122982, 26.1451108 , 18.10363121, 28.19906437, 13.37486655,\n",
       "       23.34019279, 24.44952678, 33.54973856, 16.71263275, 36.56402224,\n",
       "       15.69684554, 18.55447039, 32.14543203, 15.49568061, 39.02363234,\n",
       "       27.38174402, 31.96333419, 10.09436162, 19.13214621, 21.73038157,\n",
       "       23.14682001, 22.82615401, 22.51245566, 28.21477189, 17.13262484,\n",
       "       23.08039019, 16.65978367, 25.17892617, 13.68806399, 19.8195139 ,\n",
       "       22.31237842, 20.24637447, 28.35989119, 19.12635952, 30.49206633,\n",
       "       22.25649076, 29.98229473, 19.27750127, 23.73890345, 38.32216452,\n",
       "       31.24781499, 41.92137782, 18.61466511, 37.47526878, 19.66151941,\n",
       "       23.44504636, 26.55358092, 22.38454399,  9.59394823, 20.39499251,\n",
       "        9.22793989, 27.36219976])"
      ]
     },
     "execution_count": 3,
     "metadata": {},
     "output_type": "execute_result"
    }
   ],
   "source": [
    "y_pred"
   ]
  },
  {
   "cell_type": "code",
   "execution_count": 4,
   "metadata": {},
   "outputs": [
    {
     "name": "stdout",
     "output_type": "stream",
     "text": [
      "[-1.15966452e-01  4.71249231e-02  8.25980146e-03  3.23404531e+00\n",
      " -1.66865890e+01  3.88410651e+00 -1.08974442e-02 -1.54129540e+00\n",
      "  2.93208309e-01 -1.34059383e-02 -9.06296429e-01  8.80823439e-03\n",
      " -4.57723846e-01]\n"
     ]
    }
   ],
   "source": [
    "print(regr.coef_)"
   ]
  },
  {
   "cell_type": "code",
   "execution_count": 5,
   "metadata": {},
   "outputs": [
    {
     "name": "stdout",
     "output_type": "stream",
     "text": [
      "Mean squared error: 25.42\n"
     ]
    }
   ],
   "source": [
    "# 預測值與實際值的差距，使用 MSE\n",
    "print(\"Mean squared error: %.2f\"\n",
    "      % mean_squared_error(y_test, y_pred))"
   ]
  },
  {
   "cell_type": "code",
   "execution_count": 6,
   "metadata": {},
   "outputs": [],
   "source": [
    "# 建立一個線性回歸模型\n",
    "lasso = linear_model.Lasso(alpha=1.0)\n",
    "\n",
    "# 將訓練資料丟進去模型訓練\n",
    "lasso.fit(x_train, y_train)\n",
    "\n",
    "# 將測試資料丟進模型得到預測結果\n",
    "y_pred2 = lasso.predict(x_test)"
   ]
  },
  {
   "cell_type": "code",
   "execution_count": 7,
   "metadata": {},
   "outputs": [
    {
     "data": {
      "text/plain": [
       "array([11.56930154, 26.32668758, 18.94404342, 14.49905024, 33.60514309,\n",
       "       24.629156  , 31.17314247, 18.42507137, 15.83396035, 23.33431095,\n",
       "       28.89063128, 28.11400124, 21.35805085, 30.21375325, 22.27253304,\n",
       "       14.60583691, 23.34591179,  8.82672312, 12.84778968, 16.43172375,\n",
       "        8.86471891, 21.99613214, 21.26035226, 21.87466221, 19.30195521,\n",
       "       20.33940901, 15.02519703, 15.68821883, 19.77543932, 16.80036872,\n",
       "       13.08931044, 26.57292582, 32.01194594, 23.07528864, 18.09196699,\n",
       "       16.77979041, 29.26675028, 31.68145973, 26.07651487, 25.11252925,\n",
       "       33.77239594, 31.8482782 , 19.60210441, 30.84240219, 28.07766984,\n",
       "       26.16173816, 36.81584179, 18.2252528 , 20.25516321, 23.69928341,\n",
       "       32.56397348, 25.90397903, 16.62569205, 27.58761516, 15.28492743,\n",
       "       23.94100266, 23.69804716, 32.72159708, 19.43476306, 32.25972294,\n",
       "       17.81970989, 20.28199548, 30.68465409, 15.89602224, 36.7309312 ,\n",
       "       29.03264874, 28.86324959,  7.24827001, 18.72630174, 21.47058664,\n",
       "       23.24303846, 24.23354737, 23.68056274, 27.85192969, 15.79501336,\n",
       "       24.64708587, 16.49902753, 25.81235985, 15.44745148, 20.10934259,\n",
       "       23.66131457, 17.74766263, 27.96058035, 21.92783167, 29.34146808,\n",
       "       24.89384163, 29.51888634, 20.47683024, 20.08344935, 34.95580908,\n",
       "       30.51366909, 37.55989158, 19.79883092, 33.78418827, 20.67226275,\n",
       "       24.88765547, 23.28759394, 27.27002112, 12.87684941, 23.2308715 ,\n",
       "        8.70976844, 24.14599481])"
      ]
     },
     "execution_count": 7,
     "metadata": {},
     "output_type": "execute_result"
    }
   ],
   "source": [
    "y_pred2"
   ]
  },
  {
   "cell_type": "code",
   "execution_count": 8,
   "metadata": {},
   "outputs": [
    {
     "data": {
      "text/plain": [
       "array([-0.06494981,  0.04581458, -0.        ,  0.        , -0.        ,\n",
       "        1.18140024,  0.01109101, -0.73695809,  0.23350042, -0.01551065,\n",
       "       -0.69270805,  0.00763157, -0.6927848 ])"
      ]
     },
     "execution_count": 8,
     "metadata": {},
     "output_type": "execute_result"
    }
   ],
   "source": [
    "# 印出各特徵對應的係數，可以看到許多係數都變成 0，Lasso Regression 的確可以做特徵選取\n",
    "lasso.coef_"
   ]
  },
  {
   "cell_type": "code",
   "execution_count": 9,
   "metadata": {},
   "outputs": [
    {
     "name": "stdout",
     "output_type": "stream",
     "text": [
      "Mean squared error: 28.95\n"
     ]
    }
   ],
   "source": [
    "# 預測值與實際值的差距，使用 MSE\n",
    "print(\"Mean squared error: %.2f\"\n",
    "      % mean_squared_error(y_test, y_pred2))"
   ]
  },
  {
   "cell_type": "markdown",
   "metadata": {},
   "source": [
    "加入 $\\alpha = 1.0$ 之 Lasso 之後 MSE 反而變大"
   ]
  },
  {
   "cell_type": "code",
   "execution_count": 10,
   "metadata": {},
   "outputs": [
    {
     "name": "stdout",
     "output_type": "stream",
     "text": [
      "Mean squared error: 26.94\n"
     ]
    }
   ],
   "source": [
    "# 建立一個線性回歸模型\n",
    "lasso2 = linear_model.Lasso(alpha=0.5)\n",
    "\n",
    "# 將訓練資料丟進去模型訓練\n",
    "lasso2.fit(x_train, y_train)\n",
    "\n",
    "# 將測試資料丟進模型得到預測結果\n",
    "y_pred3 = lasso2.predict(x_test)\n",
    "\n",
    "print(\"Mean squared error: %.2f\"\n",
    "      % mean_squared_error(y_test, y_pred3))"
   ]
  },
  {
   "cell_type": "markdown",
   "metadata": {},
   "source": [
    "加入  $\\alpha = 0.5$ 之 Lasso 之後 MSE 仍然變大, 但是比 $\\alpha = 0.1$ 時小"
   ]
  },
  {
   "cell_type": "markdown",
   "metadata": {},
   "source": [
    "一次測試多種不同的 $\\alpha$ 值"
   ]
  },
  {
   "cell_type": "code",
   "execution_count": 11,
   "metadata": {},
   "outputs": [
    {
     "name": "stdout",
     "output_type": "stream",
     "text": [
      "Mean squared error for alpha =  0.1: 26.45\n",
      "Mean squared error for alpha =  0.2: 26.60\n",
      "Mean squared error for alpha =  0.3: 26.65\n",
      "Mean squared error for alpha =  0.4: 26.76\n",
      "Mean squared error for alpha =  0.5: 26.94\n",
      "Mean squared error for alpha =  0.6: 27.22\n",
      "Mean squared error for alpha =  0.7: 27.59\n",
      "Mean squared error for alpha =  0.8: 27.98\n",
      "Mean squared error for alpha =  0.9: 28.43\n",
      "Mean squared error for alpha =  1.0: 28.95\n",
      "Mean squared error for alpha =  1.1: 29.54\n",
      "Mean squared error for alpha =  1.2: 30.19\n",
      "Mean squared error for alpha =  1.3: 30.91\n",
      "Mean squared error for alpha =  1.4: 31.66\n",
      "Mean squared error for alpha =  1.5: 32.00\n",
      "Mean squared error for alpha =  1.6: 32.37\n",
      "Mean squared error for alpha =  1.7: 32.77\n",
      "Mean squared error for alpha =  1.8: 33.19\n",
      "Mean squared error for alpha =  1.9: 33.63\n",
      "Mean squared error for alpha =  2.0: 34.09\n"
     ]
    }
   ],
   "source": [
    "MSEs = []\n",
    "coefs = []\n",
    "for i in range(1, 21):\n",
    "    # 建立一個線性回歸模型\n",
    "    l = linear_model.Lasso(alpha=0.1 * i)\n",
    "    # 將訓練資料丟進去模型訓練\n",
    "    l.fit(x_train, y_train)\n",
    "    # 將測試資料丟進模型得到預測結果\n",
    "    y_pred4 = l.predict(x_test)\n",
    "    MSE = mean_squared_error(y_test, y_pred4)\n",
    "    MSEs.append(MSE)\n",
    "    coefs.append(l.coef_)\n",
    "    print(f\"Mean squared error for alpha =  {0.1 * i:.1f}: {MSE:.2f}\")"
   ]
  },
  {
   "cell_type": "code",
   "execution_count": 12,
   "metadata": {},
   "outputs": [
    {
     "name": "stdout",
     "output_type": "stream",
     "text": [
      "when alpha = 0.1, there is the minimal value of MSE, 26.45.\n"
     ]
    }
   ],
   "source": [
    "min_ = min(MSEs)\n",
    "min_index = MSEs.index(min_)\n",
    "print(f\"when alpha = {0.1 * (min_index + 1):.1f}, there is the minimal value of MSE, {min_:.2f}.\")"
   ]
  },
  {
   "cell_type": "markdown",
   "metadata": {},
   "source": [
    "可以看出以 0.1 為單位遞增, MSE 之最小值大約在 $\\alpha = 0.1$ 時(但是還是比沒使用 lasso 大)"
   ]
  },
  {
   "cell_type": "markdown",
   "metadata": {},
   "source": [
    "其對應的係數"
   ]
  },
  {
   "cell_type": "code",
   "execution_count": 13,
   "metadata": {},
   "outputs": [
    {
     "name": "stdout",
     "output_type": "stream",
     "text": [
      "[-0.10618872  0.04886351 -0.04536655  1.14953069 -0.          3.82353877\n",
      " -0.02089779 -1.23590613  0.26008876 -0.01517094 -0.74673362  0.00963864\n",
      " -0.49877104]\n"
     ]
    }
   ],
   "source": [
    "print(coefs[min_index])"
   ]
  },
  {
   "cell_type": "markdown",
   "metadata": {},
   "source": [
    "- 比較 (未使用lasso 之係數 - 使用 lasso 之係數) / (未使用lasso 之係數)\n",
    "\n",
    "接近 0: 經過 lasso 後該項係數幾乎沒改變\n",
    "\n",
    "接近 1: 經過 lasso 後該項係數幾乎被消除\n",
    "\n",
    "其他情形: 變成別的值"
   ]
  },
  {
   "cell_type": "code",
   "execution_count": 14,
   "metadata": {},
   "outputs": [
    {
     "name": "stdout",
     "output_type": "stream",
     "text": [
      "CRIM      : +0.08432\n",
      "ZN        : -0.03689\n",
      "INDUS     : +6.49245\n",
      "CHAS      : +0.64455\n",
      "NOX       : +1.00000\n",
      "RM        : +0.01559\n",
      "AGE       : -0.91768\n",
      "DIS       : +0.19814\n",
      "RAD       : +0.11296\n",
      "TAX       : -0.13166\n",
      "PTRATIO   : +0.17606\n",
      "B         : -0.09428\n",
      "LSTAT     : -0.08968\n"
     ]
    }
   ],
   "source": [
    "for fld, val in zip(boston.feature_names, (regr.coef_ - coefs[min_index])/regr.coef_):\n",
    "    print(f\"{fld:10}: {val:+.5f}\")"
   ]
  },
  {
   "cell_type": "markdown",
   "metadata": {},
   "source": [
    "- 改變最少的是 RM\n",
    "- 係數變 0 的有 NOX"
   ]
  }
 ],
 "metadata": {
  "kernelspec": {
   "display_name": "Python 3",
   "language": "python",
   "name": "python3"
  },
  "language_info": {
   "codemirror_mode": {
    "name": "ipython",
    "version": 3
   },
   "file_extension": ".py",
   "mimetype": "text/x-python",
   "name": "python",
   "nbconvert_exporter": "python",
   "pygments_lexer": "ipython3",
   "version": "3.7.4"
  }
 },
 "nbformat": 4,
 "nbformat_minor": 2
}
