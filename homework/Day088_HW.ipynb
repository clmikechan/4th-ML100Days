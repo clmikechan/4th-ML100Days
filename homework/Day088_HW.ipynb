{
 "cells": [
  {
   "cell_type": "markdown",
   "metadata": {},
   "source": [
    "## Work\n",
    "1. 請嘗試寫一個 callback 用來記錄各類別在訓練過程中，對驗證集的 True Positive 與 True Negative"
   ]
  },
  {
   "cell_type": "code",
   "execution_count": 1,
   "metadata": {},
   "outputs": [
    {
     "name": "stderr",
     "output_type": "stream",
     "text": [
      "Using TensorFlow backend.\n"
     ]
    }
   ],
   "source": [
    "import os\n",
    "import keras\n",
    "\n",
    "# Disable GPU\n",
    "os.environ[\"CUDA_VISIBLE_DEVICES\"] = \"\""
   ]
  },
  {
   "cell_type": "code",
   "execution_count": 2,
   "metadata": {},
   "outputs": [],
   "source": [
    "train, test = keras.datasets.cifar10.load_data()"
   ]
  },
  {
   "cell_type": "code",
   "execution_count": 3,
   "metadata": {},
   "outputs": [],
   "source": [
    "## 資料前處理\n",
    "def preproc_x(x, flatten=True):\n",
    "    x = x / 255.\n",
    "    if flatten:\n",
    "        x = x.reshape((len(x), -1))\n",
    "    return x\n",
    "\n",
    "def preproc_y(y, num_classes=10):\n",
    "    if y.shape[-1] == 1:\n",
    "        y = keras.utils.to_categorical(y, num_classes)\n",
    "    return y    "
   ]
  },
  {
   "cell_type": "code",
   "execution_count": 4,
   "metadata": {},
   "outputs": [],
   "source": [
    "x_train, y_train = train\n",
    "x_test, y_test = test\n",
    "\n",
    "# Preproc the inputs\n",
    "x_train = preproc_x(x_train)\n",
    "x_test = preproc_x(x_test)\n",
    "\n",
    "# Preprc the outputs\n",
    "y_train = preproc_y(y_train)\n",
    "y_test = preproc_y(y_test)"
   ]
  },
  {
   "cell_type": "code",
   "execution_count": 5,
   "metadata": {},
   "outputs": [],
   "source": [
    "from keras.layers import BatchNormalization\n",
    "def build_mlp(input_shape, output_units=10, num_neurons=[256, 256, 256]):\n",
    "    \"\"\"Code Here\n",
    "    建立你的神經網路\n",
    "    \"\"\"\n",
    "    input_layer = keras.layers.Input(input_shape)\n",
    "    \n",
    "    for i, n_units in enumerate(num_neurons):\n",
    "        if i == 0:\n",
    "            x = keras.layers.Dense(units=n_units, \n",
    "                                   activation=\"relu\", \n",
    "                                   name=\"hidden_layer\"+str(i+1))(input_layer)\n",
    "            x = BatchNormalization()(x)\n",
    "        else:\n",
    "            x = keras.layers.Dense(units=n_units, \n",
    "                                   activation=\"relu\", \n",
    "                                   name=\"hidden_layer\"+str(i+1))(x)\n",
    "            x = BatchNormalization()(x)\n",
    "    \n",
    "    out = keras.layers.Dense(units=output_units, activation=\"softmax\", name=\"output\")(x)\n",
    "    \n",
    "    model = keras.models.Model(inputs=[input_layer], outputs=[out])\n",
    "    return model"
   ]
  },
  {
   "cell_type": "code",
   "execution_count": 6,
   "metadata": {},
   "outputs": [],
   "source": [
    "## 超參數設定\n",
    "LEARNING_RATE = 1e-3\n",
    "EPOCHS = 25\n",
    "BATCH_SIZE = 1024\n",
    "MOMENTUM = 0.95"
   ]
  },
  {
   "cell_type": "code",
   "execution_count": 7,
   "metadata": {},
   "outputs": [],
   "source": [
    "# 載入 Callbacks\n",
    "from keras.callbacks import Callback\n",
    "from sklearn.metrics import confusion_matrix\n",
    "import numpy as np\n",
    "# Record_fp_tp\n",
    "class Record_tp_tn(Callback):\n",
    "    \"\"\"Code Here\n",
    "    撰寫一個紀錄 ture positive 與 true negative 數量的 callbacks    \n",
    "    \"\"\"\n",
    "    def on_train_begin(self, epoch, logs = {}):\n",
    "        logs = logs or {}\n",
    "        record_items = [\"val_auc\", \"val_f1sc\", \"val_fp\", \"val_fn\", \"val_tp\", \"val_tn\"]\n",
    "        for i in record_items:\n",
    "            if i not in self.params['metrics']:\n",
    "                self.params['metrics'].append(i)\n",
    "    \n",
    "    def on_epoch_end(self, epoch, logs = {}, thres=0.5):\n",
    "        logs = logs or {}\n",
    "        y_true = self.validation_data[1].argmax(axis = 1)\n",
    "        y_pred = self.model.predict(self.validation_data[0]).argmax(axis = 1)\n",
    "        cm =  confusion_matrix(y_true, y_pred)\n",
    "        tp = cm[1,1]\n",
    "        tn = sum([cm[i,i] for i in range(max(y_true) + 1)]) - tp\n",
    "        logs['val_tp'] = tp\n",
    "        logs['val_tn'] = tn\n",
    "rec_tptn = Record_tp_tn()"
   ]
  },
  {
   "cell_type": "code",
   "execution_count": 8,
   "metadata": {
    "scrolled": true
   },
   "outputs": [
    {
     "name": "stdout",
     "output_type": "stream",
     "text": [
      "Model: \"model_1\"\n",
      "_________________________________________________________________\n",
      "Layer (type)                 Output Shape              Param #   \n",
      "=================================================================\n",
      "input_1 (InputLayer)         (None, 3072)              0         \n",
      "_________________________________________________________________\n",
      "hidden_layer1 (Dense)        (None, 256)               786688    \n",
      "_________________________________________________________________\n",
      "batch_normalization_1 (Batch (None, 256)               1024      \n",
      "_________________________________________________________________\n",
      "hidden_layer2 (Dense)        (None, 256)               65792     \n",
      "_________________________________________________________________\n",
      "batch_normalization_2 (Batch (None, 256)               1024      \n",
      "_________________________________________________________________\n",
      "hidden_layer3 (Dense)        (None, 256)               65792     \n",
      "_________________________________________________________________\n",
      "batch_normalization_3 (Batch (None, 256)               1024      \n",
      "_________________________________________________________________\n",
      "output (Dense)               (None, 10)                2570      \n",
      "=================================================================\n",
      "Total params: 923,914\n",
      "Trainable params: 922,378\n",
      "Non-trainable params: 1,536\n",
      "_________________________________________________________________\n",
      "Train on 50000 samples, validate on 10000 samples\n",
      "Epoch 1/25\n",
      "50000/50000 [==============================] - 8s 156us/step - loss: 2.2336 - acc: 0.2655 - val_loss: 2.1540 - val_acc: 0.1950\n",
      "Epoch 2/25\n",
      "50000/50000 [==============================] - 2s 39us/step - loss: 1.7574 - acc: 0.3875 - val_loss: 2.0241 - val_acc: 0.2589\n",
      "Epoch 3/25\n",
      "50000/50000 [==============================] - 2s 38us/step - loss: 1.6263 - acc: 0.4307 - val_loss: 1.8607 - val_acc: 0.3425\n",
      "Epoch 4/25\n",
      "50000/50000 [==============================] - 2s 37us/step - loss: 1.5513 - acc: 0.4568 - val_loss: 1.7259 - val_acc: 0.4083\n",
      "Epoch 5/25\n",
      "50000/50000 [==============================] - 2s 38us/step - loss: 1.4975 - acc: 0.4762 - val_loss: 1.6383 - val_acc: 0.4275\n",
      "Epoch 6/25\n",
      "50000/50000 [==============================] - 2s 38us/step - loss: 1.4533 - acc: 0.4905 - val_loss: 1.5864 - val_acc: 0.4387\n",
      "Epoch 7/25\n",
      "50000/50000 [==============================] - 2s 38us/step - loss: 1.4158 - acc: 0.5059 - val_loss: 1.5389 - val_acc: 0.4595\n",
      "Epoch 8/25\n",
      "50000/50000 [==============================] - 2s 38us/step - loss: 1.3831 - acc: 0.5168 - val_loss: 1.5143 - val_acc: 0.4649\n",
      "Epoch 9/25\n",
      "50000/50000 [==============================] - 2s 38us/step - loss: 1.3540 - acc: 0.5274 - val_loss: 1.5000 - val_acc: 0.4704\n",
      "Epoch 10/25\n",
      "50000/50000 [==============================] - 2s 38us/step - loss: 1.3260 - acc: 0.5362 - val_loss: 1.4875 - val_acc: 0.4752\n",
      "Epoch 11/25\n",
      "50000/50000 [==============================] - 2s 41us/step - loss: 1.3017 - acc: 0.5470 - val_loss: 1.4802 - val_acc: 0.4749\n",
      "Epoch 12/25\n",
      "50000/50000 [==============================] - 2s 38us/step - loss: 1.2783 - acc: 0.5557 - val_loss: 1.4782 - val_acc: 0.4776\n",
      "Epoch 13/25\n",
      "50000/50000 [==============================] - 2s 41us/step - loss: 1.2549 - acc: 0.5633 - val_loss: 1.4806 - val_acc: 0.4735\n",
      "Epoch 14/25\n",
      "50000/50000 [==============================] - 2s 39us/step - loss: 1.2335 - acc: 0.5710 - val_loss: 1.4671 - val_acc: 0.4862\n",
      "Epoch 15/25\n",
      "50000/50000 [==============================] - 2s 41us/step - loss: 1.2114 - acc: 0.5794 - val_loss: 1.4563 - val_acc: 0.4854\n",
      "Epoch 16/25\n",
      "50000/50000 [==============================] - 2s 39us/step - loss: 1.1934 - acc: 0.5868 - val_loss: 1.4515 - val_acc: 0.4901\n",
      "Epoch 17/25\n",
      "50000/50000 [==============================] - 2s 39us/step - loss: 1.1718 - acc: 0.5944 - val_loss: 1.4429 - val_acc: 0.4904\n",
      "Epoch 18/25\n",
      "50000/50000 [==============================] - 2s 45us/step - loss: 1.1538 - acc: 0.6013 - val_loss: 1.4509 - val_acc: 0.4891\n",
      "Epoch 19/25\n",
      "50000/50000 [==============================] - 3s 64us/step - loss: 1.1344 - acc: 0.6073 - val_loss: 1.4469 - val_acc: 0.4947\n",
      "Epoch 20/25\n",
      "50000/50000 [==============================] - 2s 39us/step - loss: 1.1179 - acc: 0.6145 - val_loss: 1.4483 - val_acc: 0.4893\n",
      "Epoch 21/25\n",
      "50000/50000 [==============================] - 2s 48us/step - loss: 1.0987 - acc: 0.6203 - val_loss: 1.4587 - val_acc: 0.4845\n",
      "Epoch 22/25\n",
      "50000/50000 [==============================] - 2s 46us/step - loss: 1.0822 - acc: 0.6287 - val_loss: 1.4474 - val_acc: 0.4947\n",
      "Epoch 23/25\n",
      "50000/50000 [==============================] - 2s 45us/step - loss: 1.0622 - acc: 0.6346 - val_loss: 1.4462 - val_acc: 0.4924\n",
      "Epoch 24/25\n",
      "50000/50000 [==============================] - 2s 40us/step - loss: 1.0485 - acc: 0.6425 - val_loss: 1.4344 - val_acc: 0.4973\n",
      "Epoch 25/25\n",
      "50000/50000 [==============================] - 3s 53us/step - loss: 1.0300 - acc: 0.6490 - val_loss: 1.4433 - val_acc: 0.4953\n"
     ]
    }
   ],
   "source": [
    "model = build_mlp(input_shape=x_train.shape[1:])\n",
    "model.summary()\n",
    "optimizer = keras.optimizers.SGD(lr=LEARNING_RATE, nesterov=True, momentum=MOMENTUM)\n",
    "model.compile(loss=\"categorical_crossentropy\", metrics=[\"acc\"], optimizer=optimizer)\n",
    "\n",
    "\"\"\"Code Here\n",
    "將 callbacks 放入模型訓練流程中\n",
    "\"\"\"\n",
    "model.fit(x_train, y_train, \n",
    "          epochs=EPOCHS, \n",
    "          batch_size=BATCH_SIZE, \n",
    "          validation_data=(x_test, y_test), \n",
    "          shuffle=True,\n",
    "          callbacks=[rec_tptn]\n",
    "         )\n",
    "\n",
    "# Collect results\n",
    "train_loss = model.history.history[\"loss\"]\n",
    "valid_loss = model.history.history[\"val_loss\"]\n",
    "train_acc = model.history.history[\"acc\"]\n",
    "valid_acc = model.history.history[\"val_acc\"]\n",
    "\n",
    "\"\"\"Code Here\n",
    "將 tp/tn 從訓練完的模型中取出\n",
    "\"\"\"\n",
    "valid_tp = model.history.history['val_tp']\n",
    "valid_tn = model.history.history['val_tn']"
   ]
  },
  {
   "cell_type": "code",
   "execution_count": 9,
   "metadata": {},
   "outputs": [
    {
     "data": {
      "image/png": "[encoded data removed]",
      "text/plain": [
       "<Figure size 432x288 with 1 Axes>"
      ]
     },
     "metadata": {
      "needs_background": "light"
     },
     "output_type": "display_data"
    },
    {
     "data": {
      "image/png": "[encoded data removed]",
      "text/plain": [
       "<Figure size 432x288 with 1 Axes>"
      ]
     },
     "metadata": {
      "needs_background": "light"
     },
     "output_type": "display_data"
    },
    {
     "data": {
      "image/png": "[encoded data removed]",
      "text/plain": [
       "<Figure size 432x288 with 1 Axes>"
      ]
     },
     "metadata": {
      "needs_background": "light"
     },
     "output_type": "display_data"
    }
   ],
   "source": [
    "import matplotlib.pyplot as plt\n",
    "%matplotlib inline\n",
    "\n",
    "plt.plot(range(len(train_loss)), train_loss, label=\"train loss\")\n",
    "plt.plot(range(len(valid_loss)), valid_loss, label=\"valid loss\")\n",
    "plt.legend()\n",
    "plt.title(\"Loss\")\n",
    "plt.show()\n",
    "\n",
    "plt.plot(range(len(train_acc)), train_acc, label=\"train accuracy\")\n",
    "plt.plot(range(len(valid_acc)), valid_acc, label=\"valid accuracy\")\n",
    "plt.legend()\n",
    "plt.title(\"Accuracy\")\n",
    "plt.show()\n",
    "\n",
    "plt.plot(range(len(valid_tp)), valid_tp, label=\"valid tp\", color=\"navy\")\n",
    "plt.plot(range(len(valid_tn)), valid_tn, label=\"valid tn\", color=\"red\")\n",
    "plt.legend()\n",
    "plt.title(\"True positives and True Negatives\")\n",
    "plt.show()\n"
   ]
  }
 ],
 "metadata": {
  "kernelspec": {
   "display_name": "Python 3",
   "language": "python",
   "name": "python3"
  },
  "language_info": {
   "codemirror_mode": {
    "name": "ipython",
    "version": 3
   },
   "file_extension": ".py",
   "mimetype": "text/x-python",
   "name": "python",
   "nbconvert_exporter": "python",
   "pygments_lexer": "ipython3",
   "version": "3.7.4"
  }
 },
 "nbformat": 4,
 "nbformat_minor": 2
}
