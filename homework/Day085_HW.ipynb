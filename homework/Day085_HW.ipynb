{
 "cells": [
  {
   "cell_type": "markdown",
   "metadata": {},
   "source": [
    "## Work\n",
    "1. 試改變 monitor \"Validation Accuracy\" 並比較結果\n",
    "2. 調整 earlystop 的等待次數至 10, 25 並比較結果"
   ]
  },
  {
   "cell_type": "code",
   "execution_count": 1,
   "metadata": {},
   "outputs": [
    {
     "name": "stderr",
     "output_type": "stream",
     "text": [
      "Using TensorFlow backend.\n"
     ]
    }
   ],
   "source": [
    "import os\n",
    "import keras\n",
    "import matplotlib.pyplot as plt\n",
    "%matplotlib inline\n",
    "\n",
    "\n",
    "# Disable GPU\n",
    "os.environ[\"CUDA_VISIBLE_DEVICES\"] = \"\""
   ]
  },
  {
   "cell_type": "code",
   "execution_count": 2,
   "metadata": {},
   "outputs": [],
   "source": [
    "train, test = keras.datasets.cifar10.load_data()"
   ]
  },
  {
   "cell_type": "code",
   "execution_count": 3,
   "metadata": {},
   "outputs": [],
   "source": [
    "## 資料前處理\n",
    "def preproc_x(x, flatten=True):\n",
    "    x = x / 255.\n",
    "    if flatten:\n",
    "        x = x.reshape((len(x), -1))\n",
    "    return x\n",
    "\n",
    "def preproc_y(y, num_classes=10):\n",
    "    if y.shape[-1] == 1:\n",
    "        y = keras.utils.to_categorical(y, num_classes)\n",
    "    return y    "
   ]
  },
  {
   "cell_type": "code",
   "execution_count": 4,
   "metadata": {},
   "outputs": [],
   "source": [
    "x_train, y_train = train\n",
    "x_test, y_test = test\n",
    "\n",
    "# Preproc the inputs\n",
    "x_train = preproc_x(x_train)\n",
    "x_test = preproc_x(x_test)\n",
    "\n",
    "# Preprc the outputs\n",
    "y_train = preproc_y(y_train)\n",
    "y_test = preproc_y(y_test)"
   ]
  },
  {
   "cell_type": "code",
   "execution_count": 5,
   "metadata": {},
   "outputs": [],
   "source": [
    "from keras.layers import BatchNormalization\n",
    "def build_mlp(input_shape, output_units=10, num_neurons=[512, 256, 128]):\n",
    "    \"\"\"Code Here\n",
    "    建立你的神經網路\n",
    "    \"\"\"\n",
    "    input_layer = keras.layers.Input(input_shape)\n",
    "    \n",
    "    for i, n_units in enumerate(num_neurons):\n",
    "        if i == 0:\n",
    "            x = keras.layers.Dense(units=n_units, \n",
    "                                   activation=\"relu\", \n",
    "                                   name=\"hidden_layer\"+str(i+1))(input_layer)\n",
    "            x = BatchNormalization()(x)\n",
    "        else:\n",
    "            x = keras.layers.Dense(units=n_units, \n",
    "                                   activation=\"relu\", \n",
    "                                   name=\"hidden_layer\"+str(i+1))(x)\n",
    "            x = BatchNormalization()(x)\n",
    "    \n",
    "    out = keras.layers.Dense(units=output_units, activation=\"softmax\", name=\"output\")(x)\n",
    "    \n",
    "    model = keras.models.Model(inputs=[input_layer], outputs=[out])\n",
    "    return model"
   ]
  },
  {
   "cell_type": "code",
   "execution_count": 6,
   "metadata": {},
   "outputs": [],
   "source": [
    "\"\"\"Code Here\n",
    "設定超參數\n",
    "\"\"\"\n",
    "LEARNING_RATE = 1e-3\n",
    "EPOCHS = 50\n",
    "BATCH_SIZE = 1024\n",
    "MOMENTUM = 0.95"
   ]
  },
  {
   "cell_type": "code",
   "execution_count": 7,
   "metadata": {},
   "outputs": [
    {
     "name": "stdout",
     "output_type": "stream",
     "text": [
      "Model: \"model_1\"\n",
      "_________________________________________________________________\n",
      "Layer (type)                 Output Shape              Param #   \n",
      "=================================================================\n",
      "input_1 (InputLayer)         (None, 3072)              0         \n",
      "_________________________________________________________________\n",
      "hidden_layer1 (Dense)        (None, 512)               1573376   \n",
      "_________________________________________________________________\n",
      "batch_normalization_1 (Batch (None, 512)               2048      \n",
      "_________________________________________________________________\n",
      "hidden_layer2 (Dense)        (None, 256)               131328    \n",
      "_________________________________________________________________\n",
      "batch_normalization_2 (Batch (None, 256)               1024      \n",
      "_________________________________________________________________\n",
      "hidden_layer3 (Dense)        (None, 128)               32896     \n",
      "_________________________________________________________________\n",
      "batch_normalization_3 (Batch (None, 128)               512       \n",
      "_________________________________________________________________\n",
      "output (Dense)               (None, 10)                1290      \n",
      "=================================================================\n",
      "Total params: 1,742,474\n",
      "Trainable params: 1,740,682\n",
      "Non-trainable params: 1,792\n",
      "_________________________________________________________________\n",
      "Train on 50000 samples, validate on 10000 samples\n",
      "Epoch 1/50\n",
      "50000/50000 [==============================] - 3s 57us/step - loss: 2.2146 - acc: 0.2723 - val_loss: 2.1261 - val_acc: 0.2234\n",
      "Epoch 2/50\n",
      "50000/50000 [==============================] - 2s 43us/step - loss: 1.7387 - acc: 0.3940 - val_loss: 1.9788 - val_acc: 0.2946\n",
      "Epoch 3/50\n",
      "50000/50000 [==============================] - 2s 42us/step - loss: 1.6182 - acc: 0.4358 - val_loss: 1.8374 - val_acc: 0.3519\n",
      "Epoch 4/50\n",
      "50000/50000 [==============================] - 2s 42us/step - loss: 1.5472 - acc: 0.4598 - val_loss: 1.7118 - val_acc: 0.4052\n",
      "Epoch 5/50\n",
      "50000/50000 [==============================] - 2s 42us/step - loss: 1.4929 - acc: 0.4813 - val_loss: 1.6444 - val_acc: 0.4233\n",
      "Epoch 6/50\n",
      "50000/50000 [==============================] - 2s 42us/step - loss: 1.4475 - acc: 0.4964 - val_loss: 1.5890 - val_acc: 0.4436\n",
      "Epoch 7/50\n",
      "50000/50000 [==============================] - 2s 42us/step - loss: 1.4110 - acc: 0.5095 - val_loss: 1.5577 - val_acc: 0.4489\n",
      "Epoch 8/50\n",
      "50000/50000 [==============================] - 2s 43us/step - loss: 1.3736 - acc: 0.5226 - val_loss: 1.5223 - val_acc: 0.4609\n",
      "Epoch 9/50\n",
      "50000/50000 [==============================] - 2s 42us/step - loss: 1.3410 - acc: 0.5351 - val_loss: 1.5093 - val_acc: 0.4669\n",
      "Epoch 10/50\n",
      "50000/50000 [==============================] - 2s 43us/step - loss: 1.3106 - acc: 0.5462 - val_loss: 1.5055 - val_acc: 0.4669\n",
      "Epoch 11/50\n",
      "50000/50000 [==============================] - 2s 43us/step - loss: 1.2832 - acc: 0.5554 - val_loss: 1.4907 - val_acc: 0.4714\n",
      "Epoch 12/50\n",
      "50000/50000 [==============================] - 2s 43us/step - loss: 1.2571 - acc: 0.5647 - val_loss: 1.4758 - val_acc: 0.4768\n",
      "Epoch 13/50\n",
      "50000/50000 [==============================] - 2s 43us/step - loss: 1.2296 - acc: 0.5766 - val_loss: 1.4776 - val_acc: 0.4756\n",
      "Epoch 14/50\n",
      "50000/50000 [==============================] - 2s 43us/step - loss: 1.2048 - acc: 0.5842 - val_loss: 1.4647 - val_acc: 0.4847\n",
      "Epoch 15/50\n",
      "50000/50000 [==============================] - 2s 43us/step - loss: 1.1803 - acc: 0.5929 - val_loss: 1.4654 - val_acc: 0.4834\n",
      "Epoch 16/50\n",
      "50000/50000 [==============================] - 2s 43us/step - loss: 1.1564 - acc: 0.6021 - val_loss: 1.4652 - val_acc: 0.4822\n",
      "Epoch 17/50\n",
      "50000/50000 [==============================] - 2s 43us/step - loss: 1.1345 - acc: 0.6103 - val_loss: 1.4578 - val_acc: 0.4815\n",
      "Epoch 18/50\n",
      "50000/50000 [==============================] - 2s 44us/step - loss: 1.1106 - acc: 0.6188 - val_loss: 1.4534 - val_acc: 0.4899\n",
      "Epoch 19/50\n",
      "50000/50000 [==============================] - 2s 43us/step - loss: 1.0887 - acc: 0.6261 - val_loss: 1.4621 - val_acc: 0.4845\n",
      "Epoch 20/50\n",
      "50000/50000 [==============================] - 2s 44us/step - loss: 1.0694 - acc: 0.6346 - val_loss: 1.4615 - val_acc: 0.4870\n",
      "Epoch 21/50\n",
      "50000/50000 [==============================] - 2s 44us/step - loss: 1.0457 - acc: 0.6440 - val_loss: 1.4662 - val_acc: 0.4833\n",
      "Epoch 22/50\n",
      "50000/50000 [==============================] - 2s 46us/step - loss: 1.0240 - acc: 0.6514 - val_loss: 1.4628 - val_acc: 0.4861\n",
      "Epoch 23/50\n",
      "50000/50000 [==============================] - 2s 44us/step - loss: 1.0038 - acc: 0.6603 - val_loss: 1.4611 - val_acc: 0.4884\n",
      "Epoch 24/50\n",
      "50000/50000 [==============================] - 2s 44us/step - loss: 0.9834 - acc: 0.6683 - val_loss: 1.4605 - val_acc: 0.4915\n",
      "Epoch 25/50\n",
      "50000/50000 [==============================] - 2s 46us/step - loss: 0.9629 - acc: 0.6748 - val_loss: 1.4626 - val_acc: 0.4901\n",
      "Epoch 26/50\n",
      "50000/50000 [==============================] - 2s 44us/step - loss: 0.9418 - acc: 0.6855 - val_loss: 1.4666 - val_acc: 0.4937\n",
      "Epoch 27/50\n",
      "50000/50000 [==============================] - 2s 44us/step - loss: 0.9237 - acc: 0.6909 - val_loss: 1.4537 - val_acc: 0.4964\n",
      "Epoch 28/50\n",
      "50000/50000 [==============================] - 2s 44us/step - loss: 0.9010 - acc: 0.6999 - val_loss: 1.4806 - val_acc: 0.4910\n",
      "Epoch 29/50\n",
      "50000/50000 [==============================] - 2s 47us/step - loss: 0.8822 - acc: 0.7074 - val_loss: 1.4754 - val_acc: 0.4921\n",
      "Epoch 30/50\n",
      "50000/50000 [==============================] - 2s 45us/step - loss: 0.8608 - acc: 0.7163 - val_loss: 1.4929 - val_acc: 0.4888\n",
      "Epoch 31/50\n",
      "50000/50000 [==============================] - 2s 46us/step - loss: 0.8431 - acc: 0.7220 - val_loss: 1.5014 - val_acc: 0.4811\n",
      "Epoch 32/50\n",
      "50000/50000 [==============================] - 2s 45us/step - loss: 0.8230 - acc: 0.7307 - val_loss: 1.4914 - val_acc: 0.4959\n",
      "Epoch 33/50\n",
      "50000/50000 [==============================] - 2s 47us/step - loss: 0.8050 - acc: 0.7360 - val_loss: 1.4946 - val_acc: 0.4908\n",
      "Epoch 34/50\n",
      "50000/50000 [==============================] - 2s 49us/step - loss: 0.7834 - acc: 0.7462 - val_loss: 1.5278 - val_acc: 0.4798\n",
      "Epoch 35/50\n",
      "50000/50000 [==============================] - 2s 44us/step - loss: 0.7637 - acc: 0.7541 - val_loss: 1.5137 - val_acc: 0.4923\n",
      "Epoch 36/50\n",
      "50000/50000 [==============================] - 2s 45us/step - loss: 0.7472 - acc: 0.7613 - val_loss: 1.5213 - val_acc: 0.4899\n",
      "Epoch 37/50\n",
      "50000/50000 [==============================] - 2s 44us/step - loss: 0.7271 - acc: 0.7701 - val_loss: 1.5243 - val_acc: 0.4903\n",
      "Epoch 00037: early stopping\n",
      "Model: \"model_2\"\n",
      "_________________________________________________________________\n",
      "Layer (type)                 Output Shape              Param #   \n",
      "=================================================================\n",
      "input_2 (InputLayer)         (None, 3072)              0         \n",
      "_________________________________________________________________\n",
      "hidden_layer1 (Dense)        (None, 512)               1573376   \n",
      "_________________________________________________________________\n",
      "batch_normalization_4 (Batch (None, 512)               2048      \n",
      "_________________________________________________________________\n",
      "hidden_layer2 (Dense)        (None, 256)               131328    \n",
      "_________________________________________________________________\n",
      "batch_normalization_5 (Batch (None, 256)               1024      \n",
      "_________________________________________________________________\n",
      "hidden_layer3 (Dense)        (None, 128)               32896     \n",
      "_________________________________________________________________\n",
      "batch_normalization_6 (Batch (None, 128)               512       \n",
      "_________________________________________________________________\n",
      "output (Dense)               (None, 10)                1290      \n",
      "=================================================================\n",
      "Total params: 1,742,474\n",
      "Trainable params: 1,740,682\n",
      "Non-trainable params: 1,792\n",
      "_________________________________________________________________\n",
      "Train on 50000 samples, validate on 10000 samples\n",
      "Epoch 1/50\n",
      "50000/50000 [==============================] - 3s 55us/step - loss: 2.2031 - acc: 0.2754 - val_loss: 2.1579 - val_acc: 0.2011\n"
     ]
    },
    {
     "name": "stdout",
     "output_type": "stream",
     "text": [
      "Epoch 2/50\n",
      "50000/50000 [==============================] - 2s 44us/step - loss: 1.7360 - acc: 0.3970 - val_loss: 1.9923 - val_acc: 0.2815\n",
      "Epoch 3/50\n",
      "50000/50000 [==============================] - 2s 45us/step - loss: 1.6122 - acc: 0.4370 - val_loss: 1.8429 - val_acc: 0.3515\n",
      "Epoch 4/50\n",
      "50000/50000 [==============================] - 2s 45us/step - loss: 1.5399 - acc: 0.4647 - val_loss: 1.7350 - val_acc: 0.3996\n",
      "Epoch 5/50\n",
      "50000/50000 [==============================] - 2s 45us/step - loss: 1.4863 - acc: 0.4815 - val_loss: 1.6554 - val_acc: 0.4216\n",
      "Epoch 6/50\n",
      "50000/50000 [==============================] - 2s 48us/step - loss: 1.4401 - acc: 0.4979 - val_loss: 1.5954 - val_acc: 0.4415\n",
      "Epoch 7/50\n",
      "50000/50000 [==============================] - 2s 46us/step - loss: 1.3999 - acc: 0.5159 - val_loss: 1.5574 - val_acc: 0.4520\n",
      "Epoch 8/50\n",
      "50000/50000 [==============================] - 3s 50us/step - loss: 1.3653 - acc: 0.5261 - val_loss: 1.5303 - val_acc: 0.4614\n",
      "Epoch 9/50\n",
      "50000/50000 [==============================] - 2s 45us/step - loss: 1.3329 - acc: 0.5364 - val_loss: 1.5085 - val_acc: 0.4717\n",
      "Epoch 10/50\n",
      "50000/50000 [==============================] - 2s 44us/step - loss: 1.3040 - acc: 0.5469 - val_loss: 1.4929 - val_acc: 0.4794\n",
      "Epoch 11/50\n",
      "50000/50000 [==============================] - 2s 46us/step - loss: 1.2770 - acc: 0.5580 - val_loss: 1.4763 - val_acc: 0.4812\n",
      "Epoch 12/50\n",
      "50000/50000 [==============================] - 3s 51us/step - loss: 1.2491 - acc: 0.5688 - val_loss: 1.4902 - val_acc: 0.4753\n",
      "Epoch 13/50\n",
      "50000/50000 [==============================] - 2s 46us/step - loss: 1.2222 - acc: 0.5799 - val_loss: 1.4686 - val_acc: 0.4848\n",
      "Epoch 14/50\n",
      "50000/50000 [==============================] - 2s 46us/step - loss: 1.1975 - acc: 0.5884 - val_loss: 1.4730 - val_acc: 0.4839\n",
      "Epoch 15/50\n",
      "50000/50000 [==============================] - 3s 51us/step - loss: 1.1738 - acc: 0.5970 - val_loss: 1.4620 - val_acc: 0.4834\n",
      "Epoch 16/50\n",
      "50000/50000 [==============================] - 2s 46us/step - loss: 1.1500 - acc: 0.6046 - val_loss: 1.4630 - val_acc: 0.4875\n",
      "Epoch 17/50\n",
      "50000/50000 [==============================] - 3s 68us/step - loss: 1.1277 - acc: 0.6149 - val_loss: 1.4632 - val_acc: 0.4896\n",
      "Epoch 18/50\n",
      "50000/50000 [==============================] - 2s 46us/step - loss: 1.1054 - acc: 0.6221 - val_loss: 1.4533 - val_acc: 0.4907\n",
      "Epoch 19/50\n",
      "50000/50000 [==============================] - 2s 46us/step - loss: 1.0834 - acc: 0.6299 - val_loss: 1.4614 - val_acc: 0.4876\n",
      "Epoch 20/50\n",
      "50000/50000 [==============================] - 2s 46us/step - loss: 1.0612 - acc: 0.6395 - val_loss: 1.4625 - val_acc: 0.4873\n",
      "Epoch 21/50\n",
      "50000/50000 [==============================] - 2s 46us/step - loss: 1.0402 - acc: 0.6476 - val_loss: 1.4713 - val_acc: 0.4867\n",
      "Epoch 22/50\n",
      "50000/50000 [==============================] - 2s 47us/step - loss: 1.0186 - acc: 0.6535 - val_loss: 1.4713 - val_acc: 0.4868\n",
      "Epoch 23/50\n",
      "50000/50000 [==============================] - 3s 52us/step - loss: 0.9983 - acc: 0.6620 - val_loss: 1.4559 - val_acc: 0.4936\n",
      "Epoch 24/50\n",
      "50000/50000 [==============================] - 3s 52us/step - loss: 0.9775 - acc: 0.6705 - val_loss: 1.4660 - val_acc: 0.4918\n",
      "Epoch 25/50\n",
      "50000/50000 [==============================] - 3s 55us/step - loss: 0.9580 - acc: 0.6766 - val_loss: 1.4596 - val_acc: 0.4936\n",
      "Epoch 26/50\n",
      "50000/50000 [==============================] - 2s 47us/step - loss: 0.9361 - acc: 0.6856 - val_loss: 1.4659 - val_acc: 0.4934\n",
      "Epoch 27/50\n",
      "50000/50000 [==============================] - 3s 52us/step - loss: 0.9168 - acc: 0.6950 - val_loss: 1.4682 - val_acc: 0.4954\n",
      "Epoch 28/50\n",
      "50000/50000 [==============================] - 2s 47us/step - loss: 0.8963 - acc: 0.7015 - val_loss: 1.4799 - val_acc: 0.4947\n",
      "Epoch 29/50\n",
      "50000/50000 [==============================] - 3s 58us/step - loss: 0.8750 - acc: 0.7090 - val_loss: 1.4788 - val_acc: 0.4931\n",
      "Epoch 30/50\n",
      "50000/50000 [==============================] - 3s 67us/step - loss: 0.8559 - acc: 0.7150 - val_loss: 1.4915 - val_acc: 0.4913\n",
      "Epoch 31/50\n",
      "50000/50000 [==============================] - 3s 63us/step - loss: 0.8376 - acc: 0.7247 - val_loss: 1.4951 - val_acc: 0.4946\n",
      "Epoch 32/50\n",
      "50000/50000 [==============================] - 3s 66us/step - loss: 0.8172 - acc: 0.7335 - val_loss: 1.5066 - val_acc: 0.4946\n",
      "Epoch 33/50\n",
      "50000/50000 [==============================] - 3s 53us/step - loss: 0.7973 - acc: 0.7410 - val_loss: 1.5162 - val_acc: 0.4853\n",
      "Epoch 34/50\n",
      "50000/50000 [==============================] - 3s 52us/step - loss: 0.7791 - acc: 0.7484 - val_loss: 1.5148 - val_acc: 0.4940\n",
      "Epoch 35/50\n",
      "50000/50000 [==============================] - 3s 60us/step - loss: 0.7602 - acc: 0.7552 - val_loss: 1.5305 - val_acc: 0.4881\n",
      "Epoch 36/50\n",
      "50000/50000 [==============================] - 3s 60us/step - loss: 0.7404 - acc: 0.7621 - val_loss: 1.5288 - val_acc: 0.4900\n",
      "Epoch 37/50\n",
      "50000/50000 [==============================] - 3s 59us/step - loss: 0.7225 - acc: 0.7712 - val_loss: 1.5460 - val_acc: 0.4870\n",
      "Epoch 38/50\n",
      "50000/50000 [==============================] - 3s 57us/step - loss: 0.7038 - acc: 0.7776 - val_loss: 1.5555 - val_acc: 0.4837\n",
      "Epoch 39/50\n",
      "50000/50000 [==============================] - 4s 72us/step - loss: 0.6859 - acc: 0.7840 - val_loss: 1.5661 - val_acc: 0.4866\n",
      "Epoch 40/50\n",
      "50000/50000 [==============================] - 3s 55us/step - loss: 0.6668 - acc: 0.7935 - val_loss: 1.5765 - val_acc: 0.4876\n",
      "Epoch 41/50\n",
      "50000/50000 [==============================] - 2s 47us/step - loss: 0.6488 - acc: 0.7998 - val_loss: 1.6020 - val_acc: 0.4807\n",
      "Epoch 42/50\n",
      "50000/50000 [==============================] - 4s 81us/step - loss: 0.6307 - acc: 0.8077 - val_loss: 1.5834 - val_acc: 0.4891\n",
      "Epoch 43/50\n",
      "50000/50000 [==============================] - 4s 75us/step - loss: 0.6139 - acc: 0.8146 - val_loss: 1.6150 - val_acc: 0.4870\n",
      "Epoch 44/50\n",
      "50000/50000 [==============================] - 3s 66us/step - loss: 0.5951 - acc: 0.8216 - val_loss: 1.6386 - val_acc: 0.4794\n",
      "Epoch 45/50\n",
      "50000/50000 [==============================] - 2s 47us/step - loss: 0.5759 - acc: 0.8295 - val_loss: 1.6354 - val_acc: 0.4907\n",
      "Epoch 46/50\n",
      "50000/50000 [==============================] - 4s 88us/step - loss: 0.5611 - acc: 0.8355 - val_loss: 1.6429 - val_acc: 0.4869\n",
      "Epoch 47/50\n",
      "50000/50000 [==============================] - 3s 51us/step - loss: 0.5417 - acc: 0.8432 - val_loss: 1.6653 - val_acc: 0.4824\n",
      "Epoch 00047: early stopping\n"
     ]
    }
   ],
   "source": [
    "# 載入 Callbacks\n",
    "\"\"\"Code Here\n",
    "設定 callbacks: Earlystop\n",
    "\"\"\"\n",
    "from keras.callbacks import EarlyStopping\n",
    "PATIENCE = [10, 20]\n",
    "results = {}\n",
    "for patience in PATIENCE:\n",
    "    earlystop = EarlyStopping(monitor=\"val_acc\", \n",
    "                          patience=patience, \n",
    "                          verbose=1\n",
    "                          )\n",
    "    \"\"\"Code Here\n",
    "    撰寫你的訓練流程並將結果用 dictionary 紀錄\n",
    "    \"\"\"\n",
    "    model = build_mlp(input_shape=x_train.shape[1:])\n",
    "    model.summary()\n",
    "    optimizer = keras.optimizers.SGD(lr=LEARNING_RATE, nesterov=True, momentum=MOMENTUM)\n",
    "    model.compile(loss=\"categorical_crossentropy\", metrics=[\"acc\"], optimizer=optimizer)\n",
    "\n",
    "    model.fit(x_train, y_train, \n",
    "              epochs=EPOCHS, \n",
    "              batch_size=BATCH_SIZE, \n",
    "              validation_data=(x_test, y_test), \n",
    "              shuffle=True,\n",
    "              callbacks=[earlystop]\n",
    "             )\n",
    "\n",
    "    # Collect results\n",
    "    result = f\"patience {patience}\"\n",
    "    results[result] = {}\n",
    "    results[result][\"train_loss\"] = model.history.history[\"loss\"]\n",
    "    results[result][\"valid_loss\"] = model.history.history[\"val_loss\"]\n",
    "    results[result][\"train_acc\"] = model.history.history[\"acc\"]\n",
    "    results[result][\"valid_acc\"] = model.history.history[\"val_acc\"]\n",
    "    "
   ]
  },
  {
   "cell_type": "code",
   "execution_count": 8,
   "metadata": {},
   "outputs": [
    {
     "name": "stdout",
     "output_type": "stream",
     "text": [
      "patience 10\n"
     ]
    },
    {
     "data": {
      "image/png": "[encoded data removed]",
      "text/plain": [
       "<Figure size 432x288 with 1 Axes>"
      ]
     },
     "metadata": {
      "needs_background": "light"
     },
     "output_type": "display_data"
    },
    {
     "data": {
      "image/png": "[encoded data removed]",
      "text/plain": [
       "<Figure size 432x288 with 1 Axes>"
      ]
     },
     "metadata": {
      "needs_background": "light"
     },
     "output_type": "display_data"
    },
    {
     "name": "stdout",
     "output_type": "stream",
     "text": [
      "patience 20\n"
     ]
    },
    {
     "data": {
      "image/png": "[encoded data removed]",
      "text/plain": [
       "<Figure size 432x288 with 1 Axes>"
      ]
     },
     "metadata": {
      "needs_background": "light"
     },
     "output_type": "display_data"
    },
    {
     "data": {
      "image/png": "[encoded data removed]",
      "text/plain": [
       "<Figure size 432x288 with 1 Axes>"
      ]
     },
     "metadata": {
      "needs_background": "light"
     },
     "output_type": "display_data"
    }
   ],
   "source": [
    "import matplotlib.pyplot as plt\n",
    "%matplotlib inline\n",
    "\"\"\"Code Here\n",
    "將結果繪出\n",
    "\"\"\"\n",
    "for patience in PATIENCE:\n",
    "    result = f\"patience {patience}\"\n",
    "    print(result)\n",
    "    train_loss = results[result][\"train_loss\"]\n",
    "    valid_loss = results[result][\"valid_loss\"]\n",
    "    train_acc = results[result][\"train_acc\"]\n",
    "    valid_acc = results[result][\"valid_acc\"]\n",
    "    plt.plot(range(len(train_loss)), train_loss, label=\"train loss\")\n",
    "    plt.plot(range(len(valid_loss)), valid_loss, label=\"valid loss\")\n",
    "    plt.legend()\n",
    "    plt.title(\"Loss\")\n",
    "    plt.show()\n",
    "\n",
    "    plt.plot(range(len(train_acc)), train_acc, label=\"train accuracy\")\n",
    "    plt.plot(range(len(valid_acc)), valid_acc, label=\"valid accuracy\")\n",
    "    plt.legend()\n",
    "    plt.title(\"Accuracy\")\n",
    "    plt.show()"
   ]
  },
  {
   "cell_type": "code",
   "execution_count": null,
   "metadata": {},
   "outputs": [],
   "source": []
  }
 ],
 "metadata": {
  "kernelspec": {
   "display_name": "Python 3",
   "language": "python",
   "name": "python3"
  },
  "language_info": {
   "codemirror_mode": {
    "name": "ipython",
    "version": 3
   },
   "file_extension": ".py",
   "mimetype": "text/x-python",
   "name": "python",
   "nbconvert_exporter": "python",
   "pygments_lexer": "ipython3",
   "version": "3.7.4"
  }
 },
 "nbformat": 4,
 "nbformat_minor": 2
}
