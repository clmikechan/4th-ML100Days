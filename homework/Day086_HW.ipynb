{
 "cells": [
  {
   "cell_type": "markdown",
   "metadata": {},
   "source": [
    "## Work\n",
    "1. 試比較 save_best_only 與否的差異\n",
    "2. 請僅存入將 save_weights_only 設定為 True, 並嘗試 reset ipynb 並將模型與權重重新建回並預測 x_test"
   ]
  },
  {
   "cell_type": "code",
   "execution_count": 1,
   "metadata": {},
   "outputs": [
    {
     "name": "stderr",
     "output_type": "stream",
     "text": [
      "Using TensorFlow backend.\n"
     ]
    }
   ],
   "source": [
    "import os\n",
    "import keras\n",
    "\n",
    "# Disable GPU\n",
    "#os.environ[\"CUDA_VISIBLE_DEVICES\"] = \"\""
   ]
  },
  {
   "cell_type": "code",
   "execution_count": 2,
   "metadata": {},
   "outputs": [],
   "source": [
    "train, test = keras.datasets.cifar10.load_data()"
   ]
  },
  {
   "cell_type": "code",
   "execution_count": 3,
   "metadata": {},
   "outputs": [],
   "source": [
    "## 資料前處理\n",
    "def preproc_x(x, flatten=True):\n",
    "    x = x / 255.\n",
    "    if flatten:\n",
    "        x = x.reshape((len(x), -1))\n",
    "    return x\n",
    "\n",
    "def preproc_y(y, num_classes=10):\n",
    "    if y.shape[-1] == 1:\n",
    "        y = keras.utils.to_categorical(y, num_classes)\n",
    "    return y    "
   ]
  },
  {
   "cell_type": "code",
   "execution_count": 4,
   "metadata": {},
   "outputs": [],
   "source": [
    "x_train, y_train = train\n",
    "x_test, y_test = test\n",
    "\n",
    "# Preproc the inputs\n",
    "x_train = preproc_x(x_train)\n",
    "x_test = preproc_x(x_test)\n",
    "\n",
    "# Preprc the outputs\n",
    "y_train = preproc_y(y_train)\n",
    "y_test = preproc_y(y_test)"
   ]
  },
  {
   "cell_type": "code",
   "execution_count": 5,
   "metadata": {},
   "outputs": [],
   "source": [
    "from keras.layers import BatchNormalization\n",
    "def build_mlp(input_shape, output_units=10, num_neurons=[512, 256, 128]):\n",
    "    \"\"\"Code Here\n",
    "    建立你的神經網路\n",
    "    \"\"\"\n",
    "    input_layer = keras.layers.Input(input_shape)\n",
    "    \n",
    "    for i, n_units in enumerate(num_neurons):\n",
    "        if i == 0:\n",
    "            x = keras.layers.Dense(units=n_units, \n",
    "                                   activation=\"relu\", \n",
    "                                   name=\"hidden_layer\"+str(i+1))(input_layer)\n",
    "            x = BatchNormalization()(x)\n",
    "        else:\n",
    "            x = keras.layers.Dense(units=n_units, \n",
    "                                   activation=\"relu\", \n",
    "                                   name=\"hidden_layer\"+str(i+1))(x)\n",
    "            x = BatchNormalization()(x)\n",
    "    \n",
    "    out = keras.layers.Dense(units=output_units, activation=\"softmax\", name=\"output\")(x)\n",
    "    \n",
    "    model = keras.models.Model(inputs=[input_layer], outputs=[out])\n",
    "    return model"
   ]
  },
  {
   "cell_type": "code",
   "execution_count": 6,
   "metadata": {},
   "outputs": [],
   "source": [
    "\"\"\"Code Here\n",
    "設定超參數\n",
    "\"\"\"\n",
    "LEARNING_RATE = 1e-3\n",
    "EPOCHS = 50\n",
    "BATCH_SIZE = 1024\n",
    "MOMENTUM = 0.95"
   ]
  },
  {
   "cell_type": "code",
   "execution_count": 7,
   "metadata": {},
   "outputs": [
    {
     "name": "stdout",
     "output_type": "stream",
     "text": [
      "Model: \"model_1\"\n",
      "_________________________________________________________________\n",
      "Layer (type)                 Output Shape              Param #   \n",
      "=================================================================\n",
      "input_1 (InputLayer)         (None, 3072)              0         \n",
      "_________________________________________________________________\n",
      "hidden_layer1 (Dense)        (None, 512)               1573376   \n",
      "_________________________________________________________________\n",
      "batch_normalization_1 (Batch (None, 512)               2048      \n",
      "_________________________________________________________________\n",
      "hidden_layer2 (Dense)        (None, 256)               131328    \n",
      "_________________________________________________________________\n",
      "batch_normalization_2 (Batch (None, 256)               1024      \n",
      "_________________________________________________________________\n",
      "hidden_layer3 (Dense)        (None, 128)               32896     \n",
      "_________________________________________________________________\n",
      "batch_normalization_3 (Batch (None, 128)               512       \n",
      "_________________________________________________________________\n",
      "output (Dense)               (None, 10)                1290      \n",
      "=================================================================\n",
      "Total params: 1,742,474\n",
      "Trainable params: 1,740,682\n",
      "Non-trainable params: 1,792\n",
      "_________________________________________________________________\n",
      "Train on 50000 samples, validate on 10000 samples\n",
      "Epoch 1/50\n",
      "50000/50000 [==============================] - 3s 59us/step - loss: 2.2157 - acc: 0.2679 - val_loss: 2.0960 - val_acc: 0.2247\n",
      "Epoch 2/50\n",
      "50000/50000 [==============================] - 2s 42us/step - loss: 1.7352 - acc: 0.3943 - val_loss: 1.9542 - val_acc: 0.2959\n",
      "Epoch 3/50\n",
      "50000/50000 [==============================] - 2s 43us/step - loss: 1.6125 - acc: 0.4355 - val_loss: 1.8331 - val_acc: 0.3412\n",
      "Epoch 4/50\n",
      "50000/50000 [==============================] - 2s 43us/step - loss: 1.5383 - acc: 0.4625 - val_loss: 1.7149 - val_acc: 0.3978\n",
      "Epoch 5/50\n",
      "50000/50000 [==============================] - 2s 42us/step - loss: 1.4851 - acc: 0.4804 - val_loss: 1.6431 - val_acc: 0.4210\n",
      "Epoch 6/50\n",
      "50000/50000 [==============================] - 2s 43us/step - loss: 1.4401 - acc: 0.4961 - val_loss: 1.5740 - val_acc: 0.4456\n",
      "Epoch 7/50\n",
      "50000/50000 [==============================] - 2s 43us/step - loss: 1.3999 - acc: 0.5105 - val_loss: 1.5488 - val_acc: 0.4516\n",
      "Epoch 8/50\n",
      "50000/50000 [==============================] - 2s 43us/step - loss: 1.3650 - acc: 0.5242 - val_loss: 1.5111 - val_acc: 0.4652\n",
      "Epoch 9/50\n",
      "50000/50000 [==============================] - 2s 43us/step - loss: 1.3328 - acc: 0.5359 - val_loss: 1.4985 - val_acc: 0.4730\n",
      "Epoch 10/50\n",
      "50000/50000 [==============================] - 2s 43us/step - loss: 1.3048 - acc: 0.5449 - val_loss: 1.4916 - val_acc: 0.4692\n",
      "Epoch 11/50\n",
      "50000/50000 [==============================] - 2s 45us/step - loss: 1.2753 - acc: 0.5567 - val_loss: 1.4744 - val_acc: 0.4772\n",
      "Epoch 12/50\n",
      "50000/50000 [==============================] - 2s 44us/step - loss: 1.2477 - acc: 0.5660 - val_loss: 1.4668 - val_acc: 0.4771\n",
      "Epoch 13/50\n",
      "50000/50000 [==============================] - 2s 43us/step - loss: 1.2233 - acc: 0.5764 - val_loss: 1.4641 - val_acc: 0.4839\n",
      "Epoch 14/50\n",
      "50000/50000 [==============================] - 2s 44us/step - loss: 1.1991 - acc: 0.5851 - val_loss: 1.4540 - val_acc: 0.4823\n",
      "Epoch 15/50\n",
      "50000/50000 [==============================] - 2s 45us/step - loss: 1.1752 - acc: 0.5941 - val_loss: 1.4535 - val_acc: 0.4870\n",
      "Epoch 16/50\n",
      "50000/50000 [==============================] - 2s 45us/step - loss: 1.1528 - acc: 0.6033 - val_loss: 1.4552 - val_acc: 0.4857\n",
      "Epoch 17/50\n",
      "50000/50000 [==============================] - 2s 47us/step - loss: 1.1302 - acc: 0.6122 - val_loss: 1.4576 - val_acc: 0.4852\n",
      "Epoch 18/50\n",
      "50000/50000 [==============================] - 3s 50us/step - loss: 1.1092 - acc: 0.6192 - val_loss: 1.4576 - val_acc: 0.4826\n",
      "Epoch 19/50\n",
      "50000/50000 [==============================] - 3s 51us/step - loss: 1.0861 - acc: 0.6305 - val_loss: 1.4505 - val_acc: 0.4889\n",
      "Epoch 20/50\n",
      "50000/50000 [==============================] - 2s 46us/step - loss: 1.0630 - acc: 0.6381 - val_loss: 1.4630 - val_acc: 0.4834\n",
      "Epoch 21/50\n",
      "50000/50000 [==============================] - 3s 51us/step - loss: 1.0430 - acc: 0.6441 - val_loss: 1.4713 - val_acc: 0.4806\n",
      "Epoch 22/50\n",
      "50000/50000 [==============================] - 2s 46us/step - loss: 1.0215 - acc: 0.6537 - val_loss: 1.4518 - val_acc: 0.4916\n",
      "Epoch 23/50\n",
      "50000/50000 [==============================] - 3s 51us/step - loss: 1.0024 - acc: 0.6611 - val_loss: 1.4539 - val_acc: 0.4923\n",
      "Epoch 24/50\n",
      "50000/50000 [==============================] - 3s 59us/step - loss: 0.9807 - acc: 0.6691 - val_loss: 1.4502 - val_acc: 0.4879\n",
      "Epoch 25/50\n",
      "50000/50000 [==============================] - 3s 50us/step - loss: 0.9583 - acc: 0.6773 - val_loss: 1.4716 - val_acc: 0.4843\n",
      "Epoch 26/50\n",
      "50000/50000 [==============================] - 2s 50us/step - loss: 0.9397 - acc: 0.6847 - val_loss: 1.4610 - val_acc: 0.4938\n",
      "Epoch 27/50\n",
      "50000/50000 [==============================] - 2s 50us/step - loss: 0.9207 - acc: 0.6918 - val_loss: 1.4713 - val_acc: 0.4903\n",
      "Epoch 28/50\n",
      "50000/50000 [==============================] - 3s 65us/step - loss: 0.8997 - acc: 0.7001 - val_loss: 1.4704 - val_acc: 0.4869\n",
      "Epoch 29/50\n",
      "50000/50000 [==============================] - 2s 49us/step - loss: 0.8785 - acc: 0.7104 - val_loss: 1.4775 - val_acc: 0.4990\n",
      "Epoch 30/50\n",
      "50000/50000 [==============================] - 2s 45us/step - loss: 0.8612 - acc: 0.7168 - val_loss: 1.4767 - val_acc: 0.4911\n",
      "Epoch 31/50\n",
      "50000/50000 [==============================] - 2s 46us/step - loss: 0.8426 - acc: 0.7229 - val_loss: 1.4927 - val_acc: 0.4878\n",
      "Epoch 32/50\n",
      "50000/50000 [==============================] - 3s 66us/step - loss: 0.8226 - acc: 0.7308 - val_loss: 1.4861 - val_acc: 0.4946\n",
      "Epoch 33/50\n",
      "50000/50000 [==============================] - 2s 50us/step - loss: 0.8024 - acc: 0.7393 - val_loss: 1.4902 - val_acc: 0.4935\n",
      "Epoch 34/50\n",
      "50000/50000 [==============================] - 3s 55us/step - loss: 0.7827 - acc: 0.7464 - val_loss: 1.4972 - val_acc: 0.4854\n",
      "Epoch 35/50\n",
      "50000/50000 [==============================] - 3s 63us/step - loss: 0.7642 - acc: 0.7540 - val_loss: 1.5096 - val_acc: 0.4918\n",
      "Epoch 36/50\n",
      "50000/50000 [==============================] - 3s 58us/step - loss: 0.7459 - acc: 0.7618 - val_loss: 1.5134 - val_acc: 0.4888\n",
      "Epoch 37/50\n",
      "50000/50000 [==============================] - 3s 61us/step - loss: 0.7265 - acc: 0.7680 - val_loss: 1.5278 - val_acc: 0.4950\n",
      "Epoch 38/50\n",
      "50000/50000 [==============================] - 3s 57us/step - loss: 0.7067 - acc: 0.7769 - val_loss: 1.5429 - val_acc: 0.4924\n",
      "Epoch 39/50\n",
      "50000/50000 [==============================] - 3s 54us/step - loss: 0.6913 - acc: 0.7825 - val_loss: 1.5331 - val_acc: 0.4885\n",
      "Epoch 40/50\n",
      "50000/50000 [==============================] - 3s 56us/step - loss: 0.6727 - acc: 0.7898 - val_loss: 1.5612 - val_acc: 0.4916\n",
      "Epoch 41/50\n",
      "50000/50000 [==============================] - 3s 61us/step - loss: 0.6554 - acc: 0.7969 - val_loss: 1.6252 - val_acc: 0.4833\n",
      "Epoch 42/50\n",
      "50000/50000 [==============================] - 4s 74us/step - loss: 0.6377 - acc: 0.8030 - val_loss: 1.5879 - val_acc: 0.4892\n",
      "Epoch 43/50\n",
      "50000/50000 [==============================] - 3s 61us/step - loss: 0.6199 - acc: 0.8114 - val_loss: 1.5943 - val_acc: 0.4881\n",
      "Epoch 44/50\n",
      "50000/50000 [==============================] - 3s 68us/step - loss: 0.6037 - acc: 0.8173 - val_loss: 1.6001 - val_acc: 0.4853\n",
      "Epoch 45/50\n",
      "50000/50000 [==============================] - 4s 80us/step - loss: 0.5863 - acc: 0.8246 - val_loss: 1.6407 - val_acc: 0.4830\n",
      "Epoch 46/50\n",
      "50000/50000 [==============================] - 3s 65us/step - loss: 0.5676 - acc: 0.8331 - val_loss: 1.6075 - val_acc: 0.4874\n",
      "Epoch 47/50\n",
      "50000/50000 [==============================] - 3s 68us/step - loss: 0.5508 - acc: 0.8408 - val_loss: 1.6318 - val_acc: 0.4910\n",
      "Epoch 48/50\n",
      "50000/50000 [==============================] - 4s 72us/step - loss: 0.5343 - acc: 0.8463 - val_loss: 1.6346 - val_acc: 0.4895\n",
      "Epoch 49/50\n",
      "50000/50000 [==============================] - 4s 75us/step - loss: 0.5187 - acc: 0.8530 - val_loss: 1.6506 - val_acc: 0.4873\n"
     ]
    },
    {
     "name": "stdout",
     "output_type": "stream",
     "text": [
      "Epoch 50/50\n",
      "50000/50000 [==============================] - 4s 74us/step - loss: 0.5022 - acc: 0.8593 - val_loss: 1.6652 - val_acc: 0.4862\n",
      "10000/10000 [==============================] - 1s 120us/step\n"
     ]
    }
   ],
   "source": [
    "# 載入 Callbacks\n",
    "\"\"\"Code Here\n",
    "設定 callbacks: model checkpoint\n",
    "\"\"\"\n",
    "from keras.callbacks import ModelCheckpoint\n",
    "\n",
    "model_ckpt = ModelCheckpoint(filepath=\"./tmp.h5\", \n",
    "                             monitor=\"val_loss\", \n",
    "                             save_best_only=False,\n",
    "                             save_weights_only=True)\n",
    "\n",
    "results = {}\n",
    "\"\"\"Code Here\n",
    "撰寫你的訓練流程並將結果用 dictionary 紀錄\n",
    "\"\"\"\n",
    "model = build_mlp(input_shape=x_train.shape[1:])\n",
    "model.summary()\n",
    "optimizer = keras.optimizers.SGD(lr=LEARNING_RATE, nesterov=True, momentum=MOMENTUM)\n",
    "model.compile(loss=\"categorical_crossentropy\", metrics=[\"acc\"], optimizer=optimizer)\n",
    "\n",
    "model.fit(x_train, y_train, \n",
    "          epochs=EPOCHS, \n",
    "          batch_size=BATCH_SIZE, \n",
    "          validation_data=(x_test, y_test), \n",
    "          shuffle=True,\n",
    "          callbacks=[model_ckpt]\n",
    "         )\n",
    "\n",
    "# Collect results\n",
    "train_loss = model.history.history[\"loss\"]\n",
    "valid_loss = model.history.history[\"val_loss\"]\n",
    "train_acc = model.history.history[\"acc\"]\n",
    "valid_acc = model.history.history[\"val_acc\"]\n",
    "\n",
    "# Load back\n",
    "model = build_mlp(input_shape=x_train.shape[1:])\n",
    "model.compile(loss=\"categorical_crossentropy\", metrics=[\"acc\"], optimizer=optimizer)\n",
    "model.load_weights(\"./tmp.h5\")\n",
    "loss_loadback, acc_loadback = model.evaluate(x_test, y_test)"
   ]
  },
  {
   "cell_type": "code",
   "execution_count": 8,
   "metadata": {
    "scrolled": true
   },
   "outputs": [
    {
     "data": {
      "image/png": "[encoded data removed]",
      "text/plain": [
       "<Figure size 432x288 with 1 Axes>"
      ]
     },
     "metadata": {
      "needs_background": "light"
     },
     "output_type": "display_data"
    },
    {
     "data": {
      "image/png": "[encoded data removed]",
      "text/plain": [
       "<Figure size 432x288 with 1 Axes>"
      ]
     },
     "metadata": {
      "needs_background": "light"
     },
     "output_type": "display_data"
    }
   ],
   "source": [
    "import matplotlib.pyplot as plt\n",
    "%matplotlib inline\n",
    "\"\"\"Code Here\n",
    "將結果繪出\n",
    "\"\"\"\n",
    "plt.plot(range(len(train_loss)), train_loss, label=\"train loss\")\n",
    "plt.plot(range(len(valid_loss)), valid_loss, label=\"valid loss\")\n",
    "plt.hlines(y=loss_loadback, xmin=0, xmax=len(train_loss), colors='r', linestyles='--')\n",
    "plt.legend()\n",
    "plt.title(\"Loss\")\n",
    "plt.show()\n",
    "\n",
    "plt.plot(range(len(train_acc)), train_acc, label=\"train accuracy\")\n",
    "plt.plot(range(len(valid_acc)), valid_acc, label=\"valid accuracy\")\n",
    "plt.hlines(y=acc_loadback, xmin=0, xmax=len(train_loss), colors='r', linestyles='--')\n",
    "plt.legend()\n",
    "plt.title(\"Accuracy\")\n",
    "plt.show()"
   ]
  },
  {
   "cell_type": "code",
   "execution_count": 9,
   "metadata": {},
   "outputs": [
    {
     "data": {
      "text/plain": [
       "1.6652489831924437"
      ]
     },
     "execution_count": 9,
     "metadata": {},
     "output_type": "execute_result"
    }
   ],
   "source": [
    "loss_loadback"
   ]
  },
  {
   "cell_type": "code",
   "execution_count": 10,
   "metadata": {},
   "outputs": [
    {
     "data": {
      "text/plain": [
       "0.4862000048160553"
      ]
     },
     "execution_count": 10,
     "metadata": {},
     "output_type": "execute_result"
    }
   ],
   "source": [
    "acc_loadback"
   ]
  },
  {
   "cell_type": "code",
   "execution_count": null,
   "metadata": {},
   "outputs": [],
   "source": []
  }
 ],
 "metadata": {
  "kernelspec": {
   "display_name": "Python 3",
   "language": "python",
   "name": "python3"
  },
  "language_info": {
   "codemirror_mode": {
    "name": "ipython",
    "version": 3
   },
   "file_extension": ".py",
   "mimetype": "text/x-python",
   "name": "python",
   "nbconvert_exporter": "python",
   "pygments_lexer": "ipython3",
   "version": "3.7.4"
  }
 },
 "nbformat": 4,
 "nbformat_minor": 2
}
