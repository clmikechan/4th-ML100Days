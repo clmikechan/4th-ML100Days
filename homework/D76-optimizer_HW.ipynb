{
 "cells": [
  {
   "cell_type": "markdown",
   "metadata": {},
   "source": [
    "# 作業重點:\n",
    "\n",
    "(1)以, Adam, 為例, 調整 batch_size, epoch , 觀察accurancy, loss 的變化\n",
    "\n",
    "(2)以同一模型, 分別驗證 SGD, Adam, Rmsprop 的 accurancy"
   ]
  },
  {
   "cell_type": "markdown",
   "metadata": {},
   "source": [
    "# 作業目標:\n",
    "    \n",
    "    取得各種優化器的運算結果"
   ]
  },
  {
   "cell_type": "code",
   "execution_count": 1,
   "metadata": {},
   "outputs": [
    {
     "name": "stderr",
     "output_type": "stream",
     "text": [
      "Using TensorFlow backend.\n"
     ]
    }
   ],
   "source": [
    "from __future__ import print_function\n",
    "import keras\n",
    "from keras.datasets import cifar10\n",
    "from keras.preprocessing.image import ImageDataGenerator\n",
    "from keras.models import Sequential\n",
    "from keras.layers import Dense, Dropout, Activation, Flatten\n",
    "from keras.layers import Conv2D, MaxPooling2D\n",
    "import os\n",
    "from keras import optimizers\n"
   ]
  },
  {
   "cell_type": "code",
   "execution_count": 2,
   "metadata": {},
   "outputs": [],
   "source": [
    "#Blas GEMM launch failed , 避免動態分配GPU / CPU, 出現問題\n",
    "import tensorflow as tf\n",
    "if tf.__version__[0] == '2':\n",
    "    import tensorflow.compat.v1 as tf\n",
    "\n",
    "gpu_options = tf.GPUOptions(per_process_gpu_memory_fraction=0.333)\n",
    "sess = tf.Session(config=tf.ConfigProto(gpu_options=gpu_options))\n"
   ]
  },
  {
   "cell_type": "code",
   "execution_count": 3,
   "metadata": {},
   "outputs": [],
   "source": [
    "\n",
    "'''\n",
    "   宣告並設定\n",
    "   batch_size：對總的樣本數進行分組，每組包含的樣本數量\n",
    "   epochs ：訓練次數\n",
    "   \n",
    "''' \n",
    "\n",
    "batch_size = 32\n",
    "num_classes = 10\n",
    "epochs = 20\n",
    "data_augmentation = True\n",
    "num_predictions = 20\n",
    "save_dir = os.path.join(os.getcwd(), 'saved_models')\n",
    "model_name = 'keras_cifar10_trained_model.h5'\n"
   ]
  },
  {
   "cell_type": "code",
   "execution_count": 4,
   "metadata": {},
   "outputs": [
    {
     "name": "stdout",
     "output_type": "stream",
     "text": [
      "x_train shape: (50000, 32, 32, 3)\n",
      "50000 train samples\n",
      "10000 test samples\n"
     ]
    }
   ],
   "source": [
    "\n",
    "# The data, split between train and test sets:\n",
    "(x_train, y_train), (x_test, y_test) = cifar10.load_data()\n",
    "print('x_train shape:', x_train.shape)\n",
    "print(x_train.shape[0], 'train samples')\n",
    "print(x_test.shape[0], 'test samples')\n",
    "\n",
    "# Convert class vectors to binary class matrices.\n",
    "y_train = keras.utils.to_categorical(y_train, num_classes)\n",
    "y_test = keras.utils.to_categorical(y_test, num_classes)"
   ]
  },
  {
   "cell_type": "code",
   "execution_count": 5,
   "metadata": {},
   "outputs": [],
   "source": [
    "#    第一步：選擇模型, 順序模型是多個網絡層的線性堆疊\n",
    " \n",
    "model = Sequential()\n",
    "\n",
    "#   第二步：構建網絡層\n",
    "model.add(Conv2D(32, (3, 3), padding='same',\n",
    "                 input_shape=x_train.shape[1:]))\n",
    "model.add(Activation('relu'))\n",
    "model.add(Conv2D(32, (3, 3)))\n",
    "model.add(Activation('relu'))\n",
    "model.add(MaxPooling2D(pool_size=(2, 2)))\n",
    "model.add(Dropout(0.25))\n",
    "\n",
    "model.add(Conv2D(64, (3, 3), padding='same'))\n",
    "model.add(Activation('relu'))\n",
    "model.add(Conv2D(64, (3, 3)))\n",
    "model.add(Activation('relu'))\n",
    "model.add(MaxPooling2D(pool_size=(2, 2)))\n",
    "model.add(Dropout(0.25))\n",
    "\n",
    "model.add(Flatten())\n",
    "model.add(Dense(512))\n",
    "model.add(Activation('relu'))\n",
    "model.add(Dropout(0.5))\n",
    "\n",
    "model.add(Dense( 10)) # 輸出結果是10個類別，所以維度是10   \n",
    "model.add(Activation('softmax')) # 最後一層用softmax作為激活函數"
   ]
  },
  {
   "cell_type": "code",
   "execution_count": 6,
   "metadata": {},
   "outputs": [
    {
     "name": "stdout",
     "output_type": "stream",
     "text": [
      "Total Parameters：1250858\n"
     ]
    }
   ],
   "source": [
    "# 模型建立完成後，統計參數總量\n",
    "print(\"Total Parameters：%d\" % model.count_params())"
   ]
  },
  {
   "cell_type": "code",
   "execution_count": 7,
   "metadata": {},
   "outputs": [
    {
     "name": "stdout",
     "output_type": "stream",
     "text": [
      "Model: \"sequential_1\"\n",
      "_________________________________________________________________\n",
      "Layer (type)                 Output Shape              Param #   \n",
      "=================================================================\n",
      "conv2d_1 (Conv2D)            (None, 32, 32, 32)        896       \n",
      "_________________________________________________________________\n",
      "activation_1 (Activation)    (None, 32, 32, 32)        0         \n",
      "_________________________________________________________________\n",
      "conv2d_2 (Conv2D)            (None, 30, 30, 32)        9248      \n",
      "_________________________________________________________________\n",
      "activation_2 (Activation)    (None, 30, 30, 32)        0         \n",
      "_________________________________________________________________\n",
      "max_pooling2d_1 (MaxPooling2 (None, 15, 15, 32)        0         \n",
      "_________________________________________________________________\n",
      "dropout_1 (Dropout)          (None, 15, 15, 32)        0         \n",
      "_________________________________________________________________\n",
      "conv2d_3 (Conv2D)            (None, 15, 15, 64)        18496     \n",
      "_________________________________________________________________\n",
      "activation_3 (Activation)    (None, 15, 15, 64)        0         \n",
      "_________________________________________________________________\n",
      "conv2d_4 (Conv2D)            (None, 13, 13, 64)        36928     \n",
      "_________________________________________________________________\n",
      "activation_4 (Activation)    (None, 13, 13, 64)        0         \n",
      "_________________________________________________________________\n",
      "max_pooling2d_2 (MaxPooling2 (None, 6, 6, 64)          0         \n",
      "_________________________________________________________________\n",
      "dropout_2 (Dropout)          (None, 6, 6, 64)          0         \n",
      "_________________________________________________________________\n",
      "flatten_1 (Flatten)          (None, 2304)              0         \n",
      "_________________________________________________________________\n",
      "dense_1 (Dense)              (None, 512)               1180160   \n",
      "_________________________________________________________________\n",
      "activation_5 (Activation)    (None, 512)               0         \n",
      "_________________________________________________________________\n",
      "dropout_3 (Dropout)          (None, 512)               0         \n",
      "_________________________________________________________________\n",
      "dense_2 (Dense)              (None, 10)                5130      \n",
      "_________________________________________________________________\n",
      "activation_6 (Activation)    (None, 10)                0         \n",
      "=================================================================\n",
      "Total params: 1,250,858\n",
      "Trainable params: 1,250,858\n",
      "Non-trainable params: 0\n",
      "_________________________________________________________________\n"
     ]
    }
   ],
   "source": [
    "# 輸出模型摘要資訊\n",
    "model.summary()"
   ]
  },
  {
   "cell_type": "code",
   "execution_count": 8,
   "metadata": {},
   "outputs": [],
   "source": [
    "#第三步編譯\n",
    "'''\n",
    " SGD(隨機梯度下降) - Arguments\n",
    "lr: float >= 0. Learning rate.\n",
    "momentum: float >= 0. Parameter that accelerates SGD in the relevant direction and dampens oscillations.\n",
    "decay: float >= 0. Learning rate decay over each update.\n",
    "nesterov: boolean. Whether to apply Nesterov momentum.\n",
    "'''\n",
    "\n",
    "'''\n",
    "RMSprop- Arguments\n",
    "lr: float >= 0. Learning rate.\n",
    "rho: float >= 0.\n",
    "epsilon: float >= 0. Fuzz factor. If None, defaults to K.epsilon().\n",
    "decay: float >= 0. Learning rate decay over each update.\n",
    "'''\n",
    "\n",
    "'''\n",
    "Example:\n",
    "opt = optimizers.SGD(lr=0.01, decay=1e-6, momentum=0.9, nesterov=True)\n",
    "\n",
    "'''\n",
    "\n",
    "model.compile(optimizer = 'RMSprop', loss = 'categorical_crossentropy', metrics = ['acc'])\n"
   ]
  },
  {
   "cell_type": "code",
   "execution_count": 9,
   "metadata": {},
   "outputs": [],
   "source": [
    "# 資料正規化\n",
    "x_train = x_train.astype('float32')\n",
    "x_test = x_test.astype('float32')\n",
    "x_train /= 255\n",
    "x_test /= 255\n"
   ]
  },
  {
   "cell_type": "code",
   "execution_count": 10,
   "metadata": {},
   "outputs": [
    {
     "name": "stdout",
     "output_type": "stream",
     "text": [
      "Using real-time data augmentation.\n",
      "\n",
      "Train on 50000 samples, validate on 10000 samples\n",
      "Epoch 1/20\n",
      "50000/50000 [==============================] - 37s 746us/step - loss: 1.5207 - acc: 0.4520 - val_loss: 1.4348 - val_acc: 0.5225\n",
      "Epoch 2/20\n",
      "50000/50000 [==============================] - 31s 614us/step - loss: 1.1260 - acc: 0.6053 - val_loss: 0.9837 - val_acc: 0.6478\n",
      "Epoch 3/20\n",
      "50000/50000 [==============================] - 31s 622us/step - loss: 1.0082 - acc: 0.6545 - val_loss: 0.9889 - val_acc: 0.6593\n",
      "Epoch 4/20\n",
      "50000/50000 [==============================] - 32s 631us/step - loss: 0.9679 - acc: 0.6725 - val_loss: 0.8533 - val_acc: 0.7016\n",
      "Epoch 5/20\n",
      "50000/50000 [==============================] - 32s 642us/step - loss: 0.9639 - acc: 0.6776 - val_loss: 0.9528 - val_acc: 0.6865\n",
      "Epoch 6/20\n",
      "50000/50000 [==============================] - 33s 661us/step - loss: 0.9802 - acc: 0.6769 - val_loss: 0.9676 - val_acc: 0.6928\n",
      "Epoch 7/20\n",
      "50000/50000 [==============================] - 34s 674us/step - loss: 1.0191 - acc: 0.6669 - val_loss: 1.8288 - val_acc: 0.5776\n",
      "Epoch 8/20\n",
      "50000/50000 [==============================] - 36s 717us/step - loss: 1.0589 - acc: 0.6602 - val_loss: 1.0145 - val_acc: 0.6604\n",
      "Epoch 9/20\n",
      "50000/50000 [==============================] - 36s 714us/step - loss: 1.0884 - acc: 0.6547 - val_loss: 1.0219 - val_acc: 0.6644\n",
      "Epoch 10/20\n",
      "50000/50000 [==============================] - 35s 703us/step - loss: 1.1354 - acc: 0.6372 - val_loss: 1.2789 - val_acc: 0.6145\n",
      "Epoch 11/20\n",
      "50000/50000 [==============================] - 35s 691us/step - loss: 1.1783 - acc: 0.6242 - val_loss: 1.2786 - val_acc: 0.5944\n",
      "Epoch 12/20\n",
      "50000/50000 [==============================] - 35s 697us/step - loss: 1.2206 - acc: 0.6143 - val_loss: 1.0338 - val_acc: 0.6788\n",
      "Epoch 13/20\n",
      "50000/50000 [==============================] - 37s 732us/step - loss: 1.2785 - acc: 0.5949 - val_loss: 1.1435 - val_acc: 0.6071\n",
      "Epoch 14/20\n",
      "50000/50000 [==============================] - 47s 932us/step - loss: 1.3435 - acc: 0.5743 - val_loss: 1.3460 - val_acc: 0.5806\n",
      "Epoch 15/20\n",
      "50000/50000 [==============================] - 42s 830us/step - loss: 1.4218 - acc: 0.5459 - val_loss: 1.1427 - val_acc: 0.6312\n",
      "Epoch 16/20\n",
      "50000/50000 [==============================] - 45s 904us/step - loss: 1.4577 - acc: 0.5309 - val_loss: 1.4535 - val_acc: 0.5306\n",
      "Epoch 17/20\n",
      "50000/50000 [==============================] - 47s 939us/step - loss: 1.5602 - acc: 0.4966 - val_loss: 1.2856 - val_acc: 0.5531\n",
      "Epoch 18/20\n",
      "50000/50000 [==============================] - 53s 1ms/step - loss: 1.6318 - acc: 0.4736 - val_loss: 1.4152 - val_acc: 0.5050\n",
      "Epoch 19/20\n",
      "50000/50000 [==============================] - 55s 1ms/step - loss: 1.6813 - acc: 0.4496 - val_loss: 1.4075 - val_acc: 0.5073\n",
      "Epoch 20/20\n",
      "50000/50000 [==============================] - 50s 1ms/step - loss: 1.7099 - acc: 0.4356 - val_loss: 2.2991 - val_acc: 0.2277\n"
     ]
    },
    {
     "data": {
      "text/plain": [
       "'\\n   第四步：訓練\\n   .fit的一些參數\\n   batch_size：對總的樣本數進行分組，每組包含的樣本數量\\n   epochs ：訓練次數\\n   shuffle：是否把數據隨機打亂之後再進行訓練\\n   validation_split：拿出百分之多少用來做交叉驗證\\n   verbose：屏顯模式 - 0：不輸出, 1：輸出進度, 2：輸出每次的訓練結果\\n'"
      ]
     },
     "execution_count": 10,
     "metadata": {},
     "output_type": "execute_result"
    }
   ],
   "source": [
    "# 是否要做資料處理\n",
    "if not data_augmentation:\n",
    "    print('Not using data augmentation.')\n",
    "    history=model.fit(x_train, y_train,\n",
    "              batch_size=batch_size,\n",
    "              epochs=epochs,\n",
    "              validation_data=(x_test, y_test),\n",
    "              shuffle=True)\n",
    "else:\n",
    "    print('Using real-time data augmentation.')\n",
    "    print('')\n",
    "        \n",
    "    # This will do preprocessing and realtime data augmentation:\n",
    "    datagen = ImageDataGenerator(\n",
    "        featurewise_center=False,  # set input mean to 0 over the dataset\n",
    "        samplewise_center=False,  # set each sample mean to 0\n",
    "        featurewise_std_normalization=False,  # divide inputs by std of the dataset\n",
    "        samplewise_std_normalization=False,  # divide each input by its std\n",
    "        zca_whitening=False,  # apply ZCA whitening\n",
    "        zca_epsilon=1e-06,  # epsilon for ZCA whitening\n",
    "        rotation_range=0,  # randomly rotate images in the range (degrees, 0 to 180)\n",
    "        # randomly shift images horizontally (fraction of total width)\n",
    "        width_shift_range=0.1,\n",
    "        # randomly shift images vertically (fraction of total height)\n",
    "        height_shift_range=0.1,\n",
    "        shear_range=0.,  # set range for random shear\n",
    "        zoom_range=0.,  # set range for random zoom\n",
    "        channel_shift_range=0.,  # set range for random channel shifts\n",
    "        # set mode for filling points outside the input boundaries\n",
    "        fill_mode='nearest',\n",
    "        cval=0.,  # value used for fill_mode = \"constant\"\n",
    "        horizontal_flip=True,  # randomly flip images\n",
    "        vertical_flip=False,  # randomly flip images\n",
    "        # set rescaling factor (applied before any other transformation)\n",
    "        rescale=None,\n",
    "        # set function that will be applied on each input\n",
    "        preprocessing_function=None,\n",
    "        # image data format, either \"channels_first\" or \"channels_last\"\n",
    "        data_format=None,\n",
    "        # fraction of images reserved for validation (strictly between 0 and 1)\n",
    "        validation_split=0.0)\n",
    "\n",
    "    # Compute quantities required for feature-wise normalization\n",
    "    # (std, mean, and principal components if ZCA whitening is applied).\n",
    "    datagen.fit(x_train)\n",
    "    history=model.fit(x_train, y_train,\n",
    "              batch_size=batch_size,\n",
    "              epochs=epochs,\n",
    "              validation_data=(x_test, y_test),\n",
    "              shuffle=True)   \n",
    "\n",
    "'''\n",
    "   第四步：訓練\n",
    "   .fit的一些參數\n",
    "   batch_size：對總的樣本數進行分組，每組包含的樣本數量\n",
    "   epochs ：訓練次數\n",
    "   shuffle：是否把數據隨機打亂之後再進行訓練\n",
    "   validation_split：拿出百分之多少用來做交叉驗證\n",
    "   verbose：屏顯模式 - 0：不輸出, 1：輸出進度, 2：輸出每次的訓練結果\n",
    "''' \n",
    "    "
   ]
  },
  {
   "cell_type": "code",
   "execution_count": 11,
   "metadata": {},
   "outputs": [
    {
     "name": "stdout",
     "output_type": "stream",
     "text": [
      "Saved trained model at D:\\git\\4th-ML100Days\\homework\\saved_models\\RMSprop_keras_cifar10_trained_model.h5 \n",
      "10000/10000 [==============================] - 2s 196us/step\n",
      "Test loss: 2.2991321041107176\n",
      "Test accuracy: 0.22769999504089355\n"
     ]
    }
   ],
   "source": [
    "# Save model and weights\n",
    "if not os.path.isdir(save_dir):\n",
    "    os.makedirs(save_dir)\n",
    "model_path = os.path.join(save_dir, 'RMSprop' + '_' + model_name)\n",
    "model.save(model_path)\n",
    "print('Saved trained model at %s ' % model_path)\n",
    "\n",
    "# Score trained model.\n",
    "scores = model.evaluate(x_test, y_test, verbose=1)\n",
    "print('Test loss:', scores[0])\n",
    "print('Test accuracy:', scores[1])"
   ]
  },
  {
   "cell_type": "code",
   "execution_count": 12,
   "metadata": {},
   "outputs": [
    {
     "name": "stdout",
     "output_type": "stream",
     "text": [
      " test set \n",
      "\n",
      " The test loss is %f  [2.2991320943832396, 0.22769999504089355]\n"
     ]
    }
   ],
   "source": [
    "#    第六步：輸出\n",
    "import numpy \n",
    "\n",
    "print ( \" test set \" )\n",
    "scores = model.evaluate(x_test,y_test,batch_size=200,verbose= 0)\n",
    "print ( \"\" )\n",
    "#print ( \" The test loss is %f \" % scores)\n",
    "print ( \" The test loss is %f \", scores)\n",
    "\n",
    "\n",
    "result = model.predict(x_test,batch_size=200,verbose= 0)\n",
    "\n",
    "result_max = numpy.argmax(result, axis = 1 )\n",
    "test_max = numpy.argmax(y_test, axis = 1 )\n",
    "\n",
    "result_bool = numpy.equal(result_max, test_max)\n",
    "true_num = numpy.sum(result_bool)\n"
   ]
  },
  {
   "cell_type": "code",
   "execution_count": 13,
   "metadata": {},
   "outputs": [
    {
     "data": {
      "image/png": "[encoded data removed]",
      "text/plain": [
       "<Figure size 432x288 with 1 Axes>"
      ]
     },
     "metadata": {
      "needs_background": "light"
     },
     "output_type": "display_data"
    },
    {
     "data": {
      "image/png": "[encoded data removed]",
      "text/plain": [
       "<Figure size 432x288 with 1 Axes>"
      ]
     },
     "metadata": {
      "needs_background": "light"
     },
     "output_type": "display_data"
    }
   ],
   "source": [
    "import matplotlib.pyplot as plt\n",
    "%matplotlib inline\n",
    "\n",
    "# Plot training & validation accuracy values\n",
    "plt.plot(history.history['acc'])\n",
    "plt.plot(history.history['val_acc'])\n",
    "plt.title('Model accuracy')\n",
    "plt.ylabel('Accuracy')\n",
    "plt.xlabel('Epoch')\n",
    "plt.legend(['Train', 'Valiidation'], loc='upper left')\n",
    "plt.show()\n",
    "\n",
    "# Plot training & validation loss values\n",
    "plt.plot(history.history['loss'])\n",
    "plt.plot(history.history['val_loss'])\n",
    "plt.title('Model loss')\n",
    "plt.ylabel('Loss')\n",
    "plt.xlabel('Epoch')\n",
    "plt.legend(['Train', 'Valiidation'], loc='upper left')\n",
    "plt.show()"
   ]
  },
  {
   "cell_type": "markdown",
   "metadata": {},
   "source": [
    "# Adam"
   ]
  },
  {
   "cell_type": "code",
   "execution_count": 14,
   "metadata": {},
   "outputs": [
    {
     "name": "stdout",
     "output_type": "stream",
     "text": [
      "Using real-time data augmentation.\n",
      "\n",
      "Train on 50000 samples, validate on 10000 samples\n",
      "Epoch 1/20\n",
      "50000/50000 [==============================] - 36s 722us/step - loss: 1.5067 - acc: 0.4679 - val_loss: 1.2166 - val_acc: 0.5705\n",
      "Epoch 2/20\n",
      "50000/50000 [==============================] - 41s 830us/step - loss: 1.3591 - acc: 0.5214 - val_loss: 1.1544 - val_acc: 0.5982\n",
      "Epoch 3/20\n",
      "50000/50000 [==============================] - 46s 911us/step - loss: 1.2796 - acc: 0.5546 - val_loss: 1.0301 - val_acc: 0.6372\n",
      "Epoch 4/20\n",
      "50000/50000 [==============================] - 53s 1ms/step - loss: 1.2270 - acc: 0.5732 - val_loss: 1.0574 - val_acc: 0.6280\n",
      "Epoch 5/20\n",
      "50000/50000 [==============================] - 61s 1ms/step - loss: 1.1731 - acc: 0.5930 - val_loss: 0.9654 - val_acc: 0.6627\n",
      "Epoch 6/20\n",
      "50000/50000 [==============================] - 63s 1ms/step - loss: 1.1238 - acc: 0.6106 - val_loss: 0.9481 - val_acc: 0.6677\n",
      "Epoch 7/20\n",
      "50000/50000 [==============================] - 50s 991us/step - loss: 1.0837 - acc: 0.6284 - val_loss: 0.9027 - val_acc: 0.6847\n",
      "Epoch 8/20\n",
      "50000/50000 [==============================] - 51s 1ms/step - loss: 1.0467 - acc: 0.6421 - val_loss: 0.9131 - val_acc: 0.6934\n",
      "Epoch 9/20\n",
      "50000/50000 [==============================] - 47s 943us/step - loss: 1.0119 - acc: 0.6513 - val_loss: 0.9003 - val_acc: 0.6870\n",
      "Epoch 10/20\n",
      "50000/50000 [==============================] - 48s 967us/step - loss: 0.9866 - acc: 0.6603 - val_loss: 0.8293 - val_acc: 0.7157\n",
      "Epoch 11/20\n",
      "50000/50000 [==============================] - 50s 990us/step - loss: 0.9721 - acc: 0.6672 - val_loss: 0.8225 - val_acc: 0.7219\n",
      "Epoch 12/20\n",
      "50000/50000 [==============================] - 52s 1ms/step - loss: 0.9419 - acc: 0.6783 - val_loss: 0.8069 - val_acc: 0.7251\n",
      "Epoch 13/20\n",
      "50000/50000 [==============================] - 55s 1ms/step - loss: 0.9298 - acc: 0.6849 - val_loss: 0.8197 - val_acc: 0.7269\n",
      "Epoch 14/20\n",
      "50000/50000 [==============================] - 54s 1ms/step - loss: 0.9064 - acc: 0.6885 - val_loss: 0.8060 - val_acc: 0.7325\n",
      "Epoch 15/20\n",
      "50000/50000 [==============================] - 58s 1ms/step - loss: 0.8946 - acc: 0.6959 - val_loss: 0.8219 - val_acc: 0.7299\n",
      "Epoch 16/20\n",
      "50000/50000 [==============================] - 65s 1ms/step - loss: 0.8750 - acc: 0.7017 - val_loss: 0.8211 - val_acc: 0.7232\n",
      "Epoch 17/20\n",
      "50000/50000 [==============================] - 59s 1ms/step - loss: 0.8744 - acc: 0.7017 - val_loss: 0.7566 - val_acc: 0.7440\n",
      "Epoch 18/20\n",
      "50000/50000 [==============================] - 64s 1ms/step - loss: 0.8587 - acc: 0.7089 - val_loss: 0.8010 - val_acc: 0.7477\n",
      "Epoch 19/20\n",
      "50000/50000 [==============================] - 63s 1ms/step - loss: 0.8502 - acc: 0.7108 - val_loss: 0.7679 - val_acc: 0.7412\n",
      "Epoch 20/20\n",
      "50000/50000 [==============================] - 63s 1ms/step - loss: 0.8252 - acc: 0.7185 - val_loss: 0.7632 - val_acc: 0.7420\n"
     ]
    }
   ],
   "source": [
    "model.compile(optimizer = 'Adam', loss = 'categorical_crossentropy', metrics = ['acc'])\n",
    "\n",
    "if not data_augmentation:\n",
    "    print('Not using data augmentation.')\n",
    "    history=model.fit(x_train, y_train,\n",
    "              batch_size=batch_size,\n",
    "              epochs=epochs,\n",
    "              validation_data=(x_test, y_test),\n",
    "              shuffle=True)\n",
    "else:\n",
    "    print('Using real-time data augmentation.')\n",
    "    print('')\n",
    "        \n",
    "    # This will do preprocessing and realtime data augmentation:\n",
    "    datagen = ImageDataGenerator(\n",
    "        featurewise_center=False,  # set input mean to 0 over the dataset\n",
    "        samplewise_center=False,  # set each sample mean to 0\n",
    "        featurewise_std_normalization=False,  # divide inputs by std of the dataset\n",
    "        samplewise_std_normalization=False,  # divide each input by its std\n",
    "        zca_whitening=False,  # apply ZCA whitening\n",
    "        zca_epsilon=1e-06,  # epsilon for ZCA whitening\n",
    "        rotation_range=0,  # randomly rotate images in the range (degrees, 0 to 180)\n",
    "        # randomly shift images horizontally (fraction of total width)\n",
    "        width_shift_range=0.1,\n",
    "        # randomly shift images vertically (fraction of total height)\n",
    "        height_shift_range=0.1,\n",
    "        shear_range=0.,  # set range for random shear\n",
    "        zoom_range=0.,  # set range for random zoom\n",
    "        channel_shift_range=0.,  # set range for random channel shifts\n",
    "        # set mode for filling points outside the input boundaries\n",
    "        fill_mode='nearest',\n",
    "        cval=0.,  # value used for fill_mode = \"constant\"\n",
    "        horizontal_flip=True,  # randomly flip images\n",
    "        vertical_flip=False,  # randomly flip images\n",
    "        # set rescaling factor (applied before any other transformation)\n",
    "        rescale=None,\n",
    "        # set function that will be applied on each input\n",
    "        preprocessing_function=None,\n",
    "        # image data format, either \"channels_first\" or \"channels_last\"\n",
    "        data_format=None,\n",
    "        # fraction of images reserved for validation (strictly between 0 and 1)\n",
    "        validation_split=0.0)\n",
    "\n",
    "    # Compute quantities required for feature-wise normalization\n",
    "    # (std, mean, and principal components if ZCA whitening is applied).\n",
    "    datagen.fit(x_train)\n",
    "    history=model.fit(x_train, y_train,\n",
    "              batch_size=batch_size,\n",
    "              epochs=epochs,\n",
    "              validation_data=(x_test, y_test),\n",
    "              shuffle=True)  "
   ]
  },
  {
   "cell_type": "code",
   "execution_count": 15,
   "metadata": {},
   "outputs": [
    {
     "name": "stdout",
     "output_type": "stream",
     "text": [
      "Saved trained model at D:\\git\\4th-ML100Days\\homework\\saved_models\\Adam_keras_cifar10_trained_model.h5 \n",
      "10000/10000 [==============================] - 2s 206us/step\n",
      "Test loss: 0.7631928923606872\n",
      "Test accuracy: 0.7419999837875366\n"
     ]
    }
   ],
   "source": [
    "if not os.path.isdir(save_dir):\n",
    "    os.makedirs(save_dir)\n",
    "model_path = os.path.join(save_dir, 'Adam' + '_' + model_name)\n",
    "model.save(model_path)\n",
    "print('Saved trained model at %s ' % model_path)\n",
    "\n",
    "# Score trained model.\n",
    "scores = model.evaluate(x_test, y_test, verbose=1)\n",
    "print('Test loss:', scores[0])\n",
    "print('Test accuracy:', scores[1])"
   ]
  },
  {
   "cell_type": "code",
   "execution_count": 16,
   "metadata": {},
   "outputs": [
    {
     "name": "stdout",
     "output_type": "stream",
     "text": [
      " test set \n",
      "\n",
      " The test loss is %f  [0.7631928789615631, 0.7419999837875366]\n"
     ]
    }
   ],
   "source": [
    "print ( \" test set \" )\n",
    "scores = model.evaluate(x_test,y_test,batch_size=200,verbose= 0)\n",
    "print ( \"\" )\n",
    "#print ( \" The test loss is %f \" % scores)\n",
    "print ( \" The test loss is %f \", scores)\n",
    "\n",
    "\n",
    "result = model.predict(x_test,batch_size=200,verbose= 0)\n",
    "\n",
    "result_max = numpy.argmax(result, axis = 1 )\n",
    "test_max = numpy.argmax(y_test, axis = 1 )\n",
    "\n",
    "result_bool = numpy.equal(result_max, test_max)\n",
    "true_num = numpy.sum(result_bool)"
   ]
  },
  {
   "cell_type": "code",
   "execution_count": 17,
   "metadata": {},
   "outputs": [
    {
     "data": {
      "image/png": "[encoded data removed]",
      "text/plain": [
       "<Figure size 432x288 with 1 Axes>"
      ]
     },
     "metadata": {
      "needs_background": "light"
     },
     "output_type": "display_data"
    },
    {
     "data": {
      "image/png": "[encoded data removed]",
      "text/plain": [
       "<Figure size 432x288 with 1 Axes>"
      ]
     },
     "metadata": {
      "needs_background": "light"
     },
     "output_type": "display_data"
    }
   ],
   "source": [
    "# Plot training & validation accuracy values\n",
    "plt.plot(history.history['acc'])\n",
    "plt.plot(history.history['val_acc'])\n",
    "plt.title('Model accuracy')\n",
    "plt.ylabel('Accuracy')\n",
    "plt.xlabel('Epoch')\n",
    "plt.legend(['Train', 'Valiidation'], loc='upper left')\n",
    "plt.show()\n",
    "\n",
    "# Plot training & validation loss values\n",
    "plt.plot(history.history['loss'])\n",
    "plt.plot(history.history['val_loss'])\n",
    "plt.title('Model loss')\n",
    "plt.ylabel('Loss')\n",
    "plt.xlabel('Epoch')\n",
    "plt.legend(['Train', 'Valiidation'], loc='upper left')\n",
    "plt.show()"
   ]
  },
  {
   "cell_type": "markdown",
   "metadata": {},
   "source": [
    "# SGD"
   ]
  },
  {
   "cell_type": "code",
   "execution_count": 17,
   "metadata": {},
   "outputs": [
    {
     "name": "stdout",
     "output_type": "stream",
     "text": [
      "Using real-time data augmentation.\n",
      "\n",
      "Train on 50000 samples, validate on 10000 samples\n",
      "Epoch 1/20\n",
      "50000/50000 [==============================] - 36s 716us/step - loss: 0.9459 - acc: 0.6771 - val_loss: 0.7683 - val_acc: 0.7412\n",
      "Epoch 2/20\n",
      "50000/50000 [==============================] - 47s 949us/step - loss: 0.8694 - acc: 0.7054 - val_loss: 0.9150 - val_acc: 0.7249\n",
      "Epoch 3/20\n",
      "50000/50000 [==============================] - 55s 1ms/step - loss: 0.8641 - acc: 0.7089 - val_loss: 0.8165 - val_acc: 0.7242\n",
      "Epoch 4/20\n",
      "50000/50000 [==============================] - 50s 995us/step - loss: 0.8334 - acc: 0.7151 - val_loss: 0.8080 - val_acc: 0.7229\n",
      "Epoch 5/20\n",
      "50000/50000 [==============================] - 52s 1ms/step - loss: 0.8294 - acc: 0.7156 - val_loss: 0.7549 - val_acc: 0.7484\n",
      "Epoch 6/20\n",
      "50000/50000 [==============================] - 57s 1ms/step - loss: 0.8146 - acc: 0.7220 - val_loss: 0.8311 - val_acc: 0.7380\n",
      "Epoch 7/20\n",
      "50000/50000 [==============================] - 58s 1ms/step - loss: 0.8092 - acc: 0.7239 - val_loss: 0.7948 - val_acc: 0.7475\n",
      "Epoch 8/20\n",
      "50000/50000 [==============================] - 56s 1ms/step - loss: 0.8160 - acc: 0.7224 - val_loss: 0.7626 - val_acc: 0.7456\n",
      "Epoch 9/20\n",
      "50000/50000 [==============================] - 53s 1ms/step - loss: 0.8004 - acc: 0.7267 - val_loss: 0.7548 - val_acc: 0.7504\n",
      "Epoch 10/20\n",
      "50000/50000 [==============================] - 53s 1ms/step - loss: 0.7961 - acc: 0.7283 - val_loss: 0.7440 - val_acc: 0.7581\n",
      "Epoch 11/20\n",
      "50000/50000 [==============================] - 49s 990us/step - loss: 0.7990 - acc: 0.7258 - val_loss: 0.7966 - val_acc: 0.7298\n",
      "Epoch 12/20\n",
      "50000/50000 [==============================] - 56s 1ms/step - loss: 0.7964 - acc: 0.7284 - val_loss: 0.8571 - val_acc: 0.7083\n",
      "Epoch 13/20\n",
      "50000/50000 [==============================] - 58s 1ms/step - loss: 0.7938 - acc: 0.7282 - val_loss: 0.7703 - val_acc: 0.7573\n",
      "Epoch 14/20\n",
      "50000/50000 [==============================] - 55s 1ms/step - loss: 0.7872 - acc: 0.7318 - val_loss: 0.7763 - val_acc: 0.7542\n",
      "Epoch 15/20\n",
      "50000/50000 [==============================] - 53s 1ms/step - loss: 0.7928 - acc: 0.7283 - val_loss: 0.7628 - val_acc: 0.7532\n",
      "Epoch 16/20\n",
      "50000/50000 [==============================] - 58s 1ms/step - loss: 0.7691 - acc: 0.7356 - val_loss: 0.7301 - val_acc: 0.7600\n",
      "Epoch 17/20\n",
      "50000/50000 [==============================] - 62s 1ms/step - loss: 0.7750 - acc: 0.7331 - val_loss: 0.7503 - val_acc: 0.7505\n",
      "Epoch 18/20\n",
      "50000/50000 [==============================] - 64s 1ms/step - loss: 0.7717 - acc: 0.7359 - val_loss: 0.7374 - val_acc: 0.7580\n",
      "Epoch 19/20\n",
      "50000/50000 [==============================] - 60s 1ms/step - loss: 0.7697 - acc: 0.7362 - val_loss: 0.7681 - val_acc: 0.7432\n",
      "Epoch 20/20\n",
      "50000/50000 [==============================] - 54s 1ms/step - loss: 0.7666 - acc: 0.7375 - val_loss: 0.8180 - val_acc: 0.7235\n"
     ]
    }
   ],
   "source": [
    "model.compile(optimizer = 'SGD', loss = 'categorical_crossentropy', metrics = ['acc'])\n",
    "\n",
    "if not data_augmentation:\n",
    "    print('Not using data augmentation.')\n",
    "    history=model.fit(x_train, y_train,\n",
    "              batch_size=batch_size,\n",
    "              epochs=epochs,\n",
    "              validation_data=(x_test, y_test),\n",
    "              shuffle=True)\n",
    "else:\n",
    "    print('Using real-time data augmentation.')\n",
    "    print('')\n",
    "        \n",
    "    # This will do preprocessing and realtime data augmentation:\n",
    "    datagen = ImageDataGenerator(\n",
    "        featurewise_center=False,  # set input mean to 0 over the dataset\n",
    "        samplewise_center=False,  # set each sample mean to 0\n",
    "        featurewise_std_normalization=False,  # divide inputs by std of the dataset\n",
    "        samplewise_std_normalization=False,  # divide each input by its std\n",
    "        zca_whitening=False,  # apply ZCA whitening\n",
    "        zca_epsilon=1e-06,  # epsilon for ZCA whitening\n",
    "        rotation_range=0,  # randomly rotate images in the range (degrees, 0 to 180)\n",
    "        # randomly shift images horizontally (fraction of total width)\n",
    "        width_shift_range=0.1,\n",
    "        # randomly shift images vertically (fraction of total height)\n",
    "        height_shift_range=0.1,\n",
    "        shear_range=0.,  # set range for random shear\n",
    "        zoom_range=0.,  # set range for random zoom\n",
    "        channel_shift_range=0.,  # set range for random channel shifts\n",
    "        # set mode for filling points outside the input boundaries\n",
    "        fill_mode='nearest',\n",
    "        cval=0.,  # value used for fill_mode = \"constant\"\n",
    "        horizontal_flip=True,  # randomly flip images\n",
    "        vertical_flip=False,  # randomly flip images\n",
    "        # set rescaling factor (applied before any other transformation)\n",
    "        rescale=None,\n",
    "        # set function that will be applied on each input\n",
    "        preprocessing_function=None,\n",
    "        # image data format, either \"channels_first\" or \"channels_last\"\n",
    "        data_format=None,\n",
    "        # fraction of images reserved for validation (strictly between 0 and 1)\n",
    "        validation_split=0.0)\n",
    "\n",
    "    # Compute quantities required for feature-wise normalization\n",
    "    # (std, mean, and principal components if ZCA whitening is applied).\n",
    "    datagen.fit(x_train)\n",
    "    history=model.fit(x_train, y_train,\n",
    "              batch_size=batch_size,\n",
    "              epochs=epochs,\n",
    "              validation_data=(x_test, y_test),\n",
    "              shuffle=True)  "
   ]
  },
  {
   "cell_type": "code",
   "execution_count": 18,
   "metadata": {},
   "outputs": [
    {
     "name": "stdout",
     "output_type": "stream",
     "text": [
      "Saved trained model at D:\\git\\4th-ML100Days\\homework\\saved_models\\SGD_keras_cifar10_trained_model.h5 \n",
      "10000/10000 [==============================] - 2s 195us/step\n",
      "Test loss: 0.8180191257476807\n",
      "Test accuracy: 0.7235000133514404\n"
     ]
    }
   ],
   "source": [
    "if not os.path.isdir(save_dir):\n",
    "    os.makedirs(save_dir)\n",
    "model_path = os.path.join(save_dir, 'SGD' + '_' + model_name)\n",
    "model.save(model_path)\n",
    "print('Saved trained model at %s ' % model_path)\n",
    "\n",
    "# Score trained model.\n",
    "scores = model.evaluate(x_test, y_test, verbose=1)\n",
    "print('Test loss:', scores[0])\n",
    "print('Test accuracy:', scores[1])"
   ]
  },
  {
   "cell_type": "code",
   "execution_count": 19,
   "metadata": {},
   "outputs": [
    {
     "name": "stdout",
     "output_type": "stream",
     "text": [
      " test set \n",
      "\n",
      " The test loss is %f  [0.8180191123485565, 0.7235000133514404]\n"
     ]
    }
   ],
   "source": [
    "print ( \" test set \" )\n",
    "scores = model.evaluate(x_test,y_test,batch_size=200,verbose= 0)\n",
    "print ( \"\" )\n",
    "#print ( \" The test loss is %f \" % scores)\n",
    "print ( \" The test loss is %f \", scores)\n",
    "\n",
    "\n",
    "result = model.predict(x_test,batch_size=200,verbose= 0)\n",
    "\n",
    "result_max = numpy.argmax(result, axis = 1 )\n",
    "test_max = numpy.argmax(y_test, axis = 1 )\n",
    "\n",
    "result_bool = numpy.equal(result_max, test_max)\n",
    "true_num = numpy.sum(result_bool)"
   ]
  },
  {
   "cell_type": "code",
   "execution_count": 20,
   "metadata": {},
   "outputs": [
    {
     "data": {
      "image/png": "[encoded data removed]",
      "text/plain": [
       "<Figure size 432x288 with 1 Axes>"
      ]
     },
     "metadata": {
      "needs_background": "light"
     },
     "output_type": "display_data"
    },
    {
     "data": {
      "image/png": "[encoded data removed]",
      "text/plain": [
       "<Figure size 432x288 with 1 Axes>"
      ]
     },
     "metadata": {
      "needs_background": "light"
     },
     "output_type": "display_data"
    }
   ],
   "source": [
    "# Plot training & validation accuracy values\n",
    "plt.plot(history.history['acc'])\n",
    "plt.plot(history.history['val_acc'])\n",
    "plt.title('Model accuracy')\n",
    "plt.ylabel('Accuracy')\n",
    "plt.xlabel('Epoch')\n",
    "plt.legend(['Train', 'Valiidation'], loc='upper left')\n",
    "plt.show()\n",
    "\n",
    "# Plot training & validation loss values\n",
    "plt.plot(history.history['loss'])\n",
    "plt.plot(history.history['val_loss'])\n",
    "plt.title('Model loss')\n",
    "plt.ylabel('Loss')\n",
    "plt.xlabel('Epoch')\n",
    "plt.legend(['Train', 'Valiidation'], loc='upper left')\n",
    "plt.show()"
   ]
  },
  {
   "cell_type": "markdown",
   "metadata": {},
   "source": [
    "# Adam 看起來最好"
   ]
  },
  {
   "cell_type": "code",
   "execution_count": 21,
   "metadata": {},
   "outputs": [],
   "source": [
    "batch_size = 16\n",
    "num_classes = 10\n",
    "epochs = 20\n",
    "data_augmentation = True\n",
    "num_predictions = 20\n",
    "save_dir = os.path.join(os.getcwd(), 'saved_models')\n",
    "model_name = 'keras_cifar10_trained_model.h5'"
   ]
  },
  {
   "cell_type": "code",
   "execution_count": 22,
   "metadata": {},
   "outputs": [
    {
     "name": "stdout",
     "output_type": "stream",
     "text": [
      "Using real-time data augmentation.\n",
      "\n",
      "Train on 50000 samples, validate on 10000 samples\n",
      "Epoch 1/20\n",
      "50000/50000 [==============================] - 53s 1ms/step - loss: 0.8908 - acc: 0.7002 - val_loss: 0.8174 - val_acc: 0.7340\n",
      "Epoch 2/20\n",
      "50000/50000 [==============================] - 61s 1ms/step - loss: 0.8877 - acc: 0.7006 - val_loss: 0.8155 - val_acc: 0.7261\n",
      "Epoch 3/20\n",
      "50000/50000 [==============================] - 68s 1ms/step - loss: 0.8809 - acc: 0.7024 - val_loss: 0.8272 - val_acc: 0.7248\n",
      "Epoch 4/20\n",
      "50000/50000 [==============================] - 88s 2ms/step - loss: 0.8872 - acc: 0.7006 - val_loss: 0.7806 - val_acc: 0.7529\n",
      "Epoch 5/20\n",
      "50000/50000 [==============================] - 90s 2ms/step - loss: 0.8715 - acc: 0.7039 - val_loss: 0.8289 - val_acc: 0.7381\n",
      "Epoch 6/20\n",
      "50000/50000 [==============================] - 86s 2ms/step - loss: 0.8653 - acc: 0.7060 - val_loss: 0.7731 - val_acc: 0.7410\n",
      "Epoch 7/20\n",
      "50000/50000 [==============================] - 91s 2ms/step - loss: 0.8590 - acc: 0.7064 - val_loss: 0.7690 - val_acc: 0.7450\n",
      "Epoch 8/20\n",
      "50000/50000 [==============================] - 93s 2ms/step - loss: 0.8561 - acc: 0.7089 - val_loss: 0.8191 - val_acc: 0.7236\n",
      "Epoch 9/20\n",
      "50000/50000 [==============================] - 90s 2ms/step - loss: 0.8561 - acc: 0.7106 - val_loss: 0.8415 - val_acc: 0.7405\n",
      "Epoch 10/20\n",
      "50000/50000 [==============================] - 91s 2ms/step - loss: 0.8436 - acc: 0.7104 - val_loss: 0.8442 - val_acc: 0.7140\n",
      "Epoch 11/20\n",
      "50000/50000 [==============================] - 82s 2ms/step - loss: 0.8487 - acc: 0.7125 - val_loss: 0.8344 - val_acc: 0.7234\n",
      "Epoch 12/20\n",
      "50000/50000 [==============================] - 85s 2ms/step - loss: 0.8594 - acc: 0.7094 - val_loss: 0.7856 - val_acc: 0.7441\n",
      "Epoch 13/20\n",
      "50000/50000 [==============================] - 88s 2ms/step - loss: 0.8384 - acc: 0.7162 - val_loss: 0.7858 - val_acc: 0.7448\n",
      "Epoch 14/20\n",
      "50000/50000 [==============================] - 83s 2ms/step - loss: 0.8312 - acc: 0.7182 - val_loss: 0.8285 - val_acc: 0.7291\n",
      "Epoch 15/20\n",
      "50000/50000 [==============================] - 80s 2ms/step - loss: 0.8271 - acc: 0.7201 - val_loss: 0.7628 - val_acc: 0.7434\n",
      "Epoch 16/20\n",
      "50000/50000 [==============================] - 72s 1ms/step - loss: 0.8245 - acc: 0.7231 - val_loss: 0.7665 - val_acc: 0.7463\n",
      "Epoch 17/20\n",
      "50000/50000 [==============================] - 84s 2ms/step - loss: 0.8226 - acc: 0.7221 - val_loss: 0.7683 - val_acc: 0.7405\n",
      "Epoch 18/20\n",
      "50000/50000 [==============================] - 75s 2ms/step - loss: 0.8172 - acc: 0.7235 - val_loss: 0.7860 - val_acc: 0.7450\n",
      "Epoch 19/20\n",
      "50000/50000 [==============================] - 75s 2ms/step - loss: 0.8224 - acc: 0.7233 - val_loss: 0.7876 - val_acc: 0.7510\n",
      "Epoch 20/20\n",
      "50000/50000 [==============================] - 75s 2ms/step - loss: 0.8158 - acc: 0.7229 - val_loss: 0.7920 - val_acc: 0.7448\n"
     ]
    }
   ],
   "source": [
    "model.compile(optimizer = 'Adam', loss = 'categorical_crossentropy', metrics = ['acc'])\n",
    "\n",
    "if not data_augmentation:\n",
    "    print('Not using data augmentation.')\n",
    "    history=model.fit(x_train, y_train,\n",
    "              batch_size=batch_size,\n",
    "              epochs=epochs,\n",
    "              validation_data=(x_test, y_test),\n",
    "              shuffle=True)\n",
    "else:\n",
    "    print('Using real-time data augmentation.')\n",
    "    print('')\n",
    "        \n",
    "    # This will do preprocessing and realtime data augmentation:\n",
    "    datagen = ImageDataGenerator(\n",
    "        featurewise_center=False,  # set input mean to 0 over the dataset\n",
    "        samplewise_center=False,  # set each sample mean to 0\n",
    "        featurewise_std_normalization=False,  # divide inputs by std of the dataset\n",
    "        samplewise_std_normalization=False,  # divide each input by its std\n",
    "        zca_whitening=False,  # apply ZCA whitening\n",
    "        zca_epsilon=1e-06,  # epsilon for ZCA whitening\n",
    "        rotation_range=0,  # randomly rotate images in the range (degrees, 0 to 180)\n",
    "        # randomly shift images horizontally (fraction of total width)\n",
    "        width_shift_range=0.1,\n",
    "        # randomly shift images vertically (fraction of total height)\n",
    "        height_shift_range=0.1,\n",
    "        shear_range=0.,  # set range for random shear\n",
    "        zoom_range=0.,  # set range for random zoom\n",
    "        channel_shift_range=0.,  # set range for random channel shifts\n",
    "        # set mode for filling points outside the input boundaries\n",
    "        fill_mode='nearest',\n",
    "        cval=0.,  # value used for fill_mode = \"constant\"\n",
    "        horizontal_flip=True,  # randomly flip images\n",
    "        vertical_flip=False,  # randomly flip images\n",
    "        # set rescaling factor (applied before any other transformation)\n",
    "        rescale=None,\n",
    "        # set function that will be applied on each input\n",
    "        preprocessing_function=None,\n",
    "        # image data format, either \"channels_first\" or \"channels_last\"\n",
    "        data_format=None,\n",
    "        # fraction of images reserved for validation (strictly between 0 and 1)\n",
    "        validation_split=0.0)\n",
    "\n",
    "    # Compute quantities required for feature-wise normalization\n",
    "    # (std, mean, and principal components if ZCA whitening is applied).\n",
    "    datagen.fit(x_train)\n",
    "    history=model.fit(x_train, y_train,\n",
    "              batch_size=batch_size,\n",
    "              epochs=epochs,\n",
    "              validation_data=(x_test, y_test),\n",
    "              shuffle=True)  "
   ]
  },
  {
   "cell_type": "code",
   "execution_count": 23,
   "metadata": {},
   "outputs": [
    {
     "name": "stdout",
     "output_type": "stream",
     "text": [
      "Saved trained model at D:\\git\\4th-ML100Days\\homework\\saved_models\\Adam_batchsize16_keras_cifar10_trained_model.h5 \n",
      "10000/10000 [==============================] - 2s 194us/step\n",
      "Test loss: 0.7919872947216033\n",
      "Test accuracy: 0.7447999715805054\n"
     ]
    }
   ],
   "source": [
    "if not os.path.isdir(save_dir):\n",
    "    os.makedirs(save_dir)\n",
    "model_path = os.path.join(save_dir, 'Adam_batchsize16' + '_' + model_name)\n",
    "model.save(model_path)\n",
    "print('Saved trained model at %s ' % model_path)\n",
    "\n",
    "# Score trained model.\n",
    "scores = model.evaluate(x_test, y_test, verbose=1)\n",
    "print('Test loss:', scores[0])\n",
    "print('Test accuracy:', scores[1])"
   ]
  },
  {
   "cell_type": "code",
   "execution_count": 24,
   "metadata": {},
   "outputs": [
    {
     "name": "stdout",
     "output_type": "stream",
     "text": [
      " test set \n",
      "\n",
      " The test loss is %f  [0.7919872522354126, 0.7447999715805054]\n"
     ]
    }
   ],
   "source": [
    "print ( \" test set \" )\n",
    "scores = model.evaluate(x_test,y_test,batch_size=200,verbose= 0)\n",
    "print ( \"\" )\n",
    "#print ( \" The test loss is %f \" % scores)\n",
    "print ( \" The test loss is %f \", scores)\n",
    "\n",
    "\n",
    "result = model.predict(x_test,batch_size=200,verbose= 0)\n",
    "\n",
    "result_max = numpy.argmax(result, axis = 1 )\n",
    "test_max = numpy.argmax(y_test, axis = 1 )\n",
    "\n",
    "result_bool = numpy.equal(result_max, test_max)\n",
    "true_num = numpy.sum(result_bool)"
   ]
  },
  {
   "cell_type": "code",
   "execution_count": 25,
   "metadata": {},
   "outputs": [
    {
     "data": {
      "image/png": "[encoded data removed]",
      "text/plain": [
       "<Figure size 432x288 with 1 Axes>"
      ]
     },
     "metadata": {
      "needs_background": "light"
     },
     "output_type": "display_data"
    },
    {
     "data": {
      "image/png": "[encoded data removed]",
      "text/plain": [
       "<Figure size 432x288 with 1 Axes>"
      ]
     },
     "metadata": {
      "needs_background": "light"
     },
     "output_type": "display_data"
    }
   ],
   "source": [
    "# Plot training & validation accuracy values\n",
    "plt.plot(history.history['acc'])\n",
    "plt.plot(history.history['val_acc'])\n",
    "plt.title('Model accuracy')\n",
    "plt.ylabel('Accuracy')\n",
    "plt.xlabel('Epoch')\n",
    "plt.legend(['Train', 'Valiidation'], loc='upper left')\n",
    "plt.show()\n",
    "\n",
    "# Plot training & validation loss values\n",
    "plt.plot(history.history['loss'])\n",
    "plt.plot(history.history['val_loss'])\n",
    "plt.title('Model loss')\n",
    "plt.ylabel('Loss')\n",
    "plt.xlabel('Epoch')\n",
    "plt.legend(['Train', 'Valiidation'], loc='upper left')\n",
    "plt.show()"
   ]
  },
  {
   "cell_type": "code",
   "execution_count": null,
   "metadata": {},
   "outputs": [],
   "source": []
  }
 ],
 "metadata": {
  "kernelspec": {
   "display_name": "Python 3",
   "language": "python",
   "name": "python3"
  },
  "language_info": {
   "codemirror_mode": {
    "name": "ipython",
    "version": 3
   },
   "file_extension": ".py",
   "mimetype": "text/x-python",
   "name": "python",
   "nbconvert_exporter": "python",
   "pygments_lexer": "ipython3",
   "version": "3.7.4"
  }
 },
 "nbformat": 4,
 "nbformat_minor": 2
}
