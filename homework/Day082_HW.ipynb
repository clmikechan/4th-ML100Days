{
 "cells": [
  {
   "cell_type": "markdown",
   "metadata": {},
   "source": [
    "## Work\n",
    "1. 請比較使用不同層數以及不同 Dropout rate 對訓練的效果\n",
    "2. 將 optimizer 改成使用 Adam 並加上適當的 dropout rate 檢視結果"
   ]
  },
  {
   "cell_type": "code",
   "execution_count": 1,
   "metadata": {},
   "outputs": [
    {
     "name": "stderr",
     "output_type": "stream",
     "text": [
      "Using TensorFlow backend.\n"
     ]
    }
   ],
   "source": [
    "import os\n",
    "import keras\n",
    "import itertools\n",
    "# Disable GPU\n",
    "os.environ[\"CUDA_VISIBLE_DEVICES\"] = \"1\""
   ]
  },
  {
   "cell_type": "code",
   "execution_count": 2,
   "metadata": {},
   "outputs": [],
   "source": [
    "train, test = keras.datasets.cifar10.load_data()"
   ]
  },
  {
   "cell_type": "code",
   "execution_count": 3,
   "metadata": {},
   "outputs": [],
   "source": [
    "## 資料前處理\n",
    "def preproc_x(x, flatten=True):\n",
    "    x = x / 255.\n",
    "    if flatten:\n",
    "        x = x.reshape((len(x), -1))\n",
    "    return x\n",
    "\n",
    "def preproc_y(y, num_classes=10):\n",
    "    if y.shape[-1] == 1:\n",
    "        y = keras.utils.to_categorical(y, num_classes)\n",
    "    return y    "
   ]
  },
  {
   "cell_type": "code",
   "execution_count": 4,
   "metadata": {},
   "outputs": [],
   "source": [
    "x_train, y_train = train\n",
    "x_test, y_test = test\n",
    "\n",
    "# Preproc the inputs\n",
    "x_train = preproc_x(x_train)\n",
    "x_test = preproc_x(x_test)\n",
    "\n",
    "# Preprc the outputs\n",
    "y_train = preproc_y(y_train)\n",
    "y_test = preproc_y(y_test)"
   ]
  },
  {
   "cell_type": "code",
   "execution_count": 8,
   "metadata": {},
   "outputs": [],
   "source": [
    "from keras.layers import Dropout\n",
    "def build_mlp(input_shape, output_units=10, num_neurons=[512, 256, 128], drp_ratio=0.2):\n",
    "    \"\"\"Code Here\n",
    "    建立你的神經網路\n",
    "    \"\"\"\n",
    "    input_layer = keras.layers.Input(input_shape)\n",
    "    \n",
    "    for i, n_units in enumerate(num_neurons):\n",
    "        if i == 0:\n",
    "            x = keras.layers.Dense(units=n_units, \n",
    "                                   activation=\"relu\", \n",
    "                                   name=\"hidden_layer\"+str(i+1))(input_layer)\n",
    "            x = Dropout(drp_ratio)(x)\n",
    "        else:\n",
    "            x = keras.layers.Dense(units=n_units, \n",
    "                                   activation=\"relu\", \n",
    "                                   name=\"hidden_layer\"+str(i+1))(x)\n",
    "            x = Dropout(drp_ratio)(x)\n",
    "    \n",
    "    out = keras.layers.Dense(units=output_units, activation=\"softmax\", name=\"output\")(x)\n",
    "    \n",
    "    model = keras.models.Model(inputs=[input_layer], outputs=[out])\n",
    "    return model"
   ]
  },
  {
   "cell_type": "markdown",
   "metadata": {},
   "source": [
    "# Dropout = 0.4"
   ]
  },
  {
   "cell_type": "code",
   "execution_count": 6,
   "metadata": {},
   "outputs": [],
   "source": [
    "\"\"\"Code Here\n",
    "設定超參數\n",
    "\"\"\"\n",
    "LEARNING_RATE = 1e-3\n",
    "EPOCHS = 50\n",
    "BATCH_SIZE = 256\n",
    "MOMENTUM = 0.95\n",
    "Dropout_EXP = 0.4"
   ]
  },
  {
   "cell_type": "code",
   "execution_count": 9,
   "metadata": {
    "scrolled": true
   },
   "outputs": [
    {
     "name": "stdout",
     "output_type": "stream",
     "text": [
      "Model: \"model_1\"\n",
      "_________________________________________________________________\n",
      "Layer (type)                 Output Shape              Param #   \n",
      "=================================================================\n",
      "input_2 (InputLayer)         (None, 3072)              0         \n",
      "_________________________________________________________________\n",
      "hidden_layer1 (Dense)        (None, 512)               1573376   \n",
      "_________________________________________________________________\n",
      "dropout_1 (Dropout)          (None, 512)               0         \n",
      "_________________________________________________________________\n",
      "hidden_layer2 (Dense)        (None, 256)               131328    \n",
      "_________________________________________________________________\n",
      "dropout_2 (Dropout)          (None, 256)               0         \n",
      "_________________________________________________________________\n",
      "hidden_layer3 (Dense)        (None, 128)               32896     \n",
      "_________________________________________________________________\n",
      "dropout_3 (Dropout)          (None, 128)               0         \n",
      "_________________________________________________________________\n",
      "output (Dense)               (None, 10)                1290      \n",
      "=================================================================\n",
      "Total params: 1,738,890\n",
      "Trainable params: 1,738,890\n",
      "Non-trainable params: 0\n",
      "_________________________________________________________________\n",
      "Train on 50000 samples, validate on 10000 samples\n",
      "Epoch 1/50\n",
      "50000/50000 [==============================] - 7s 134us/step - loss: 2.2701 - acc: 0.1521 - val_loss: 2.1004 - val_acc: 0.2577\n",
      "Epoch 2/50\n",
      "50000/50000 [==============================] - 6s 123us/step - loss: 2.1067 - acc: 0.2173 - val_loss: 1.9663 - val_acc: 0.3048\n",
      "Epoch 3/50\n",
      "50000/50000 [==============================] - 7s 132us/step - loss: 2.0166 - acc: 0.2534 - val_loss: 1.8974 - val_acc: 0.3284\n",
      "Epoch 4/50\n",
      "50000/50000 [==============================] - 7s 137us/step - loss: 1.9670 - acc: 0.2788 - val_loss: 1.8531 - val_acc: 0.3477\n",
      "Epoch 5/50\n",
      "50000/50000 [==============================] - 7s 140us/step - loss: 1.9254 - acc: 0.2970 - val_loss: 1.8116 - val_acc: 0.3637\n",
      "Epoch 6/50\n",
      "50000/50000 [==============================] - 7s 142us/step - loss: 1.8997 - acc: 0.3071 - val_loss: 1.7798 - val_acc: 0.3768\n",
      "Epoch 7/50\n",
      "50000/50000 [==============================] - 7s 145us/step - loss: 1.8690 - acc: 0.3225 - val_loss: 1.7483 - val_acc: 0.3828\n",
      "Epoch 8/50\n",
      "50000/50000 [==============================] - 8s 167us/step - loss: 1.8462 - acc: 0.3328 - val_loss: 1.7249 - val_acc: 0.3898\n",
      "Epoch 9/50\n",
      "50000/50000 [==============================] - 7s 147us/step - loss: 1.8233 - acc: 0.3416 - val_loss: 1.6937 - val_acc: 0.4014\n",
      "Epoch 10/50\n",
      "50000/50000 [==============================] - 7s 145us/step - loss: 1.7995 - acc: 0.3507 - val_loss: 1.6807 - val_acc: 0.4107\n",
      "Epoch 11/50\n",
      "50000/50000 [==============================] - 7s 150us/step - loss: 1.7850 - acc: 0.3565 - val_loss: 1.6574 - val_acc: 0.4118\n",
      "Epoch 12/50\n",
      "50000/50000 [==============================] - 7s 140us/step - loss: 1.7640 - acc: 0.3661 - val_loss: 1.6375 - val_acc: 0.4220\n",
      "Epoch 13/50\n",
      "50000/50000 [==============================] - 7s 139us/step - loss: 1.7501 - acc: 0.3711 - val_loss: 1.6275 - val_acc: 0.4269\n",
      "Epoch 14/50\n",
      "50000/50000 [==============================] - 7s 147us/step - loss: 1.7388 - acc: 0.3764 - val_loss: 1.6187 - val_acc: 0.4308\n",
      "Epoch 15/50\n",
      "50000/50000 [==============================] - 7s 139us/step - loss: 1.7222 - acc: 0.3833 - val_loss: 1.6024 - val_acc: 0.4356\n",
      "Epoch 16/50\n",
      "50000/50000 [==============================] - 7s 139us/step - loss: 1.7085 - acc: 0.3881 - val_loss: 1.5847 - val_acc: 0.4458\n",
      "Epoch 17/50\n",
      "50000/50000 [==============================] - 7s 139us/step - loss: 1.6965 - acc: 0.3953 - val_loss: 1.5708 - val_acc: 0.4417\n",
      "Epoch 18/50\n",
      "50000/50000 [==============================] - 7s 138us/step - loss: 1.6821 - acc: 0.3946 - val_loss: 1.5616 - val_acc: 0.4500\n",
      "Epoch 19/50\n",
      "50000/50000 [==============================] - 7s 144us/step - loss: 1.6767 - acc: 0.4002 - val_loss: 1.5559 - val_acc: 0.4561\n",
      "Epoch 20/50\n",
      "50000/50000 [==============================] - 7s 143us/step - loss: 1.6662 - acc: 0.4052 - val_loss: 1.5476 - val_acc: 0.4505\n",
      "Epoch 21/50\n",
      "50000/50000 [==============================] - 7s 144us/step - loss: 1.6534 - acc: 0.4073 - val_loss: 1.5328 - val_acc: 0.4549\n",
      "Epoch 22/50\n",
      "50000/50000 [==============================] - 7s 138us/step - loss: 1.6404 - acc: 0.4156 - val_loss: 1.5261 - val_acc: 0.4658\n",
      "Epoch 23/50\n",
      "50000/50000 [==============================] - 7s 138us/step - loss: 1.6353 - acc: 0.4199 - val_loss: 1.5131 - val_acc: 0.4684\n",
      "Epoch 24/50\n",
      "50000/50000 [==============================] - 7s 141us/step - loss: 1.6286 - acc: 0.4204 - val_loss: 1.5088 - val_acc: 0.4676\n",
      "Epoch 25/50\n",
      "50000/50000 [==============================] - 7s 140us/step - loss: 1.6170 - acc: 0.4212 - val_loss: 1.5069 - val_acc: 0.4638\n",
      "Epoch 26/50\n",
      "50000/50000 [==============================] - 8s 154us/step - loss: 1.6060 - acc: 0.4264 - val_loss: 1.4877 - val_acc: 0.4713\n",
      "Epoch 27/50\n",
      "50000/50000 [==============================] - 7s 144us/step - loss: 1.5948 - acc: 0.4328 - val_loss: 1.4882 - val_acc: 0.4723\n",
      "Epoch 28/50\n",
      "50000/50000 [==============================] - 7s 148us/step - loss: 1.5907 - acc: 0.4299 - val_loss: 1.4723 - val_acc: 0.4773\n",
      "Epoch 29/50\n",
      "50000/50000 [==============================] - 7s 144us/step - loss: 1.5812 - acc: 0.4309 - val_loss: 1.4752 - val_acc: 0.4754\n",
      "Epoch 30/50\n",
      "50000/50000 [==============================] - 7s 139us/step - loss: 1.5727 - acc: 0.4404 - val_loss: 1.4724 - val_acc: 0.4745\n",
      "Epoch 31/50\n",
      "50000/50000 [==============================] - 7s 135us/step - loss: 1.5705 - acc: 0.4399 - val_loss: 1.4621 - val_acc: 0.4816\n",
      "Epoch 32/50\n",
      "50000/50000 [==============================] - 7s 135us/step - loss: 1.5681 - acc: 0.4373 - val_loss: 1.4543 - val_acc: 0.4811\n",
      "Epoch 33/50\n",
      "50000/50000 [==============================] - 7s 135us/step - loss: 1.5553 - acc: 0.4447 - val_loss: 1.4494 - val_acc: 0.4838\n",
      "Epoch 34/50\n",
      "50000/50000 [==============================] - 7s 135us/step - loss: 1.5510 - acc: 0.4443 - val_loss: 1.4462 - val_acc: 0.4817\n",
      "Epoch 35/50\n",
      "50000/50000 [==============================] - 7s 136us/step - loss: 1.5437 - acc: 0.4472 - val_loss: 1.4533 - val_acc: 0.4812\n",
      "Epoch 36/50\n",
      "50000/50000 [==============================] - 7s 135us/step - loss: 1.5316 - acc: 0.4518 - val_loss: 1.4334 - val_acc: 0.4885\n",
      "Epoch 37/50\n",
      "50000/50000 [==============================] - 7s 135us/step - loss: 1.5337 - acc: 0.4531 - val_loss: 1.4321 - val_acc: 0.4874\n",
      "Epoch 38/50\n",
      "50000/50000 [==============================] - 7s 135us/step - loss: 1.5233 - acc: 0.4550 - val_loss: 1.4331 - val_acc: 0.4853\n",
      "Epoch 39/50\n",
      "50000/50000 [==============================] - 7s 134us/step - loss: 1.5203 - acc: 0.4561 - val_loss: 1.4286 - val_acc: 0.4892\n",
      "Epoch 40/50\n",
      "50000/50000 [==============================] - 7s 137us/step - loss: 1.5112 - acc: 0.4605 - val_loss: 1.4233 - val_acc: 0.4913\n",
      "Epoch 41/50\n",
      "50000/50000 [==============================] - 7s 135us/step - loss: 1.5093 - acc: 0.4599 - val_loss: 1.4176 - val_acc: 0.4909\n",
      "Epoch 42/50\n",
      "50000/50000 [==============================] - 7s 135us/step - loss: 1.5037 - acc: 0.4625 - val_loss: 1.4111 - val_acc: 0.4925\n",
      "Epoch 43/50\n",
      "50000/50000 [==============================] - 7s 134us/step - loss: 1.4966 - acc: 0.4633 - val_loss: 1.4064 - val_acc: 0.4943\n",
      "Epoch 44/50\n",
      "50000/50000 [==============================] - 7s 133us/step - loss: 1.4891 - acc: 0.4661 - val_loss: 1.4027 - val_acc: 0.4900\n",
      "Epoch 45/50\n",
      "50000/50000 [==============================] - 7s 135us/step - loss: 1.4879 - acc: 0.4686 - val_loss: 1.4122 - val_acc: 0.4884\n",
      "Epoch 46/50\n",
      "50000/50000 [==============================] - 7s 136us/step - loss: 1.4821 - acc: 0.4707 - val_loss: 1.4015 - val_acc: 0.4974\n",
      "Epoch 47/50\n",
      "50000/50000 [==============================] - 7s 137us/step - loss: 1.4789 - acc: 0.4728 - val_loss: 1.3893 - val_acc: 0.5003\n",
      "Epoch 48/50\n",
      "50000/50000 [==============================] - 7s 135us/step - loss: 1.4716 - acc: 0.4727 - val_loss: 1.4005 - val_acc: 0.4910\n",
      "Epoch 49/50\n"
     ]
    },
    {
     "name": "stdout",
     "output_type": "stream",
     "text": [
      "50000/50000 [==============================] - 7s 130us/step - loss: 1.4678 - acc: 0.4755 - val_loss: 1.3948 - val_acc: 0.4990\n",
      "Epoch 50/50\n",
      "50000/50000 [==============================] - 6s 129us/step - loss: 1.4702 - acc: 0.4751 - val_loss: 1.3816 - val_acc: 0.5018\n"
     ]
    }
   ],
   "source": [
    "results = {}\n",
    "\"\"\"Code Here\n",
    "撰寫你的訓練流程並將結果用 dictionary 紀錄\n",
    "\"\"\"\n",
    "model = build_mlp(input_shape=x_train.shape[1:], drp_ratio=Dropout_EXP)\n",
    "model.summary()\n",
    "optimizer = keras.optimizers.SGD(lr=LEARNING_RATE, nesterov=True, momentum=MOMENTUM)\n",
    "model.compile(loss=\"categorical_crossentropy\", metrics=[\"acc\"], optimizer=optimizer)\n",
    "\n",
    "model.fit(x_train, y_train, \n",
    "          epochs=EPOCHS, \n",
    "          batch_size=BATCH_SIZE, \n",
    "          validation_data=(x_test, y_test), \n",
    "          shuffle=True)\n",
    "\n",
    "# Collect results\n",
    "train_loss = model.history.history[\"loss\"]\n",
    "valid_loss = model.history.history[\"val_loss\"]\n",
    "train_acc = model.history.history[\"acc\"]\n",
    "valid_acc = model.history.history[\"val_acc\"]"
   ]
  },
  {
   "cell_type": "code",
   "execution_count": 10,
   "metadata": {},
   "outputs": [
    {
     "data": {
      "image/png": "[encoded data removed]",
      "text/plain": [
       "<Figure size 432x288 with 1 Axes>"
      ]
     },
     "metadata": {
      "needs_background": "light"
     },
     "output_type": "display_data"
    },
    {
     "data": {
      "image/png": "[encoded data removed]",
      "text/plain": [
       "<Figure size 432x288 with 1 Axes>"
      ]
     },
     "metadata": {
      "needs_background": "light"
     },
     "output_type": "display_data"
    }
   ],
   "source": [
    "import matplotlib.pyplot as plt\n",
    "%matplotlib inline\n",
    "\"\"\"Code Here\n",
    "將結果繪出\n",
    "\"\"\"\n",
    "plt.plot(range(len(train_loss)), train_loss, label=\"train loss\")\n",
    "plt.plot(range(len(valid_loss)), valid_loss, label=\"valid loss\")\n",
    "plt.legend()\n",
    "plt.title(\"Loss\")\n",
    "plt.show()\n",
    "\n",
    "plt.plot(range(len(train_acc)), train_acc, label=\"train accuracy\")\n",
    "plt.plot(range(len(valid_acc)), valid_acc, label=\"valid accuracy\")\n",
    "plt.legend()\n",
    "plt.title(\"Accuracy\")\n",
    "plt.show()"
   ]
  },
  {
   "cell_type": "markdown",
   "metadata": {},
   "source": [
    "# 不同層數"
   ]
  },
  {
   "cell_type": "code",
   "execution_count": 11,
   "metadata": {},
   "outputs": [
    {
     "name": "stdout",
     "output_type": "stream",
     "text": [
      "Model: \"model_2\"\n",
      "_________________________________________________________________\n",
      "Layer (type)                 Output Shape              Param #   \n",
      "=================================================================\n",
      "input_3 (InputLayer)         (None, 3072)              0         \n",
      "_________________________________________________________________\n",
      "hidden_layer1 (Dense)        (None, 1024)              3146752   \n",
      "_________________________________________________________________\n",
      "dropout_4 (Dropout)          (None, 1024)              0         \n",
      "_________________________________________________________________\n",
      "hidden_layer2 (Dense)        (None, 512)               524800    \n",
      "_________________________________________________________________\n",
      "dropout_5 (Dropout)          (None, 512)               0         \n",
      "_________________________________________________________________\n",
      "hidden_layer3 (Dense)        (None, 256)               131328    \n",
      "_________________________________________________________________\n",
      "dropout_6 (Dropout)          (None, 256)               0         \n",
      "_________________________________________________________________\n",
      "hidden_layer4 (Dense)        (None, 128)               32896     \n",
      "_________________________________________________________________\n",
      "dropout_7 (Dropout)          (None, 128)               0         \n",
      "_________________________________________________________________\n",
      "output (Dense)               (None, 10)                1290      \n",
      "=================================================================\n",
      "Total params: 3,837,066\n",
      "Trainable params: 3,837,066\n",
      "Non-trainable params: 0\n",
      "_________________________________________________________________\n",
      "Train on 50000 samples, validate on 10000 samples\n",
      "Epoch 1/50\n",
      "50000/50000 [==============================] - 12s 236us/step - loss: 2.2123 - acc: 0.1714 - val_loss: 2.0249 - val_acc: 0.2765\n",
      "Epoch 2/50\n",
      "50000/50000 [==============================] - 12s 248us/step - loss: 2.0303 - acc: 0.2506 - val_loss: 1.8914 - val_acc: 0.3324\n",
      "Epoch 3/50\n",
      "50000/50000 [==============================] - 13s 259us/step - loss: 1.9373 - acc: 0.2945 - val_loss: 1.8158 - val_acc: 0.3606\n",
      "Epoch 4/50\n",
      "50000/50000 [==============================] - 13s 258us/step - loss: 1.8764 - acc: 0.3237 - val_loss: 1.7589 - val_acc: 0.3785\n",
      "Epoch 5/50\n",
      "50000/50000 [==============================] - 13s 262us/step - loss: 1.8275 - acc: 0.3430 - val_loss: 1.7177 - val_acc: 0.3921\n",
      "Epoch 6/50\n",
      "50000/50000 [==============================] - 13s 260us/step - loss: 1.7877 - acc: 0.3550 - val_loss: 1.6706 - val_acc: 0.4105\n",
      "Epoch 7/50\n",
      "50000/50000 [==============================] - 13s 263us/step - loss: 1.7552 - acc: 0.3699 - val_loss: 1.6480 - val_acc: 0.4170\n",
      "Epoch 8/50\n",
      "50000/50000 [==============================] - 13s 260us/step - loss: 1.7276 - acc: 0.3811 - val_loss: 1.6208 - val_acc: 0.4263\n",
      "Epoch 9/50\n",
      "50000/50000 [==============================] - 13s 261us/step - loss: 1.7012 - acc: 0.3904 - val_loss: 1.5962 - val_acc: 0.4396\n",
      "Epoch 10/50\n",
      "50000/50000 [==============================] - 13s 262us/step - loss: 1.6753 - acc: 0.4031 - val_loss: 1.5801 - val_acc: 0.4446\n",
      "Epoch 11/50\n",
      "50000/50000 [==============================] - 13s 262us/step - loss: 1.6586 - acc: 0.4074 - val_loss: 1.5600 - val_acc: 0.4460\n",
      "Epoch 12/50\n",
      "50000/50000 [==============================] - 13s 265us/step - loss: 1.6377 - acc: 0.4142 - val_loss: 1.5315 - val_acc: 0.4572\n",
      "Epoch 13/50\n",
      "50000/50000 [==============================] - 13s 263us/step - loss: 1.6175 - acc: 0.4237 - val_loss: 1.5184 - val_acc: 0.4644\n",
      "Epoch 14/50\n",
      "50000/50000 [==============================] - 13s 267us/step - loss: 1.5979 - acc: 0.4302 - val_loss: 1.5064 - val_acc: 0.4688\n",
      "Epoch 15/50\n",
      "50000/50000 [==============================] - 13s 264us/step - loss: 1.5769 - acc: 0.4368 - val_loss: 1.4925 - val_acc: 0.4725\n",
      "Epoch 16/50\n",
      "50000/50000 [==============================] - 13s 264us/step - loss: 1.5613 - acc: 0.4415 - val_loss: 1.4718 - val_acc: 0.4815\n",
      "Epoch 17/50\n",
      "50000/50000 [==============================] - 13s 264us/step - loss: 1.5534 - acc: 0.4449 - val_loss: 1.4660 - val_acc: 0.4829\n",
      "Epoch 18/50\n",
      "50000/50000 [==============================] - 13s 265us/step - loss: 1.5339 - acc: 0.4555 - val_loss: 1.4597 - val_acc: 0.4812\n",
      "Epoch 19/50\n",
      "50000/50000 [==============================] - 13s 267us/step - loss: 1.5242 - acc: 0.4558 - val_loss: 1.4538 - val_acc: 0.4812\n",
      "Epoch 20/50\n",
      "50000/50000 [==============================] - 13s 265us/step - loss: 1.5127 - acc: 0.4594 - val_loss: 1.4460 - val_acc: 0.4851\n",
      "Epoch 21/50\n",
      "50000/50000 [==============================] - 13s 269us/step - loss: 1.4937 - acc: 0.4690 - val_loss: 1.4298 - val_acc: 0.4918\n",
      "Epoch 22/50\n",
      "50000/50000 [==============================] - 13s 261us/step - loss: 1.4845 - acc: 0.4701 - val_loss: 1.4200 - val_acc: 0.4935\n",
      "Epoch 23/50\n",
      "50000/50000 [==============================] - 13s 265us/step - loss: 1.4731 - acc: 0.4776 - val_loss: 1.4113 - val_acc: 0.4988\n",
      "Epoch 24/50\n",
      "50000/50000 [==============================] - 14s 273us/step - loss: 1.4617 - acc: 0.4796 - val_loss: 1.4012 - val_acc: 0.5004\n",
      "Epoch 25/50\n",
      "50000/50000 [==============================] - 14s 271us/step - loss: 1.4471 - acc: 0.4835 - val_loss: 1.4123 - val_acc: 0.4967\n",
      "Epoch 26/50\n",
      "50000/50000 [==============================] - 13s 259us/step - loss: 1.4395 - acc: 0.4859 - val_loss: 1.3940 - val_acc: 0.5000\n",
      "Epoch 27/50\n",
      "50000/50000 [==============================] - 13s 261us/step - loss: 1.4311 - acc: 0.4894 - val_loss: 1.3902 - val_acc: 0.5067\n",
      "Epoch 28/50\n",
      "50000/50000 [==============================] - 13s 261us/step - loss: 1.4227 - acc: 0.4925 - val_loss: 1.3728 - val_acc: 0.5128\n",
      "Epoch 29/50\n",
      "50000/50000 [==============================] - 13s 262us/step - loss: 1.4053 - acc: 0.4961 - val_loss: 1.3726 - val_acc: 0.5116\n",
      "Epoch 30/50\n",
      "50000/50000 [==============================] - 13s 263us/step - loss: 1.4012 - acc: 0.5011 - val_loss: 1.3738 - val_acc: 0.5077\n",
      "Epoch 31/50\n",
      "50000/50000 [==============================] - 13s 263us/step - loss: 1.3924 - acc: 0.5027 - val_loss: 1.3635 - val_acc: 0.5180\n",
      "Epoch 32/50\n",
      "50000/50000 [==============================] - 13s 263us/step - loss: 1.3853 - acc: 0.5042 - val_loss: 1.3557 - val_acc: 0.5158\n",
      "Epoch 33/50\n",
      "50000/50000 [==============================] - 13s 261us/step - loss: 1.3664 - acc: 0.5107 - val_loss: 1.3481 - val_acc: 0.5223\n",
      "Epoch 34/50\n",
      "50000/50000 [==============================] - 13s 263us/step - loss: 1.3624 - acc: 0.5148 - val_loss: 1.3426 - val_acc: 0.5223\n",
      "Epoch 35/50\n",
      "50000/50000 [==============================] - 13s 260us/step - loss: 1.3558 - acc: 0.5164 - val_loss: 1.3350 - val_acc: 0.5272\n",
      "Epoch 36/50\n",
      "50000/50000 [==============================] - 14s 271us/step - loss: 1.3435 - acc: 0.5216 - val_loss: 1.3429 - val_acc: 0.5230\n",
      "Epoch 37/50\n",
      "50000/50000 [==============================] - 13s 263us/step - loss: 1.3376 - acc: 0.5216 - val_loss: 1.3350 - val_acc: 0.5273\n",
      "Epoch 38/50\n",
      "50000/50000 [==============================] - 13s 270us/step - loss: 1.3316 - acc: 0.5241 - val_loss: 1.3419 - val_acc: 0.5188\n",
      "Epoch 39/50\n",
      "50000/50000 [==============================] - 13s 259us/step - loss: 1.3249 - acc: 0.5268 - val_loss: 1.3329 - val_acc: 0.5227\n",
      "Epoch 40/50\n",
      "50000/50000 [==============================] - 13s 260us/step - loss: 1.3196 - acc: 0.5274 - val_loss: 1.3280 - val_acc: 0.5266\n",
      "Epoch 41/50\n",
      "50000/50000 [==============================] - 13s 259us/step - loss: 1.3109 - acc: 0.5323 - val_loss: 1.3187 - val_acc: 0.5333\n",
      "Epoch 42/50\n",
      "50000/50000 [==============================] - 13s 260us/step - loss: 1.3072 - acc: 0.5340 - val_loss: 1.3215 - val_acc: 0.5309\n",
      "Epoch 43/50\n",
      "50000/50000 [==============================] - 14s 274us/step - loss: 1.2973 - acc: 0.5344 - val_loss: 1.3105 - val_acc: 0.5308\n",
      "Epoch 44/50\n",
      "50000/50000 [==============================] - 13s 263us/step - loss: 1.2844 - acc: 0.5406 - val_loss: 1.3227 - val_acc: 0.5348\n",
      "Epoch 45/50\n",
      "50000/50000 [==============================] - 13s 260us/step - loss: 1.2781 - acc: 0.5430 - val_loss: 1.3015 - val_acc: 0.5405\n",
      "Epoch 46/50\n",
      "50000/50000 [==============================] - 13s 263us/step - loss: 1.2675 - acc: 0.5471 - val_loss: 1.3091 - val_acc: 0.5380\n",
      "Epoch 47/50\n"
     ]
    },
    {
     "name": "stdout",
     "output_type": "stream",
     "text": [
      "50000/50000 [==============================] - 13s 251us/step - loss: 1.2648 - acc: 0.5483 - val_loss: 1.3073 - val_acc: 0.5340\n",
      "Epoch 48/50\n",
      "50000/50000 [==============================] - 13s 255us/step - loss: 1.2579 - acc: 0.5490 - val_loss: 1.2978 - val_acc: 0.5398\n",
      "Epoch 49/50\n",
      "50000/50000 [==============================] - 13s 255us/step - loss: 1.2532 - acc: 0.5494 - val_loss: 1.3070 - val_acc: 0.5393\n",
      "Epoch 50/50\n",
      "50000/50000 [==============================] - 13s 265us/step - loss: 1.2444 - acc: 0.5551 - val_loss: 1.3065 - val_acc: 0.5328\n"
     ]
    }
   ],
   "source": [
    "Dropout_EXP = 0.25\n",
    "\n",
    "results = {}\n",
    "\n",
    "model = build_mlp(input_shape=x_train.shape[1:], num_neurons=[1024, 512, 256, 128], drp_ratio=Dropout_EXP)\n",
    "model.summary()\n",
    "optimizer = keras.optimizers.SGD(lr=LEARNING_RATE, nesterov=True, momentum=MOMENTUM)\n",
    "model.compile(loss=\"categorical_crossentropy\", metrics=[\"acc\"], optimizer=optimizer)\n",
    "\n",
    "model.fit(x_train, y_train, \n",
    "          epochs=EPOCHS, \n",
    "          batch_size=BATCH_SIZE, \n",
    "          validation_data=(x_test, y_test), \n",
    "          shuffle=True)\n",
    "\n",
    "# Collect results\n",
    "train_loss = model.history.history[\"loss\"]\n",
    "valid_loss = model.history.history[\"val_loss\"]\n",
    "train_acc = model.history.history[\"acc\"]\n",
    "valid_acc = model.history.history[\"val_acc\"]"
   ]
  },
  {
   "cell_type": "code",
   "execution_count": 12,
   "metadata": {},
   "outputs": [
    {
     "data": {
      "image/png": "[encoded data removed]",
      "text/plain": [
       "<Figure size 432x288 with 1 Axes>"
      ]
     },
     "metadata": {
      "needs_background": "light"
     },
     "output_type": "display_data"
    },
    {
     "data": {
      "image/png": "[encoded data removed]",
      "text/plain": [
       "<Figure size 432x288 with 1 Axes>"
      ]
     },
     "metadata": {
      "needs_background": "light"
     },
     "output_type": "display_data"
    }
   ],
   "source": [
    "plt.plot(range(len(train_loss)), train_loss, label=\"train loss\")\n",
    "plt.plot(range(len(valid_loss)), valid_loss, label=\"valid loss\")\n",
    "plt.legend()\n",
    "plt.title(\"Loss\")\n",
    "plt.show()\n",
    "\n",
    "plt.plot(range(len(train_acc)), train_acc, label=\"train accuracy\")\n",
    "plt.plot(range(len(valid_acc)), valid_acc, label=\"valid accuracy\")\n",
    "plt.legend()\n",
    "plt.title(\"Accuracy\")\n",
    "plt.show()"
   ]
  },
  {
   "cell_type": "markdown",
   "metadata": {},
   "source": [
    "# Adam"
   ]
  },
  {
   "cell_type": "code",
   "execution_count": 13,
   "metadata": {},
   "outputs": [
    {
     "name": "stdout",
     "output_type": "stream",
     "text": [
      "Model: \"model_3\"\n",
      "_________________________________________________________________\n",
      "Layer (type)                 Output Shape              Param #   \n",
      "=================================================================\n",
      "input_4 (InputLayer)         (None, 3072)              0         \n",
      "_________________________________________________________________\n",
      "hidden_layer1 (Dense)        (None, 512)               1573376   \n",
      "_________________________________________________________________\n",
      "dropout_8 (Dropout)          (None, 512)               0         \n",
      "_________________________________________________________________\n",
      "hidden_layer2 (Dense)        (None, 256)               131328    \n",
      "_________________________________________________________________\n",
      "dropout_9 (Dropout)          (None, 256)               0         \n",
      "_________________________________________________________________\n",
      "hidden_layer3 (Dense)        (None, 128)               32896     \n",
      "_________________________________________________________________\n",
      "dropout_10 (Dropout)         (None, 128)               0         \n",
      "_________________________________________________________________\n",
      "output (Dense)               (None, 10)                1290      \n",
      "=================================================================\n",
      "Total params: 1,738,890\n",
      "Trainable params: 1,738,890\n",
      "Non-trainable params: 0\n",
      "_________________________________________________________________\n",
      "Train on 50000 samples, validate on 10000 samples\n",
      "Epoch 1/50\n",
      "50000/50000 [==============================] - 7s 141us/step - loss: 2.0687 - acc: 0.2314 - val_loss: 1.8604 - val_acc: 0.3297\n",
      "Epoch 2/50\n",
      "50000/50000 [==============================] - 7s 141us/step - loss: 1.8854 - acc: 0.3154 - val_loss: 1.7894 - val_acc: 0.3580\n",
      "Epoch 3/50\n",
      "50000/50000 [==============================] - 7s 140us/step - loss: 1.8243 - acc: 0.3372 - val_loss: 1.7112 - val_acc: 0.3912\n",
      "Epoch 4/50\n",
      "50000/50000 [==============================] - 7s 144us/step - loss: 1.7971 - acc: 0.3468 - val_loss: 1.6872 - val_acc: 0.4035\n",
      "Epoch 5/50\n",
      "50000/50000 [==============================] - 7s 147us/step - loss: 1.7567 - acc: 0.3645 - val_loss: 1.6828 - val_acc: 0.3992\n",
      "Epoch 6/50\n",
      "50000/50000 [==============================] - 8s 151us/step - loss: 1.7389 - acc: 0.3716 - val_loss: 1.6561 - val_acc: 0.4088\n",
      "Epoch 7/50\n",
      "50000/50000 [==============================] - 7s 148us/step - loss: 1.7159 - acc: 0.3771 - val_loss: 1.6653 - val_acc: 0.4123\n",
      "Epoch 8/50\n",
      "50000/50000 [==============================] - 7s 148us/step - loss: 1.7069 - acc: 0.3813 - val_loss: 1.6329 - val_acc: 0.4157\n",
      "Epoch 9/50\n",
      "50000/50000 [==============================] - 7s 148us/step - loss: 1.6934 - acc: 0.3873 - val_loss: 1.6059 - val_acc: 0.4361\n",
      "Epoch 10/50\n",
      "50000/50000 [==============================] - 7s 148us/step - loss: 1.6738 - acc: 0.3951 - val_loss: 1.5938 - val_acc: 0.4388\n",
      "Epoch 11/50\n",
      "50000/50000 [==============================] - 7s 150us/step - loss: 1.6690 - acc: 0.3966 - val_loss: 1.5982 - val_acc: 0.4332\n",
      "Epoch 12/50\n",
      "50000/50000 [==============================] - 7s 147us/step - loss: 1.6551 - acc: 0.4027 - val_loss: 1.5856 - val_acc: 0.4365\n",
      "Epoch 13/50\n",
      "50000/50000 [==============================] - 7s 148us/step - loss: 1.6450 - acc: 0.4054 - val_loss: 1.6016 - val_acc: 0.4346\n",
      "Epoch 14/50\n",
      "50000/50000 [==============================] - 7s 147us/step - loss: 1.6365 - acc: 0.4087 - val_loss: 1.5709 - val_acc: 0.4529\n",
      "Epoch 15/50\n",
      "50000/50000 [==============================] - 7s 148us/step - loss: 1.6224 - acc: 0.4148 - val_loss: 1.5578 - val_acc: 0.4420\n",
      "Epoch 16/50\n",
      "50000/50000 [==============================] - 7s 148us/step - loss: 1.6185 - acc: 0.4157 - val_loss: 1.5476 - val_acc: 0.4493\n",
      "Epoch 17/50\n",
      "50000/50000 [==============================] - 7s 148us/step - loss: 1.6203 - acc: 0.4154 - val_loss: 1.5646 - val_acc: 0.4449\n",
      "Epoch 18/50\n",
      "50000/50000 [==============================] - 7s 147us/step - loss: 1.6100 - acc: 0.4195 - val_loss: 1.5403 - val_acc: 0.4603\n",
      "Epoch 19/50\n",
      "50000/50000 [==============================] - 7s 149us/step - loss: 1.5946 - acc: 0.4248 - val_loss: 1.5488 - val_acc: 0.4543\n",
      "Epoch 20/50\n",
      "50000/50000 [==============================] - 7s 150us/step - loss: 1.5948 - acc: 0.4252 - val_loss: 1.5357 - val_acc: 0.4583\n",
      "Epoch 21/50\n",
      "50000/50000 [==============================] - 7s 149us/step - loss: 1.5921 - acc: 0.4262 - val_loss: 1.5415 - val_acc: 0.4532\n",
      "Epoch 22/50\n",
      "50000/50000 [==============================] - 7s 148us/step - loss: 1.5868 - acc: 0.4277 - val_loss: 1.5255 - val_acc: 0.4613\n",
      "Epoch 23/50\n",
      "50000/50000 [==============================] - 7s 148us/step - loss: 1.5704 - acc: 0.4333 - val_loss: 1.5274 - val_acc: 0.4611\n",
      "Epoch 24/50\n",
      "50000/50000 [==============================] - 7s 149us/step - loss: 1.5637 - acc: 0.4370 - val_loss: 1.5481 - val_acc: 0.4469\n",
      "Epoch 25/50\n",
      "50000/50000 [==============================] - 7s 148us/step - loss: 1.5648 - acc: 0.4356 - val_loss: 1.5085 - val_acc: 0.4669\n",
      "Epoch 26/50\n",
      "50000/50000 [==============================] - 7s 149us/step - loss: 1.5582 - acc: 0.4393 - val_loss: 1.5123 - val_acc: 0.4668\n",
      "Epoch 27/50\n",
      "50000/50000 [==============================] - 7s 148us/step - loss: 1.5483 - acc: 0.4410 - val_loss: 1.5145 - val_acc: 0.4612\n",
      "Epoch 28/50\n",
      "50000/50000 [==============================] - 7s 148us/step - loss: 1.5510 - acc: 0.4404 - val_loss: 1.5055 - val_acc: 0.4642\n",
      "Epoch 29/50\n",
      "50000/50000 [==============================] - 8s 151us/step - loss: 1.5445 - acc: 0.4424 - val_loss: 1.5115 - val_acc: 0.4695\n",
      "Epoch 30/50\n",
      "50000/50000 [==============================] - 7s 148us/step - loss: 1.5321 - acc: 0.4483 - val_loss: 1.4879 - val_acc: 0.4718\n",
      "Epoch 31/50\n",
      "50000/50000 [==============================] - 7s 148us/step - loss: 1.5329 - acc: 0.4475 - val_loss: 1.5088 - val_acc: 0.4706\n",
      "Epoch 32/50\n",
      "50000/50000 [==============================] - 7s 149us/step - loss: 1.5333 - acc: 0.4456 - val_loss: 1.4918 - val_acc: 0.4710\n",
      "Epoch 33/50\n",
      "50000/50000 [==============================] - 8s 151us/step - loss: 1.5301 - acc: 0.4477 - val_loss: 1.4883 - val_acc: 0.4769\n",
      "Epoch 34/50\n",
      "50000/50000 [==============================] - 7s 149us/step - loss: 1.5248 - acc: 0.4520 - val_loss: 1.4809 - val_acc: 0.4758\n",
      "Epoch 35/50\n",
      "50000/50000 [==============================] - 7s 149us/step - loss: 1.5248 - acc: 0.4551 - val_loss: 1.5049 - val_acc: 0.4677\n",
      "Epoch 36/50\n",
      "50000/50000 [==============================] - 7s 149us/step - loss: 1.5207 - acc: 0.4520 - val_loss: 1.4776 - val_acc: 0.4739\n",
      "Epoch 37/50\n",
      "50000/50000 [==============================] - 8s 153us/step - loss: 1.5120 - acc: 0.4565 - val_loss: 1.4517 - val_acc: 0.4850\n",
      "Epoch 38/50\n",
      "50000/50000 [==============================] - 7s 150us/step - loss: 1.5094 - acc: 0.4568 - val_loss: 1.4860 - val_acc: 0.4788\n",
      "Epoch 39/50\n",
      "50000/50000 [==============================] - 7s 149us/step - loss: 1.5102 - acc: 0.4588 - val_loss: 1.5062 - val_acc: 0.4734\n",
      "Epoch 40/50\n",
      "50000/50000 [==============================] - 8s 150us/step - loss: 1.5019 - acc: 0.4608 - val_loss: 1.4692 - val_acc: 0.4747\n",
      "Epoch 41/50\n",
      "50000/50000 [==============================] - 7s 149us/step - loss: 1.5030 - acc: 0.4601 - val_loss: 1.4613 - val_acc: 0.4874\n",
      "Epoch 42/50\n",
      "50000/50000 [==============================] - 8s 150us/step - loss: 1.4911 - acc: 0.4639 - val_loss: 1.4577 - val_acc: 0.4873\n",
      "Epoch 43/50\n",
      "50000/50000 [==============================] - 7s 149us/step - loss: 1.5002 - acc: 0.4618 - val_loss: 1.4565 - val_acc: 0.4896\n",
      "Epoch 44/50\n",
      "50000/50000 [==============================] - 7s 149us/step - loss: 1.4967 - acc: 0.4617 - val_loss: 1.4635 - val_acc: 0.4771\n",
      "Epoch 45/50\n",
      "50000/50000 [==============================] - 7s 150us/step - loss: 1.4927 - acc: 0.4645 - val_loss: 1.4745 - val_acc: 0.4783\n",
      "Epoch 46/50\n",
      "50000/50000 [==============================] - 7s 150us/step - loss: 1.4844 - acc: 0.4668 - val_loss: 1.4638 - val_acc: 0.4853\n",
      "Epoch 47/50\n",
      "50000/50000 [==============================] - 7s 149us/step - loss: 1.4839 - acc: 0.4687 - val_loss: 1.4539 - val_acc: 0.4898\n",
      "Epoch 48/50\n",
      "50000/50000 [==============================] - 7s 149us/step - loss: 1.4794 - acc: 0.4683 - val_loss: 1.4843 - val_acc: 0.4770\n",
      "Epoch 49/50\n"
     ]
    },
    {
     "name": "stdout",
     "output_type": "stream",
     "text": [
      "50000/50000 [==============================] - 7s 145us/step - loss: 1.4857 - acc: 0.4666 - val_loss: 1.4486 - val_acc: 0.4954\n",
      "Epoch 50/50\n",
      "50000/50000 [==============================] - 7s 145us/step - loss: 1.4767 - acc: 0.4695 - val_loss: 1.4683 - val_acc: 0.4810\n"
     ]
    }
   ],
   "source": [
    "results = {}\n",
    "\"\"\"Code Here\n",
    "撰寫你的訓練流程並將結果用 dictionary 紀錄\n",
    "\"\"\"\n",
    "model = build_mlp(input_shape=x_train.shape[1:], drp_ratio=Dropout_EXP)\n",
    "model.summary()\n",
    "optimizer = keras.optimizers.Adam(learning_rate=LEARNING_RATE)\n",
    "model.compile(loss=\"categorical_crossentropy\", metrics=[\"acc\"], optimizer=optimizer)\n",
    "\n",
    "model.fit(x_train, y_train, \n",
    "          epochs=EPOCHS, \n",
    "          batch_size=BATCH_SIZE, \n",
    "          validation_data=(x_test, y_test), \n",
    "          shuffle=True)\n",
    "\n",
    "# Collect results\n",
    "train_loss = model.history.history[\"loss\"]\n",
    "valid_loss = model.history.history[\"val_loss\"]\n",
    "train_acc = model.history.history[\"acc\"]\n",
    "valid_acc = model.history.history[\"val_acc\"]"
   ]
  },
  {
   "cell_type": "code",
   "execution_count": 14,
   "metadata": {},
   "outputs": [
    {
     "data": {
      "image/png": "[encoded data removed]",
      "text/plain": [
       "<Figure size 432x288 with 1 Axes>"
      ]
     },
     "metadata": {
      "needs_background": "light"
     },
     "output_type": "display_data"
    },
    {
     "data": {
      "image/png": "[encoded data removed]",
      "text/plain": [
       "<Figure size 432x288 with 1 Axes>"
      ]
     },
     "metadata": {
      "needs_background": "light"
     },
     "output_type": "display_data"
    }
   ],
   "source": [
    "plt.plot(range(len(train_loss)), train_loss, label=\"train loss\")\n",
    "plt.plot(range(len(valid_loss)), valid_loss, label=\"valid loss\")\n",
    "plt.legend()\n",
    "plt.title(\"Loss\")\n",
    "plt.show()\n",
    "\n",
    "plt.plot(range(len(train_acc)), train_acc, label=\"train accuracy\")\n",
    "plt.plot(range(len(valid_acc)), valid_acc, label=\"valid accuracy\")\n",
    "plt.legend()\n",
    "plt.title(\"Accuracy\")\n",
    "plt.show()"
   ]
  },
  {
   "cell_type": "code",
   "execution_count": null,
   "metadata": {},
   "outputs": [],
   "source": []
  }
 ],
 "metadata": {
  "kernelspec": {
   "display_name": "Python 3",
   "language": "python",
   "name": "python3"
  },
  "language_info": {
   "codemirror_mode": {
    "name": "ipython",
    "version": 3
   },
   "file_extension": ".py",
   "mimetype": "text/x-python",
   "name": "python",
   "nbconvert_exporter": "python",
   "pygments_lexer": "ipython3",
   "version": "3.7.4"
  }
 },
 "nbformat": 4,
 "nbformat_minor": 2
}
