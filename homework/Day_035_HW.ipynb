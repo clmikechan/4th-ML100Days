{
 "cells": [
  {
   "cell_type": "markdown",
   "metadata": {},
   "source": [
    "## 練習時間\n",
    "相信大家對回歸問題及分類問題都有初步的了解。今天的作業希望大家搜尋有關 multi-label 的案例問題。下圖是電影 \"奇異博士\" 的分類。可以看到同時有 \"Action\", \"Adventure\", \"Fantasy\" 的類別存在，代表這是個多標籤的問題。 "
   ]
  },
  {
   "cell_type": "markdown",
   "metadata": {},
   "source": [
    "![image](https://cdn-images-1.medium.com/max/1000/1*r0gYXMSQf5VhdMyl2bRDyg.png)"
   ]
  },
  {
   "cell_type": "markdown",
   "metadata": {},
   "source": [
    "## 請搜尋目標為多標籤問題 (Multi-label) 的機器學習案例，了解其資料來源、目標以及評估指標為何\n",
    "## Hint: 服飾\n",
    "\n",
    "### Ans:\n",
    "* 資料集: [wikipedia-promotional-articles]\n",
    "* 資料來源: [All_articles_with_a_promotional_tone]\n",
    "* 目標 & 評估指標: 同一個資料集還有另一個表單是 Goog article, 應此此資料集應該是用來評估 wiki 百科上那些文章會被判定是廣告文, 而此資料及提取的被判定是廣告文的標籤有\n",
    "> 1. advertWritten: 看起來像是廣告文\n",
    "> 2. coi: 利益衝突\n",
    "> 3. fanpov: 粉絲觀點文章\n",
    "> 4. prReads: 看起來像是新聞稿的文章\n",
    "> 5. resume: 看起來像是履歷的文章\n",
    "\n",
    "[wikipedia-promotional-articles]: https://www.kaggle.com/urbanbricks/wikipedia-promotional-articles#promotional.csv \"promotional\"\n",
    "\n",
    "[All_articles_with_a_promotional_tone]: https://en.wikipedia.org/wiki/Category:All_articles_with_a_promotional_tone \"All_articles_with_a_promotional_tone\""
   ]
  }
 ],
 "metadata": {
  "kernelspec": {
   "display_name": "Python 3",
   "language": "python",
   "name": "python3"
  },
  "language_info": {
   "codemirror_mode": {
    "name": "ipython",
    "version": 3
   },
   "file_extension": ".py",
   "mimetype": "text/x-python",
   "name": "python",
   "nbconvert_exporter": "python",
   "pygments_lexer": "ipython3",
   "version": "3.7.4"
  }
 },
 "nbformat": 4,
 "nbformat_minor": 2
}
