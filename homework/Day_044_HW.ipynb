{
 "cells": [
  {
   "cell_type": "markdown",
   "metadata": {},
   "source": [
    "## [作業重點]\n",
    "確保你了解隨機森林模型中每個超參數的意義，並觀察調整超參數對結果的影響"
   ]
  },
  {
   "cell_type": "markdown",
   "metadata": {},
   "source": [
    "## 作業\n",
    "\n",
    "1. 試著調整 RandomForestClassifier(...) 中的參數，並觀察是否會改變結果？\n",
    "2. 改用其他資料集 (boston, wine)，並與回歸模型與決策樹的結果進行比較"
   ]
  },
  {
   "cell_type": "code",
   "execution_count": 1,
   "metadata": {},
   "outputs": [],
   "source": [
    "from sklearn import datasets, metrics, linear_model\n",
    "from sklearn.ensemble import RandomForestClassifier, RandomForestRegressor\n",
    "from sklearn.tree import DecisionTreeClassifier\n",
    "from sklearn.model_selection import train_test_split"
   ]
  },
  {
   "cell_type": "code",
   "execution_count": 2,
   "metadata": {},
   "outputs": [],
   "source": [
    "# 讀取鳶尾花資料集\n",
    "iris = datasets.load_iris()\n",
    "\n",
    "# 切分訓練集/測試集\n",
    "def rfi(n_estimators, max_depth):\n",
    "    x_train, x_test, y_train, y_test = train_test_split(iris.data, iris.target, test_size=0.25, random_state=4)\n",
    "\n",
    "    # 建立模型\n",
    "    clf = RandomForestClassifier(n_estimators=n_estimators, max_depth=max_depth)\n",
    "\n",
    "    # 訓練模型\n",
    "    clf.fit(x_train, y_train)\n",
    "\n",
    "    # 預測測試集\n",
    "    y_pred = clf.predict(x_test)\n",
    "    acc = metrics.accuracy_score(y_test, y_pred)\n",
    "    print(f\"n_estimators = {n_estimators:>4d}, max_depth = {max_depth:>4d},Accuracy: {acc}\")"
   ]
  },
  {
   "cell_type": "code",
   "execution_count": 3,
   "metadata": {},
   "outputs": [
    {
     "name": "stdout",
     "output_type": "stream",
     "text": [
      "n_estimators =   20, max_depth =    4,Accuracy: 0.9736842105263158\n",
      "n_estimators =  200, max_depth =    4,Accuracy: 0.9736842105263158\n",
      "n_estimators =  100, max_depth =  100,Accuracy: 0.9736842105263158\n",
      "n_estimators = 1000, max_depth =   10,Accuracy: 0.9736842105263158\n"
     ]
    }
   ],
   "source": [
    "rfi(20, 4)\n",
    "rfi(200, 4)\n",
    "rfi(100, 100)\n",
    "rfi(1000, 10)"
   ]
  },
  {
   "cell_type": "markdown",
   "metadata": {},
   "source": [
    "可能因為訓練集只有四種變數, 所以改變效果不顯著"
   ]
  },
  {
   "cell_type": "markdown",
   "metadata": {},
   "source": [
    "2. 改用其他資料集"
   ]
  },
  {
   "cell_type": "code",
   "execution_count": 4,
   "metadata": {},
   "outputs": [
    {
     "name": "stderr",
     "output_type": "stream",
     "text": [
      "C:\\Users\\mhchan\\AppData\\Roaming\\Python\\Python37\\site-packages\\sklearn\\ensemble\\forest.py:245: FutureWarning: The default value of n_estimators will change from 10 in version 0.20 to 100 in 0.22.\n",
      "  \"10 in version 0.20 to 100 in 0.22.\", FutureWarning)\n"
     ]
    },
    {
     "name": "stdout",
     "output_type": "stream",
     "text": [
      "Random Forest Accuracy:  0.9211188811188811\n",
      "Decision Tree Accuracy:  0.895384615384615\n"
     ]
    }
   ],
   "source": [
    "# 讀取資料集\n",
    "breast_cancer = datasets.load_breast_cancer()\n",
    "# 建立模型\n",
    "rf = RandomForestClassifier()\n",
    "dt = DecisionTreeClassifier()\n",
    "forest = []\n",
    "decision = []\n",
    "# 各跑 100 次比平均值\n",
    "for i in range(100):\n",
    "    x_train, x_test, y_train, y_test = train_test_split(breast_cancer.data, breast_cancer.target, test_size=0.25, random_state=4)\n",
    "    # 隨機森林 \n",
    "    rf.fit(x_train, y_train)\n",
    "    y_pred = rf.predict(x_test)\n",
    "    acc = metrics.accuracy_score(y_test, y_pred)\n",
    "    #print(\"Accuracy: \", acc)\n",
    "    forest.append(acc)\n",
    "    # 決策樹 \n",
    "    dt.fit(x_train, y_train)\n",
    "    y_pred = dt.predict(x_test)\n",
    "    acc = metrics.accuracy_score(y_test, y_pred)\n",
    "    #print(\"Accuracy: \", acc)\n",
    "    decision.append(acc)\n",
    "print(\"Random Forest Accuracy: \", sum(forest)/100)\n",
    "print(\"Decision Tree Accuracy: \", sum(decision)/100)"
   ]
  },
  {
   "cell_type": "markdown",
   "metadata": {},
   "source": [
    "隨機森林的效果是有比較好"
   ]
  },
  {
   "cell_type": "code",
   "execution_count": 5,
   "metadata": {},
   "outputs": [
    {
     "name": "stderr",
     "output_type": "stream",
     "text": [
      "C:\\Users\\mhchan\\AppData\\Roaming\\Python\\Python37\\site-packages\\sklearn\\ensemble\\forest.py:245: FutureWarning: The default value of n_estimators will change from 10 in version 0.20 to 100 in 0.22.\n",
      "  \"10 in version 0.20 to 100 in 0.22.\", FutureWarning)\n"
     ]
    },
    {
     "name": "stdout",
     "output_type": "stream",
     "text": [
      "Random Forest Accuracy:  16.197492637795275\n",
      "Decision Tree Accuracy:  0.895384615384615\n"
     ]
    }
   ],
   "source": [
    "# 讀取資料集\n",
    "boston = datasets.load_boston()\n",
    "# 建立模型\n",
    "rf = RandomForestRegressor()\n",
    "l = linear_model.LinearRegression()\n",
    "forest = []\n",
    "linear = []\n",
    "# 各跑 100 次比平均值\n",
    "for i in range(100):\n",
    "    x_train, x_test, y_train, y_test = train_test_split(boston.data, boston.target, test_size=0.25, random_state=4)\n",
    "    # 隨機森林 \n",
    "    rf.fit(x_train, y_train)\n",
    "    y_pred = rf.predict(x_test)\n",
    "    acc = metrics.mean_squared_error(y_test, y_pred)\n",
    "    #print(\"Accuracy: \", acc)\n",
    "    forest.append(acc)\n",
    "\n",
    "    # 線性回歸 \n",
    "    l.fit(x_train, y_train)\n",
    "    y_pred = l.predict(x_test)\n",
    "    acc = metrics.mean_squared_error(y_test, y_pred)\n",
    "    #print(\"Accuracy: \", acc)\n",
    "    linear.append(acc)\n",
    "print(\"Random Forest Accuracy: \", sum(forest)/100)\n",
    "print(\"Decision Tree Accuracy: \", sum(decision)/100)"
   ]
  },
  {
   "cell_type": "markdown",
   "metadata": {},
   "source": [
    "但是跑回歸的話效果就不如線性回歸"
   ]
  }
 ],
 "metadata": {
  "kernelspec": {
   "display_name": "Python 3",
   "language": "python",
   "name": "python3"
  },
  "language_info": {
   "codemirror_mode": {
    "name": "ipython",
    "version": 3
   },
   "file_extension": ".py",
   "mimetype": "text/x-python",
   "name": "python",
   "nbconvert_exporter": "python",
   "pygments_lexer": "ipython3",
   "version": "3.7.4"
  }
 },
 "nbformat": 4,
 "nbformat_minor": 2
}
